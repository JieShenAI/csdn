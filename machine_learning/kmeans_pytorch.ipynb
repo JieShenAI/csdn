{
  "cells": [
    {
      "cell_type": "code",
      "execution_count": null,
      "metadata": {
        "id": "1gpe8GuQPbPv"
      },
      "outputs": [],
      "source": [
        "!pip install kmeans-pytorch text2vec"
      ]
    },
    {
      "cell_type": "code",
      "execution_count": 3,
      "metadata": {
        "id": "Lfw1zt31RqNs"
      },
      "outputs": [],
      "source": [
        "import torch\n",
        "import numpy as np\n",
        "\n",
        "from kmeans_pytorch import kmeans\n",
        "from text2vec import SentenceModel"
      ]
    },
    {
      "cell_type": "markdown",
      "metadata": {
        "id": "IIw_Sb-0Z4e9"
      },
      "source": [
        "embedding"
      ]
    },
    {
      "cell_type": "code",
      "execution_count": null,
      "metadata": {
        "id": "hPWWeJKJZ4OD"
      },
      "outputs": [],
      "source": [
        "embedder = SentenceModel()"
      ]
    },
    {
      "cell_type": "code",
      "execution_count": 9,
      "metadata": {
        "id": "7AJ0Ttruapkf"
      },
      "outputs": [],
      "source": [
        "# Corpus with example sentences\n",
        "corpus = [\n",
        "    '花呗更改绑定银行卡',\n",
        "    '我什么时候开通了花呗',\n",
        "    'A man is eating food.',\n",
        "    'A man is eating a piece of bread.',\n",
        "    'The girl is carrying a baby.',\n",
        "    'A man is riding a horse.',\n",
        "    'A woman is playing violin.',\n",
        "    'Two men pushed carts through the woods.',\n",
        "    'A man is riding a white horse on an enclosed ground.',\n",
        "]\n",
        "corpus_embeddings = embedder.encode(corpus)"
      ]
    },
    {
      "cell_type": "code",
      "execution_count": 13,
      "metadata": {
        "id": "r_isb7BVbClX"
      },
      "outputs": [],
      "source": [
        "corpus_embeddings = torch.from_numpy(corpus_embeddings)"
      ]
    },
    {
      "cell_type": "code",
      "execution_count": 15,
      "metadata": {
        "colab": {
          "base_uri": "https://localhost:8080/"
        },
        "id": "2Q7b9JI0bHai",
        "outputId": "7c79ea8c-15e6-44b6-9e45-86c97ead6bdc"
      },
      "outputs": [
        {
          "data": {
            "text/plain": [
              "(torch.Tensor, torch.Size([9, 768]))"
            ]
          },
          "execution_count": 15,
          "metadata": {},
          "output_type": "execute_result"
        }
      ],
      "source": [
        "type(corpus_embeddings), corpus_embeddings.shape"
      ]
    },
    {
      "cell_type": "code",
      "execution_count": 16,
      "metadata": {
        "colab": {
          "base_uri": "https://localhost:8080/"
        },
        "id": "ZJUX8ANoPWGO",
        "outputId": "dfa26dca-a91d-4721-e14f-bbb8706a6798"
      },
      "outputs": [
        {
          "name": "stdout",
          "output_type": "stream",
          "text": [
            "running k-means on cuda:0..\n"
          ]
        },
        {
          "name": "stderr",
          "output_type": "stream",
          "text": [
            "[running kmeans]: 2it [00:00,  9.55it/s, center_shift=0.000000, iteration=2, tol=0.000100]\n"
          ]
        }
      ],
      "source": [
        "# kmeans\n",
        "cluster_ids_x, cluster_centers = kmeans(\n",
        "    X=corpus_embeddings,\n",
        "    num_clusters=3,\n",
        "    distance='euclidean',\n",
        "    device=torch.device('cuda:0')\n",
        ")"
      ]
    },
    {
      "cell_type": "code",
      "execution_count": 17,
      "metadata": {
        "colab": {
          "base_uri": "https://localhost:8080/"
        },
        "id": "LmTw43JNRt6d",
        "outputId": "bd92e257-c673-409b-abe0-3dbff4c52c2a"
      },
      "outputs": [
        {
          "data": {
            "text/plain": [
              "tensor([2, 2, 1, 1, 0, 1, 0, 1, 1])"
            ]
          },
          "execution_count": 17,
          "metadata": {},
          "output_type": "execute_result"
        }
      ],
      "source": [
        "cluster_ids_x"
      ]
    },
    {
      "cell_type": "code",
      "execution_count": 18,
      "metadata": {
        "colab": {
          "base_uri": "https://localhost:8080/"
        },
        "id": "g4L_u38YcJ5z",
        "outputId": "c2c62dcd-c647-4076-faee-30423f357ed2"
      },
      "outputs": [
        {
          "data": {
            "text/plain": [
              "tensor([[ 0.2819, -1.1449,  0.2388,  ..., -0.7908, -1.7649, -0.1390],\n",
              "        [ 0.2802, -0.2230,  0.1945,  ...,  0.0356, -1.1100,  0.3093],\n",
              "        [ 0.3271, -0.2714,  0.9217,  ..., -0.6270, -0.1306, -0.0952]])"
            ]
          },
          "execution_count": 18,
          "metadata": {},
          "output_type": "execute_result"
        }
      ],
      "source": [
        "cluster_centers"
      ]
    },
    {
      "cell_type": "code",
      "execution_count": 21,
      "metadata": {
        "colab": {
          "base_uri": "https://localhost:8080/"
        },
        "id": "vPh4xg9QcvwR",
        "outputId": "7ee25464-9fc2-4c96-8f99-b745fef5c895"
      },
      "outputs": [
        {
          "data": {
            "text/plain": [
              "{0: ['The girl is carrying a baby.', 'A woman is playing violin.'],\n",
              " 1: ['A man is eating food.',\n",
              "  'A man is eating a piece of bread.',\n",
              "  'A man is riding a horse.',\n",
              "  'Two men pushed carts through the woods.',\n",
              "  'A man is riding a white horse on an enclosed ground.'],\n",
              " 2: ['花呗更改绑定银行卡', '我什么时候开通了花呗']}"
            ]
          },
          "execution_count": 21,
          "metadata": {},
          "output_type": "execute_result"
        }
      ],
      "source": [
        "class_data = {\n",
        "    i:[]\n",
        "    for i in range(3)\n",
        "}\n",
        "\n",
        "for text,cls in zip(corpus, cluster_ids_x):\n",
        "    class_data[cls.item()].append(text)\n",
        "\n",
        "class_data"
      ]
    }
  ],
  "metadata": {
    "accelerator": "GPU",
    "colab": {
      "gpuType": "T4",
      "provenance": []
    },
    "kernelspec": {
      "display_name": "Python 3",
      "name": "python3"
    },
    "language_info": {
      "name": "python"
    }
  },
  "nbformat": 4,
  "nbformat_minor": 0
}
