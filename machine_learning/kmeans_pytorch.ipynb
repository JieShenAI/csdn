{
  "cells": [
    {
      "cell_type": "code",
      "execution_count": null,
      "metadata": {
        "id": "1gpe8GuQPbPv"
      },
      "outputs": [],
      "source": [
        "!pip install fast-pytorch-kmeans kmeans_pytorch text2vec"
      ]
    },
    {
      "cell_type": "code",
      "execution_count": 21,
      "metadata": {
        "id": "Lfw1zt31RqNs"
      },
      "outputs": [],
      "source": [
        "import torch\n",
        "import numpy as np\n",
        "\n",
        "from kmeans_pytorch import kmeans\n",
        "from text2vec import SentenceModel"
      ]
    },
    {
      "cell_type": "markdown",
      "metadata": {
        "id": "IIw_Sb-0Z4e9"
      },
      "source": [
        "embedding"
      ]
    },
    {
      "cell_type": "markdown",
      "source": [
        "## 文本编码"
      ],
      "metadata": {
        "id": "e-YygM7JToyA"
      }
    },
    {
      "cell_type": "code",
      "execution_count": 22,
      "metadata": {
        "id": "hPWWeJKJZ4OD",
        "colab": {
          "base_uri": "https://localhost:8080/"
        },
        "outputId": "763de10d-db56-46cc-a8f8-277c7ec0b585"
      },
      "outputs": [
        {
          "output_type": "stream",
          "name": "stderr",
          "text": [
            "\u001b[32m2024-03-14 09:30:34.174\u001b[0m | \u001b[34m\u001b[1mDEBUG   \u001b[0m | \u001b[36mtext2vec.sentence_model\u001b[0m:\u001b[36m__init__\u001b[0m:\u001b[36m80\u001b[0m - \u001b[34m\u001b[1mUse device: cuda\u001b[0m\n"
          ]
        }
      ],
      "source": [
        "embedder = SentenceModel()"
      ]
    },
    {
      "cell_type": "code",
      "execution_count": 23,
      "metadata": {
        "id": "7AJ0Ttruapkf"
      },
      "outputs": [],
      "source": [
        "# Corpus with example sentences\n",
        "corpus = [\n",
        "    '花呗更改绑定银行卡',\n",
        "    '我什么时候开通了花呗',\n",
        "    'A man is eating food.',\n",
        "    'A man is eating a piece of bread.',\n",
        "    'The girl is carrying a baby.',\n",
        "    'A man is riding a horse.',\n",
        "    'A woman is playing violin.',\n",
        "    'Two men pushed carts through the woods.',\n",
        "    'A man is riding a white horse on an enclosed ground.',\n",
        "]\n",
        "corpus_embeddings = embedder.encode(corpus)"
      ]
    },
    {
      "cell_type": "code",
      "execution_count": 24,
      "metadata": {
        "id": "r_isb7BVbClX"
      },
      "outputs": [],
      "source": [
        "corpus_embeddings = torch.from_numpy(corpus_embeddings).to('cuda')"
      ]
    },
    {
      "cell_type": "code",
      "execution_count": 25,
      "metadata": {
        "colab": {
          "base_uri": "https://localhost:8080/"
        },
        "id": "2Q7b9JI0bHai",
        "outputId": "0959c2b8-e708-4ebd-b00a-b8b6f2ba51cb"
      },
      "outputs": [
        {
          "output_type": "execute_result",
          "data": {
            "text/plain": [
              "(torch.Tensor, torch.Size([9, 768]))"
            ]
          },
          "metadata": {},
          "execution_count": 25
        }
      ],
      "source": [
        "type(corpus_embeddings), corpus_embeddings.shape"
      ]
    },
    {
      "cell_type": "code",
      "source": [
        "num_class = 3 # 分类类别数"
      ],
      "metadata": {
        "id": "xk-70HADT5XY"
      },
      "execution_count": 38,
      "outputs": []
    },
    {
      "cell_type": "markdown",
      "source": [
        "## 聚类可视化类"
      ],
      "metadata": {
        "id": "3NP3OQL5UAX1"
      }
    },
    {
      "cell_type": "code",
      "source": [
        "from sklearn.decomposition import PCA\n",
        "import matplotlib.pyplot as plt\n",
        "\n",
        "class KMeansPlot:\n",
        "\n",
        "    def __init__(self, numClass=4, func_type='PCA'):\n",
        "        if func_type == 'PCA':\n",
        "            self.func_plot = PCA(n_components=2)\n",
        "        elif func_type == 'TSNE':\n",
        "            from sklearn.manifold import TSNE\n",
        "            self.func_plot = TSNE(2)\n",
        "        self.numClass = numClass\n",
        "\n",
        "    def plot_cluster(self, result, pos, cluster_centers=None):\n",
        "        plt.figure(2)\n",
        "        Lab = [[] for i in range(self.numClass)]\n",
        "        index = 0\n",
        "        for labi in result:\n",
        "            Lab[labi].append(index)\n",
        "            index += 1\n",
        "        color = ['oy', 'ob', 'og', 'cs', 'ms', 'bs', 'ks', 'ys', 'yv', 'mv', 'bv', 'kv', 'gv', 'y^', 'm^', 'b^', 'k^',\n",
        "                    'g^'] * 3\n",
        "\n",
        "        for i in range(self.numClass):\n",
        "            x1 = []\n",
        "            y1 = []\n",
        "            for ind1 in pos[Lab[i]]:\n",
        "                # print ind1\n",
        "                try:\n",
        "                    y1.append(ind1[1])\n",
        "                    x1.append(ind1[0])\n",
        "                except:\n",
        "                    pass\n",
        "            plt.plot(x1, y1, color[i])\n",
        "\n",
        "        if cluster_centers is not None:\n",
        "            #绘制初始中心点\n",
        "            x1 = []\n",
        "            y1 = []\n",
        "\n",
        "            for ind1 in cluster_centers:\n",
        "                try:\n",
        "                    y1.append(ind1[1])\n",
        "                    x1.append(ind1[0])\n",
        "                except:\n",
        "                    pass\n",
        "\n",
        "            plt.plot(x1, y1, \"rv\") #绘制中心\n",
        "        plt.show()\n",
        "\n",
        "    def plot(self, weight, label, cluster_centers=None):\n",
        "        pos = self.func_plot.fit_transform(weight)\n",
        "        # 高纬的中心点坐标，也经过降纬处理\n",
        "        cluster_centers = self.func_plot.fit_transform(cluster_centers)\n",
        "        self.plot_cluster(list(label), pos, cluster_centers)"
      ],
      "metadata": {
        "id": "7rL2AswRUD-z"
      },
      "execution_count": 39,
      "outputs": []
    },
    {
      "cell_type": "markdown",
      "source": [
        "## kmeans_pytorch"
      ],
      "metadata": {
        "id": "eTOy96riTv6K"
      }
    },
    {
      "cell_type": "code",
      "source": [
        "from kmeans_pytorch import kmeans\n",
        "\n",
        "labels, cluster_centers = kmeans(\n",
        "    X=corpus_embeddings,\n",
        "    num_clusters=num_class,\n",
        "    distance='euclidean',\n",
        "    device=torch.device('cuda:0')\n",
        ")"
      ],
      "metadata": {
        "colab": {
          "base_uri": "https://localhost:8080/"
        },
        "id": "oaf6Kfn9Ty0p",
        "outputId": "87aeff8c-e0ab-43ae-bf34-b486954be7d8"
      },
      "execution_count": 60,
      "outputs": [
        {
          "output_type": "stream",
          "name": "stdout",
          "text": [
            "running k-means on cuda:0..\n"
          ]
        },
        {
          "output_type": "stream",
          "name": "stderr",
          "text": [
            "[running kmeans]: 2it [00:00, 247.15it/s, center_shift=0.000000, iteration=2, tol=0.000100]\n"
          ]
        }
      ]
    },
    {
      "cell_type": "code",
      "source": [
        "labels"
      ],
      "metadata": {
        "colab": {
          "base_uri": "https://localhost:8080/"
        },
        "id": "eGvXEFIfVRuH",
        "outputId": "05d24e07-0d75-4987-eae5-89ad92450ed5"
      },
      "execution_count": 61,
      "outputs": [
        {
          "output_type": "execute_result",
          "data": {
            "text/plain": [
              "tensor([0, 0, 1, 1, 2, 1, 2, 1, 1])"
            ]
          },
          "metadata": {},
          "execution_count": 61
        }
      ]
    },
    {
      "cell_type": "code",
      "source": [
        "cluster_centers"
      ],
      "metadata": {
        "colab": {
          "base_uri": "https://localhost:8080/"
        },
        "id": "d1g8VaZWVfAW",
        "outputId": "216c53d1-1a09-4ade-8ecf-6298898037a4"
      },
      "execution_count": 62,
      "outputs": [
        {
          "output_type": "execute_result",
          "data": {
            "text/plain": [
              "tensor([[ 0.3271, -0.2714,  0.9217,  ..., -0.6270, -0.1306, -0.0952],\n",
              "        [ 0.2802, -0.2230,  0.1945,  ...,  0.0356, -1.1100,  0.3093],\n",
              "        [ 0.2819, -1.1449,  0.2388,  ..., -0.7908, -1.7649, -0.1390]])"
            ]
          },
          "metadata": {},
          "execution_count": 62
        }
      ]
    },
    {
      "cell_type": "markdown",
      "source": [
        "### 结果"
      ],
      "metadata": {
        "id": "1xP3V89eVivc"
      }
    },
    {
      "cell_type": "code",
      "source": [
        "class_data = {\n",
        "    i:[]\n",
        "    for i in range(num_class)\n",
        "}\n",
        "\n",
        "for text,cls in zip(corpus, labels):\n",
        "    class_data[cls.item()].append(text)\n",
        "\n",
        "class_data"
      ],
      "metadata": {
        "colab": {
          "base_uri": "https://localhost:8080/"
        },
        "id": "62b3I2MGVge4",
        "outputId": "ccfb4f4d-6ad3-4b03-fc7e-839a80bc3617"
      },
      "execution_count": 63,
      "outputs": [
        {
          "output_type": "execute_result",
          "data": {
            "text/plain": [
              "{0: ['花呗更改绑定银行卡', '我什么时候开通了花呗'],\n",
              " 1: ['A man is eating food.',\n",
              "  'A man is eating a piece of bread.',\n",
              "  'A man is riding a horse.',\n",
              "  'Two men pushed carts through the woods.',\n",
              "  'A man is riding a white horse on an enclosed ground.'],\n",
              " 2: ['The girl is carrying a baby.', 'A woman is playing violin.']}"
            ]
          },
          "metadata": {},
          "execution_count": 63
        }
      ]
    },
    {
      "cell_type": "markdown",
      "source": [
        "### 绘图"
      ],
      "metadata": {
        "id": "SwDqWtGSVxVR"
      }
    },
    {
      "cell_type": "code",
      "source": [
        "k_plot = KMeansPlot(num_class)\n",
        "\n",
        "k_plot.plot(\n",
        "    corpus_embeddings.to('cpu'), # 文本编码的向量\n",
        "    labels.to('cpu'), # 聚类的结果\n",
        "    cluster_centers.to('cpu') # 聚类的高纬中心点，再降纬到2D\n",
        ")"
      ],
      "metadata": {
        "colab": {
          "base_uri": "https://localhost:8080/",
          "height": 430
        },
        "id": "MN4gNgnHVzN2",
        "outputId": "a690b0d4-b01b-42ab-a55e-fb20374261a3"
      },
      "execution_count": 64,
      "outputs": [
        {
          "output_type": "display_data",
          "data": {
            "text/plain": [
              "<Figure size 640x480 with 1 Axes>"
            ],
            "image/png": "[encoded data removed]"
          },
          "metadata": {}
        }
      ]
    },
    {
      "cell_type": "markdown",
      "source": [
        "## fast_pytorch_kmeans"
      ],
      "metadata": {
        "id": "0j-IGxyKT6pK"
      }
    },
    {
      "cell_type": "code",
      "source": [
        "# kmeans\n",
        "# from kmeans_pytorch import kmeans\n",
        "from fast_pytorch_kmeans import KMeans\n",
        "\n",
        "\n",
        "kmeans = KMeans(n_clusters=num_class, mode='euclidean', verbose=1)\n",
        "labels = kmeans.fit_predict(corpus_embeddings)"
      ],
      "metadata": {
        "colab": {
          "base_uri": "https://localhost:8080/"
        },
        "id": "lMS1J7bpLg9T",
        "outputId": "eab27197-6552-4b2e-879a-45510f5405ec"
      },
      "execution_count": 51,
      "outputs": [
        {
          "output_type": "stream",
          "name": "stdout",
          "text": [
            "used 2 iterations (0.0039s) to cluster 9 items into 3 clusters\n"
          ]
        }
      ]
    },
    {
      "cell_type": "code",
      "source": [
        "# 高纬到中心点坐标\n",
        "kmeans.centroids"
      ],
      "metadata": {
        "colab": {
          "base_uri": "https://localhost:8080/"
        },
        "id": "3P9npFrmMKt0",
        "outputId": "453dfc1f-0b78-4fe5-b1db-f513249c30ca"
      },
      "execution_count": 52,
      "outputs": [
        {
          "output_type": "execute_result",
          "data": {
            "text/plain": [
              "tensor([[ 0.2819, -1.1449,  0.2388,  ..., -0.7908, -1.7649, -0.1390],\n",
              "        [ 0.2802, -0.2230,  0.1945,  ...,  0.0356, -1.1100,  0.3093],\n",
              "        [ 0.3271, -0.2714,  0.9217,  ..., -0.6270, -0.1306, -0.0952]],\n",
              "       device='cuda:0')"
            ]
          },
          "metadata": {},
          "execution_count": 52
        }
      ]
    },
    {
      "cell_type": "markdown",
      "source": [
        "### 结果"
      ],
      "metadata": {
        "id": "LCq1VA4xW49p"
      }
    },
    {
      "cell_type": "code",
      "source": [
        "class_data = {\n",
        "    i:[]\n",
        "    for i in range(num_class)\n",
        "}\n",
        "\n",
        "for text,cls in zip(corpus, labels):\n",
        "    class_data[cls.item()].append(text)\n",
        "\n",
        "class_data"
      ],
      "metadata": {
        "colab": {
          "base_uri": "https://localhost:8080/"
        },
        "id": "6SDyWkxHTXK8",
        "outputId": "773c5889-24fc-4bea-d62a-e076d84c7809"
      },
      "execution_count": 53,
      "outputs": [
        {
          "output_type": "execute_result",
          "data": {
            "text/plain": [
              "{0: ['The girl is carrying a baby.', 'A woman is playing violin.'],\n",
              " 1: ['A man is eating food.',\n",
              "  'A man is eating a piece of bread.',\n",
              "  'A man is riding a horse.',\n",
              "  'Two men pushed carts through the woods.',\n",
              "  'A man is riding a white horse on an enclosed ground.'],\n",
              " 2: ['花呗更改绑定银行卡', '我什么时候开通了花呗']}"
            ]
          },
          "metadata": {},
          "execution_count": 53
        }
      ]
    },
    {
      "cell_type": "code",
      "source": [
        "k_plot = KMeansPlot(num_class)\n",
        "k_plot.plot(\n",
        "    corpus_embeddings.to('cpu'),\n",
        "    labels.to('cpu'),\n",
        "    kmeans.centroids.to('cpu')\n",
        ")"
      ],
      "metadata": {
        "colab": {
          "base_uri": "https://localhost:8080/",
          "height": 430
        },
        "id": "mJDWD10aNxxH",
        "outputId": "2e259ada-c12d-4fb5-991a-ed7e019e94d8"
      },
      "execution_count": 54,
      "outputs": [
        {
          "output_type": "display_data",
          "data": {
            "text/plain": [
              "<Figure size 640x480 with 1 Axes>"
            ],
            "image/png": "[encoded data removed]"
          },
          "metadata": {}
        }
      ]
    },
    {
      "cell_type": "code",
      "source": [],
      "metadata": {
        "id": "Dfzlk-YoOE7h"
      },
      "execution_count": null,
      "outputs": []
    }
  ],
  "metadata": {
    "accelerator": "GPU",
    "colab": {
      "gpuType": "T4",
      "provenance": [],
      "toc_visible": true
    },
    "kernelspec": {
      "display_name": "Python 3",
      "name": "python3"
    },
    "language_info": {
      "name": "python"
    }
  },
  "nbformat": 4,
  "nbformat_minor": 0
}