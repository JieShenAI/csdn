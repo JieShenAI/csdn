{
  "nbformat": 4,
  "nbformat_minor": 0,
  "metadata": {
    "colab": {
      "provenance": []
    },
    "kernelspec": {
      "name": "python3",
      "display_name": "Python 3"
    },
    "language_info": {
      "name": "python"
    }
  },
  "cells": [
    {
      "cell_type": "markdown",
      "source": [
        "https://zhuanlan.zhihu.com/p/112362700"
      ],
      "metadata": {
        "id": "QQ1IkT8wBBj-"
      }
    },
    {
      "cell_type": "code",
      "source": [
        "import re\n",
        "import random\n",
        "import jieba\n",
        "import pandas as pd\n",
        "import numpy as np\n",
        "from sklearn.feature_extraction.text import TfidfTransformer, TfidfVectorizer\n",
        "import matplotlib.pyplot as plt\n",
        "from sklearn.decomposition import PCA\n",
        "from sklearn.cluster import KMeans\n",
        "import gensim\n",
        "from gensim.models import Word2Vec\n",
        "from sklearn.preprocessing import scale\n",
        "import multiprocessing"
      ],
      "metadata": {
        "id": "kkbIrPUK0LQf"
      },
      "execution_count": 2,
      "outputs": []
    },
    {
      "cell_type": "code",
      "source": [
        "corpus = [\n",
        "    '花呗更改绑定银行卡',\n",
        "    '我什么时候开通了花呗',\n",
        "    'A man is eating food.',\n",
        "    'A man is eating a piece of bread.',\n",
        "    'The girl is carrying a baby.',\n",
        "    'A man is riding a horse.',\n",
        "    'A woman is playing violin.',\n",
        "    'Two men pushed carts through the woods.',\n",
        "    'A man is riding a white horse on an enclosed ground.'\n",
        "]"
      ],
      "metadata": {
        "id": "dwKdhQT4l6Y2"
      },
      "execution_count": 36,
      "outputs": []
    },
    {
      "cell_type": "code",
      "source": [
        "jieba.add_word(\"花呗\")"
      ],
      "metadata": {
        "id": "qZsUKvqCnAsD"
      },
      "execution_count": 26,
      "outputs": []
    },
    {
      "cell_type": "code",
      "source": [
        "def preprocess_text(content_lines, sentences):\n",
        "    for line in content_lines:\n",
        "        try:\n",
        "            segs=jieba.lcut(line)\n",
        "            segs = [v for v in segs if not str(v).isdigit()]#去数字\n",
        "            segs = list(filter(lambda x:x.strip(), segs))   #去左右空格\n",
        "            segs = list(filter(lambda x:len(x)>1, segs)) #长度为1的字符\n",
        "            # segs = list(filter(lambda x:x not in stopwords, segs)) #去掉停用词\n",
        "            sentences.append(\" \".join(segs))\n",
        "        except Exception:\n",
        "            print(line)\n",
        "            continue"
      ],
      "metadata": {
        "id": "wl08tWyD0N3v"
      },
      "execution_count": 27,
      "outputs": []
    },
    {
      "cell_type": "code",
      "source": [
        "sentences = []\n",
        "# 处理语料，语料的处理结果存放在sentences\n",
        "preprocess_text(corpus, sentences)"
      ],
      "metadata": {
        "id": "jpmgGXHf0wwg"
      },
      "execution_count": 37,
      "outputs": []
    },
    {
      "cell_type": "code",
      "source": [
        "sentences"
      ],
      "metadata": {
        "id": "Fp6WsY-czt2r",
        "colab": {
          "base_uri": "https://localhost:8080/"
        },
        "outputId": "aa8e2799-0819-4629-d1e6-0d074297cbc1"
      },
      "execution_count": 38,
      "outputs": [
        {
          "output_type": "execute_result",
          "data": {
            "text/plain": [
              "['花呗 更改 绑定 银行卡',\n",
              " '什么 时候 开通 花呗',\n",
              " 'man is eating food',\n",
              " 'man is eating piece of bread',\n",
              " 'The girl is carrying baby',\n",
              " 'man is riding horse',\n",
              " 'woman is playing violin',\n",
              " 'Two men pushed carts through the woods',\n",
              " 'man is riding white horse on an enclosed ground']"
            ]
          },
          "metadata": {},
          "execution_count": 38
        }
      ]
    },
    {
      "cell_type": "code",
      "source": [
        "vectorizer = TfidfVectorizer(sublinear_tf=True, max_df=0.5)\n",
        "#统计每个词语的tf-idf权值\n",
        "transformer = TfidfTransformer()\n",
        "# 第一个fit_transform是计算tf-idf 第二个fit_transform是将文本转为词频矩阵\n",
        "tfidf = transformer.fit_transform(vectorizer.fit_transform(sentences))\n",
        "# 获取词袋模型中的所有词语\n",
        "word = vectorizer.get_feature_names_out()\n",
        "# 将tf-idf矩阵抽取出来，元素w[i][j]表示j词在i类文本中的tf-idf权重\n",
        "weight = tfidf.toarray()\n",
        "#查看特征大小\n",
        "print ('Features length: ' + str(len(word)))"
      ],
      "metadata": {
        "colab": {
          "base_uri": "https://localhost:8080/"
        },
        "id": "Da0-99pm1-18",
        "outputId": "9fff2717-64f6-4197-b515-58de58ccf933"
      },
      "execution_count": 39,
      "outputs": [
        {
          "output_type": "stream",
          "name": "stdout",
          "text": [
            "Features length: 33\n"
          ]
        }
      ]
    },
    {
      "cell_type": "code",
      "source": [
        "weight.shape"
      ],
      "metadata": {
        "colab": {
          "base_uri": "https://localhost:8080/"
        },
        "id": "3iL5ffnhnO1A",
        "outputId": "4f6064e5-0db8-4222-c880-d8a7d36abb12"
      },
      "execution_count": 47,
      "outputs": [
        {
          "output_type": "execute_result",
          "data": {
            "text/plain": [
              "(9, 33)"
            ]
          },
          "metadata": {},
          "execution_count": 47
        }
      ]
    },
    {
      "cell_type": "code",
      "source": [
        "from sklearn.decomposition import PCA\n",
        "\n",
        "class JieKmeans:\n",
        "    def __init__(self, numClass=4, n_components=10, func_type='PCA'):\n",
        "        #这里也可以选择随机初始化init=\"random\"\n",
        "\n",
        "        self.PCA = PCA(n_components=n_components)\n",
        "        if func_type == 'PCA':\n",
        "            self.func_plot = PCA(n_components=2)\n",
        "        elif func_type == 'TSNE':\n",
        "            from sklearn.manifold import TSNE\n",
        "            self.func_plot = TSNE(2)\n",
        "\n",
        "        self.numClass = numClass\n",
        "\n",
        "    def plot_cluster(self, result, newData):\n",
        "\n",
        "        plt.figure(2)\n",
        "        Lab = [[] for i in range(self.numClass)]\n",
        "        index = 0\n",
        "        for labi in result:\n",
        "            Lab[labi].append(index)\n",
        "            index += 1\n",
        "        color = ['oy', 'ob', 'og', 'cs', 'ms', 'bs', 'ks', 'ys', 'yv', 'mv', 'bv', 'kv', 'gv', 'y^', 'm^', 'b^', 'k^',\n",
        "                    'g^'] * 3\n",
        "\n",
        "        for i in range(self.numClass):\n",
        "            x1 = []\n",
        "            y1 = []\n",
        "            for ind1 in newData[Lab[i]]:\n",
        "                # print ind1\n",
        "                try:\n",
        "                    y1.append(ind1[1])\n",
        "                    x1.append(ind1[0])\n",
        "                except:\n",
        "                    pass\n",
        "            plt.plot(x1, y1, color[i])\n",
        "\n",
        "        #绘制初始中心点\n",
        "        x1 = []\n",
        "        y1 = []\n",
        "        for ind1 in self.model.cluster_centers_:\n",
        "            try:\n",
        "                y1.append(ind1[1])\n",
        "                x1.append(ind1[0])\n",
        "            except:\n",
        "                pass\n",
        "        plt.plot(x1, y1, \"rv\") #绘制中心\n",
        "        plt.show()\n",
        "\n",
        "\n",
        "    def train(self, data):\n",
        "        tmp = self.PCA.fit_transform(data)\n",
        "        self.model = KMeans(\n",
        "            n_clusters=self.numClass,\n",
        "            max_iter=10000, init=\"k-means++\", tol=1e-6)\n",
        "        s = self.model.fit(tmp)\n",
        "        print(\"聚类算法训练完成\\n\", s)\n",
        "\n",
        "\n",
        "\n",
        "    def predict(self, data):\n",
        "        t_data = self.PCA.fit_transform(data)\n",
        "        result = list(self.model.predict(t_data))\n",
        "        return result\n",
        "\n",
        "\n",
        "    def plot(self, weight):\n",
        "        t_data = self.PCA.fit_transform(weight)\n",
        "        result = list(self.model.predict(t_data))\n",
        "        plot_pos = self.func_plot.fit_transform(weight)\n",
        "        self.plot_cluster(result, plot_pos)"
      ],
      "metadata": {
        "id": "WFmlOL3p4jyp"
      },
      "execution_count": 48,
      "outputs": []
    },
    {
      "cell_type": "code",
      "source": [
        "net = JieKmeans(\n",
        "    numClass=3,\n",
        "    n_components=5,\n",
        "    func_type='PCA'\n",
        "    )\n",
        "\n",
        "net.train(weight)\n",
        "# net.plot(weight)"
      ],
      "metadata": {
        "id": "95TzdOza-Zvy",
        "colab": {
          "base_uri": "https://localhost:8080/"
        },
        "outputId": "1499c4bd-6253-4cd5-b73a-235c48ec7aa5"
      },
      "execution_count": 49,
      "outputs": [
        {
          "output_type": "stream",
          "name": "stdout",
          "text": [
            "聚类算法训练完成\n",
            " KMeans(max_iter=10000, n_clusters=3, tol=1e-06)\n"
          ]
        },
        {
          "output_type": "stream",
          "name": "stderr",
          "text": [
            "/usr/local/lib/python3.10/dist-packages/sklearn/cluster/_kmeans.py:870: FutureWarning: The default value of `n_init` will change from 10 to 'auto' in 1.4. Set the value of `n_init` explicitly to suppress the warning\n",
            "  warnings.warn(\n"
          ]
        }
      ]
    },
    {
      "cell_type": "code",
      "source": [
        "net.plot(weight)"
      ],
      "metadata": {
        "colab": {
          "base_uri": "https://localhost:8080/",
          "height": 451
        },
        "id": "25fXUyWIFqLF",
        "outputId": "a4912627-3a88-4238-db7e-a50c89378dd9"
      },
      "execution_count": 50,
      "outputs": [
        {
          "output_type": "display_data",
          "data": {
            "text/plain": [
              "<Figure size 640x480 with 1 Axes>"
            ],
            "image/png": "[encoded data removed]"
          },
          "metadata": {}
        }
      ]
    },
    {
      "cell_type": "code",
      "source": [
        "p = net.predict(weight)\n",
        "\n",
        "class_data = {\n",
        "    i:[]\n",
        "    for i in range(3)\n",
        "}\n",
        "\n",
        "for text,cls in zip(corpus, p):\n",
        "    class_data[cls.item()].append(text)\n",
        "\n",
        "class_data"
      ],
      "metadata": {
        "colab": {
          "base_uri": "https://localhost:8080/"
        },
        "id": "0f2KeDiuEyQA",
        "outputId": "aaca1b10-669c-459c-eb6c-5d0245b16194"
      },
      "execution_count": 51,
      "outputs": [
        {
          "output_type": "execute_result",
          "data": {
            "text/plain": [
              "{0: ['A man is riding a horse.',\n",
              "  'A man is riding a white horse on an enclosed ground.'],\n",
              " 1: ['花呗更改绑定银行卡',\n",
              "  '我什么时候开通了花呗',\n",
              "  'The girl is carrying a baby.',\n",
              "  'A woman is playing violin.',\n",
              "  'Two men pushed carts through the woods.'],\n",
              " 2: ['A man is eating food.', 'A man is eating a piece of bread.']}"
            ]
          },
          "metadata": {},
          "execution_count": 51
        }
      ]
    }
  ]
}