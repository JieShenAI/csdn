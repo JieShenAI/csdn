{
 "cells": [
  {
   "cell_type": "code",
   "execution_count": 40,
   "id": "f577c57e",
   "metadata": {},
   "outputs": [],
   "source": [
    "import os\n",
    "import pandas as pd\n",
    "from datasets import load_dataset\n",
    "from sklearn.metrics import recall_score, f1_score, precision_score, accuracy_score\n",
    "\n",
    "from settings import NAME2IDX"
   ]
  },
  {
   "cell_type": "code",
   "execution_count": 4,
   "id": "dd310ff1",
   "metadata": {},
   "outputs": [],
   "source": [
    "def trans_label(item):\n",
    "    pred_label = item[\"pred_label\"]\n",
    "    pred_int_label = NAME2IDX.get(pred_label, -1)\n",
    "    item[\"pred_int_label\"] = pred_int_label\n",
    "    return item"
   ]
  },
  {
   "cell_type": "code",
   "execution_count": 26,
   "id": "893fe026",
   "metadata": {},
   "outputs": [],
   "source": [
    "def get_dataset(file: str):\n",
    "    # 从json文件加载数据集\n",
    "    dataset = load_dataset(\n",
    "        \"json\",\n",
    "        data_files=file,\n",
    "        split=\"train\",\n",
    "    )\n",
    "    new_dataset = dataset.map(trans_label)\n",
    "    return new_dataset.filter(lambda x: x[\"pred_int_label\"] != -1)"
   ]
  },
  {
   "cell_type": "code",
   "execution_count": 42,
   "id": "380c13da",
   "metadata": {},
   "outputs": [],
   "source": [
    "def eval_dataset_func(dataset):\n",
    "    label_name = \"labels\"\n",
    "    if \"label\" in dataset.features:\n",
    "        label_name = \"label\"\n",
    "    # 对数据集进行评估\n",
    "    recall = recall_score(\n",
    "        y_pred=dataset[\"pred_int_label\"], y_true=dataset[label_name], average=\"weighted\"\n",
    "    )\n",
    "    precision = precision_score(\n",
    "        y_pred=dataset[\"pred_int_label\"], y_true=dataset[label_name], average=\"weighted\"\n",
    "    )\n",
    "    f1 = f1_score(\n",
    "        y_pred=dataset[\"pred_int_label\"], y_true=dataset[label_name], average=\"weighted\"\n",
    "    )\n",
    "    return {\"precision\": precision, \"recall\": recall, \"f1\": f1, \"support\": len(dataset)}"
   ]
  },
  {
   "cell_type": "code",
   "execution_count": 37,
   "id": "893887ba",
   "metadata": {},
   "outputs": [
    {
     "data": {
      "text/plain": [
       "{'precision': 0.8382126577315632,\n",
       " 'recall': 0.8088088088088088,\n",
       " 'f1': 0.8037425149032076}"
      ]
     },
     "execution_count": 37,
     "metadata": {},
     "output_type": "execute_result"
    }
   ],
   "source": [
    "eval_dataset_func(get_dataset(\"output/llm_struct.json\"))"
   ]
  },
  {
   "cell_type": "code",
   "execution_count": 44,
   "id": "1f368aec",
   "metadata": {},
   "outputs": [
    {
     "data": {
      "text/html": [
       "<div>\n",
       "<style scoped>\n",
       "    .dataframe tbody tr th:only-of-type {\n",
       "        vertical-align: middle;\n",
       "    }\n",
       "\n",
       "    .dataframe tbody tr th {\n",
       "        vertical-align: top;\n",
       "    }\n",
       "\n",
       "    .dataframe thead th {\n",
       "        text-align: right;\n",
       "    }\n",
       "</style>\n",
       "<table border=\"1\" class=\"dataframe\">\n",
       "  <thead>\n",
       "    <tr style=\"text-align: right;\">\n",
       "      <th></th>\n",
       "      <th>method</th>\n",
       "      <th>precision</th>\n",
       "      <th>recall</th>\n",
       "      <th>f1</th>\n",
       "      <th>support</th>\n",
       "    </tr>\n",
       "  </thead>\n",
       "  <tbody>\n",
       "    <tr>\n",
       "      <th>0</th>\n",
       "      <td>llm</td>\n",
       "      <td>0.841183</td>\n",
       "      <td>0.807035</td>\n",
       "      <td>0.794224</td>\n",
       "      <td>995</td>\n",
       "    </tr>\n",
       "    <tr>\n",
       "      <th>1</th>\n",
       "      <td>vllm_infer</td>\n",
       "      <td>0.841379</td>\n",
       "      <td>0.809810</td>\n",
       "      <td>0.797484</td>\n",
       "      <td>999</td>\n",
       "    </tr>\n",
       "    <tr>\n",
       "      <th>2</th>\n",
       "      <td>llm_struct</td>\n",
       "      <td>0.838213</td>\n",
       "      <td>0.808809</td>\n",
       "      <td>0.803743</td>\n",
       "      <td>999</td>\n",
       "    </tr>\n",
       "  </tbody>\n",
       "</table>\n",
       "</div>"
      ],
      "text/plain": [
       "       method  precision    recall        f1  support\n",
       "0         llm   0.841183  0.807035  0.794224      995\n",
       "1  vllm_infer   0.841379  0.809810  0.797484      999\n",
       "2  llm_struct   0.838213  0.808809  0.803743      999"
      ]
     },
     "execution_count": 44,
     "metadata": {},
     "output_type": "execute_result"
    }
   ],
   "source": [
    "data = []\n",
    "\n",
    "for file in os.listdir(fold := \"output\"):\n",
    "    file_name = os.path.join(fold, file)\n",
    "    method = file.split(\".\")[0]\n",
    "    tmp_data = {\n",
    "        \"method\": method,\n",
    "    }\n",
    "    tmp_eval_data = eval_dataset_func(get_dataset(file_name))\n",
    "    tmp_data.update(tmp_eval_data)\n",
    "    data.append(tmp_data)\n",
    "\n",
    "ans_df = pd.DataFrame(data)\n",
    "ans_df"
   ]
  },
  {
   "cell_type": "code",
   "execution_count": null,
   "id": "12144140",
   "metadata": {},
   "outputs": [],
   "source": [
    "# 手动添加每种大模型推理方法的运行时间\n",
    "processing_time = [26 * 60 + 40, 41, 22 * 60 + 19]"
   ]
  },
  {
   "cell_type": "code",
   "execution_count": 46,
   "id": "e9b5a781",
   "metadata": {},
   "outputs": [],
   "source": [
    "ans_df[\"processing_time\"] = processing_time"
   ]
  },
  {
   "cell_type": "code",
   "execution_count": 47,
   "id": "ad75c463",
   "metadata": {},
   "outputs": [
    {
     "data": {
      "text/html": [
       "<div>\n",
       "<style scoped>\n",
       "    .dataframe tbody tr th:only-of-type {\n",
       "        vertical-align: middle;\n",
       "    }\n",
       "\n",
       "    .dataframe tbody tr th {\n",
       "        vertical-align: top;\n",
       "    }\n",
       "\n",
       "    .dataframe thead th {\n",
       "        text-align: right;\n",
       "    }\n",
       "</style>\n",
       "<table border=\"1\" class=\"dataframe\">\n",
       "  <thead>\n",
       "    <tr style=\"text-align: right;\">\n",
       "      <th></th>\n",
       "      <th>method</th>\n",
       "      <th>precision</th>\n",
       "      <th>recall</th>\n",
       "      <th>f1</th>\n",
       "      <th>support</th>\n",
       "      <th>processing_time</th>\n",
       "    </tr>\n",
       "  </thead>\n",
       "  <tbody>\n",
       "    <tr>\n",
       "      <th>0</th>\n",
       "      <td>llm</td>\n",
       "      <td>0.841183</td>\n",
       "      <td>0.807035</td>\n",
       "      <td>0.794224</td>\n",
       "      <td>995</td>\n",
       "      <td>1600</td>\n",
       "    </tr>\n",
       "    <tr>\n",
       "      <th>1</th>\n",
       "      <td>vllm_infer</td>\n",
       "      <td>0.841379</td>\n",
       "      <td>0.809810</td>\n",
       "      <td>0.797484</td>\n",
       "      <td>999</td>\n",
       "      <td>41</td>\n",
       "    </tr>\n",
       "    <tr>\n",
       "      <th>2</th>\n",
       "      <td>llm_struct</td>\n",
       "      <td>0.838213</td>\n",
       "      <td>0.808809</td>\n",
       "      <td>0.803743</td>\n",
       "      <td>999</td>\n",
       "      <td>1339</td>\n",
       "    </tr>\n",
       "  </tbody>\n",
       "</table>\n",
       "</div>"
      ],
      "text/plain": [
       "       method  precision    recall        f1  support  processing_time\n",
       "0         llm   0.841183  0.807035  0.794224      995             1600\n",
       "1  vllm_infer   0.841379  0.809810  0.797484      999               41\n",
       "2  llm_struct   0.838213  0.808809  0.803743      999             1339"
      ]
     },
     "execution_count": 47,
     "metadata": {},
     "output_type": "execute_result"
    }
   ],
   "source": [
    "ans_df"
   ]
  },
  {
   "cell_type": "code",
   "execution_count": null,
   "id": "06415e7d",
   "metadata": {},
   "outputs": [],
   "source": []
  }
 ],
 "metadata": {
  "kernelspec": {
   "display_name": "llm",
   "language": "python",
   "name": "python3"
  },
  "language_info": {
   "codemirror_mode": {
    "name": "ipython",
    "version": 3
   },
   "file_extension": ".py",
   "mimetype": "text/x-python",
   "name": "python",
   "nbconvert_exporter": "python",
   "pygments_lexer": "ipython3",
   "version": "3.11.7"
  }
 },
 "nbformat": 4,
 "nbformat_minor": 5
}
