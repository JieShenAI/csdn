{
 "cells": [
  {
   "cell_type": "markdown",
   "metadata": {},
   "source": [
    "解析大模型vllm推理的结果"
   ]
  },
  {
   "cell_type": "code",
   "execution_count": 2,
   "metadata": {},
   "outputs": [],
   "source": [
    "import re\n",
    "import json\n",
    "import datasets\n",
    "from datasets import load_dataset"
   ]
  },
  {
   "cell_type": "code",
   "execution_count": 6,
   "metadata": {},
   "outputs": [],
   "source": [
    "import sys\n",
    "sys.path.append('..')\n",
    "\n",
    "from settings import NAME2IDX"
   ]
  },
  {
   "cell_type": "code",
   "execution_count": 3,
   "metadata": {},
   "outputs": [
    {
     "data": {
      "application/vnd.jupyter.widget-view+json": {
       "model_id": "c9d84830b15b452793e969414515a702",
       "version_major": 2,
       "version_minor": 0
      },
      "text/plain": [
       "Generating train split: 0 examples [00:00, ? examples/s]"
      ]
     },
     "metadata": {},
     "output_type": "display_data"
    }
   ],
   "source": [
    "infer_dataset = load_dataset(\n",
    "    \"json\",\n",
    "    data_files=\"output/vllm_ag_news_test.json\",\n",
    "    split=\"train\",\n",
    ")"
   ]
  },
  {
   "cell_type": "code",
   "execution_count": 4,
   "metadata": {},
   "outputs": [
    {
     "data": {
      "text/plain": [
       "Dataset({\n",
       "    features: ['prompt', 'predict', 'label'],\n",
       "    num_rows: 1000\n",
       "})"
      ]
     },
     "execution_count": 4,
     "metadata": {},
     "output_type": "execute_result"
    }
   ],
   "source": [
    "infer_dataset"
   ]
  },
  {
   "cell_type": "code",
   "execution_count": 7,
   "metadata": {},
   "outputs": [],
   "source": [
    "# Custom parser\n",
    "def extract_json(text: str):\n",
    "    pattern = r\"```json(.*?)```\"\n",
    "    matches = re.search(pattern, text, re.DOTALL)\n",
    "    if matches:\n",
    "        res = matches.group(1)\n",
    "        try:\n",
    "            d = json.loads(res.strip())\n",
    "        except Exception as e:\n",
    "            print(e.args)\n",
    "            d = {}\n",
    "        finally:\n",
    "            return d\n",
    "    else:\n",
    "        return {}"
   ]
  },
  {
   "cell_type": "code",
   "execution_count": 8,
   "metadata": {},
   "outputs": [
    {
     "data": {
      "text/plain": [
       "{'prompt': 'system\\nYou are a helpful assistant.\\nuser\\n\\n    Classify the given text into exactly one category, providing clear reasoning for your choice. The available categories are: World, Sports, Business, Science/Technology.\\n    Text to classify:\\n    Indian board plans own telecast of Australia series The Indian cricket board said on Wednesday it was making arrangements on its own to broadcast next month #39;s test series against Australia, which is under threat because of a raging TV rights dispute.\\n    Output the classification reasoning in reason and the selected category in label. Return the response in JSON format as follows:\\n    ```json\\n    {\\n        \"reason\" : \"Classification rationale\",\\n        \"label\" : \"Text classification label (select exactly one): [\"World\", \"Sports\", \"Business\", \"Science/Technology\"]\"\\n    }\\n    ```\\n    \\nassistant\\n',\n",
       " 'predict': '```json\\n{\\n    \"reason\" : \"The text discusses the Indian cricket board\\'s plans to broadcast a test series against Australia, which is a sporting event. It also mentions a TV rights dispute, which is relevant to sports broadcasting. Therefore, this text falls under the Sports category.\",\\n    \"label\" : \"Sports\"\\n}\\n```',\n",
       " 'label': 'Sports\\n'}"
      ]
     },
     "execution_count": 8,
     "metadata": {},
     "output_type": "execute_result"
    }
   ],
   "source": [
    "infer_dataset[0]"
   ]
  },
  {
   "cell_type": "code",
   "execution_count": 9,
   "metadata": {},
   "outputs": [
    {
     "data": {
      "text/plain": [
       "{'reason': \"The text discusses the Indian cricket board's plans to broadcast a test series against Australia, which is a sporting event. It also mentions a TV rights dispute, which is relevant to sports broadcasting. Therefore, this text falls under the Sports category.\",\n",
       " 'label': 'Sports'}"
      ]
     },
     "execution_count": 9,
     "metadata": {},
     "output_type": "execute_result"
    }
   ],
   "source": [
    "extract_json(infer_dataset[0][\"predict\"])"
   ]
  },
  {
   "cell_type": "code",
   "execution_count": 21,
   "metadata": {},
   "outputs": [
    {
     "data": {
      "text/plain": [
       "Dataset({\n",
       "    features: ['prompt', 'predict', 'label'],\n",
       "    num_rows: 1000\n",
       "})"
      ]
     },
     "execution_count": 21,
     "metadata": {},
     "output_type": "execute_result"
    }
   ],
   "source": [
    "def trans_dataset(item):\n",
    "    try:\n",
    "        llm_pred_obj = extract_json(item[\"predict\"])\n",
    "    except:\n",
    "        llm_pred_obj = {\"reason\": \"<error>\", \"label\": \"<error>\"}\n",
    "\n",
    "    item[\"gold_label\"] = item[\"label\"].strip()\n",
    "    item[\"label\"] = NAME2IDX.get(item[\"label\"].strip())\n",
    "\n",
    "    item[\"pred_label\"] = llm_pred_obj[\"label\"]\n",
    "    item[\"reason\"] = llm_pred_obj[\"reason\"]\n",
    "    return item\n",
    "infer_dataset"
   ]
  },
  {
   "cell_type": "code",
   "execution_count": 23,
   "metadata": {},
   "outputs": [
    {
     "data": {
      "text/plain": [
       "Dataset({\n",
       "    features: ['prompt', 'predict', 'label', 'gold_label', 'pred_label', 'reason'],\n",
       "    num_rows: 1000\n",
       "})"
      ]
     },
     "execution_count": 23,
     "metadata": {},
     "output_type": "execute_result"
    }
   ],
   "source": [
    "output_dataset = infer_dataset.map(trans_dataset)\n",
    "output_dataset"
   ]
  },
  {
   "cell_type": "code",
   "execution_count": 24,
   "metadata": {},
   "outputs": [
    {
     "data": {
      "text/plain": [
       "{'prompt': 'system\\nYou are a helpful assistant.\\nuser\\n\\n    Classify the given text into exactly one category, providing clear reasoning for your choice. The available categories are: World, Sports, Business, Science/Technology.\\n    Text to classify:\\n    Indian board plans own telecast of Australia series The Indian cricket board said on Wednesday it was making arrangements on its own to broadcast next month #39;s test series against Australia, which is under threat because of a raging TV rights dispute.\\n    Output the classification reasoning in reason and the selected category in label. Return the response in JSON format as follows:\\n    ```json\\n    {\\n        \"reason\" : \"Classification rationale\",\\n        \"label\" : \"Text classification label (select exactly one): [\"World\", \"Sports\", \"Business\", \"Science/Technology\"]\"\\n    }\\n    ```\\n    \\nassistant\\n',\n",
       " 'predict': '```json\\n{\\n    \"reason\" : \"The text discusses the Indian cricket board\\'s plans to broadcast a test series against Australia, which is a sporting event. It also mentions a TV rights dispute, which is relevant to sports broadcasting. Therefore, this text falls under the Sports category.\",\\n    \"label\" : \"Sports\"\\n}\\n```',\n",
       " 'label': 1,\n",
       " 'gold_label': 'Sports',\n",
       " 'pred_label': 'Sports',\n",
       " 'reason': \"The text discusses the Indian cricket board's plans to broadcast a test series against Australia, which is a sporting event. It also mentions a TV rights dispute, which is relevant to sports broadcasting. Therefore, this text falls under the Sports category.\"}"
      ]
     },
     "execution_count": 24,
     "metadata": {},
     "output_type": "execute_result"
    }
   ],
   "source": [
    "output_dataset[0]"
   ]
  },
  {
   "cell_type": "code",
   "execution_count": 25,
   "metadata": {},
   "outputs": [
    {
     "data": {
      "application/vnd.jupyter.widget-view+json": {
       "model_id": "8f765dc5be9b4f929b07890dada0a2f7",
       "version_major": 2,
       "version_minor": 0
      },
      "text/plain": [
       "Creating json from Arrow format:   0%|          | 0/1 [00:00<?, ?ba/s]"
      ]
     },
     "metadata": {},
     "output_type": "display_data"
    },
    {
     "data": {
      "text/plain": [
       "1551203"
      ]
     },
     "execution_count": 25,
     "metadata": {},
     "output_type": "execute_result"
    }
   ],
   "source": [
    "output_dataset.to_json(\"../output/vllm_infer.jsonl\")"
   ]
  }
 ],
 "metadata": {
  "kernelspec": {
   "display_name": "llm",
   "language": "python",
   "name": "python3"
  },
  "language_info": {
   "codemirror_mode": {
    "name": "ipython",
    "version": 3
   },
   "file_extension": ".py",
   "mimetype": "text/x-python",
   "name": "python",
   "nbconvert_exporter": "python",
   "pygments_lexer": "ipython3",
   "version": "3.10.13"
  }
 },
 "nbformat": 4,
 "nbformat_minor": 2
}
