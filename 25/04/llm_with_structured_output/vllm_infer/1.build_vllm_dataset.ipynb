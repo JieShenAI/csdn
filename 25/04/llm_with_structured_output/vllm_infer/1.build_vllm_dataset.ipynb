{
 "cells": [
  {
   "cell_type": "code",
   "execution_count": 1,
   "metadata": {},
   "outputs": [],
   "source": [
    "from datasets import load_dataset\n",
    "from langchain_core.prompts import PromptTemplate\n",
    "\n",
    "import sys\n",
    "sys.path.append('..')\n",
    "from settings import TEXT_CLS_NAMES, SAMPLE_NUM"
   ]
  },
  {
   "cell_type": "code",
   "execution_count": 2,
   "metadata": {},
   "outputs": [],
   "source": [
    "ds = load_dataset(\"fancyzhx/ag_news\")"
   ]
  },
  {
   "cell_type": "code",
   "execution_count": 28,
   "metadata": {},
   "outputs": [],
   "source": [
    "prompt_template = PromptTemplate.from_template(\n",
    "    \"\"\"\n",
    "    Classify the given text into exactly one category, providing clear reasoning for your choice. The available categories are: World, Sports, Business, Science/Technology.\n",
    "    Text to classify:\n",
    "    {input}\n",
    "    Output the classification reasoning in reason and the selected category in label. Return the response in JSON format as follows:\n",
    "    ```json\n",
    "    {{\n",
    "        \"reason\" : \"Classification rationale\",\n",
    "        \"label\" : \"Text classification label (select exactly one): [\"World\", \"Sports\", \"Business\", \"Science/Technology\"]\"\n",
    "    }}\n",
    "    ```\n",
    "    \"\"\"\n",
    ")\n",
    "\n",
    "def func(item):\n",
    "    label = item[\"label\"]\n",
    "    item[\"label_text\"] = TEXT_CLS_NAMES[label]\n",
    "    return item\n",
    "\n",
    "\n",
    "test_dataset = ds[\"test\"].map(func)\n",
    "new_test_dataset = test_dataset.train_test_split(seed=42, test_size=SAMPLE_NUM)[\"test\"]"
   ]
  },
  {
   "cell_type": "code",
   "execution_count": 29,
   "metadata": {},
   "outputs": [
    {
     "data": {
      "text/plain": [
       "Dataset({\n",
       "    features: ['text', 'label', 'label_text'],\n",
       "    num_rows: 1000\n",
       "})"
      ]
     },
     "execution_count": 29,
     "metadata": {},
     "output_type": "execute_result"
    }
   ],
   "source": [
    "new_test_dataset"
   ]
  },
  {
   "cell_type": "code",
   "execution_count": 30,
   "metadata": {},
   "outputs": [
    {
     "data": {
      "text/plain": [
       "PromptTemplate(input_variables=['input'], template='\\n    Classify the given text into exactly one category, providing clear reasoning for your choice. The available categories are: World, Sports, Business, Science/Technology.\\n    Text to classify:\\n    {input}\\n    Output the classification reasoning in reason and the selected category in label. Return the response in JSON format as follows:\\n    ```json\\n    {{\\n        \"reason\" : \"Classification rationale\",\\n        \"label\" : \"Text classification label (select exactly one): [\"World\", \"Sports\", \"Business\", \"Science/Technology\"]\"\\n    }}\\n    ```\\n    ')"
      ]
     },
     "execution_count": 30,
     "metadata": {},
     "output_type": "execute_result"
    }
   ],
   "source": [
    "prompt_template"
   ]
  },
  {
   "cell_type": "code",
   "execution_count": 31,
   "metadata": {},
   "outputs": [],
   "source": [
    "def add_prompt(item):\n",
    "    global prompt_template\n",
    "    text = item[\"text\"]\n",
    "    text = text.replace(\"{\", \"{{\")\n",
    "    text = text.replace(\"}\", \"}}\")\n",
    "    prompt = prompt_template.invoke({\"input\": text}).to_string()\n",
    "    item[\"prompt\"] = prompt\n",
    "    return item"
   ]
  },
  {
   "cell_type": "code",
   "execution_count": 33,
   "metadata": {},
   "outputs": [],
   "source": [
    "new_test_dataset = new_test_dataset.map(add_prompt)"
   ]
  },
  {
   "cell_type": "code",
   "execution_count": 35,
   "metadata": {},
   "outputs": [
    {
     "name": "stdout",
     "output_type": "stream",
     "text": [
      "\n",
      "    Classify the given text into exactly one category, providing clear reasoning for your choice. The available categories are: World, Sports, Business, Science/Technology.\n",
      "    Text to classify:\n",
      "    Indian board plans own telecast of Australia series The Indian cricket board said on Wednesday it was making arrangements on its own to broadcast next month #39;s test series against Australia, which is under threat because of a raging TV rights dispute.\n",
      "    Output the classification reasoning in reason and the selected category in label. Return the response in JSON format as follows:\n",
      "    ```json\n",
      "    {\n",
      "        \"reason\" : \"Classification rationale\",\n",
      "        \"label\" : \"Text classification label (select exactly one): [\"World\", \"Sports\", \"Business\", \"Science/Technology\"]\"\n",
      "    }\n",
      "    ```\n",
      "    \n"
     ]
    }
   ],
   "source": [
    "print(new_test_dataset[0][\"prompt\"])"
   ]
  },
  {
   "cell_type": "code",
   "execution_count": 36,
   "metadata": {},
   "outputs": [
    {
     "data": {
      "text/plain": [
       "{'text': 'Indian board plans own telecast of Australia series The Indian cricket board said on Wednesday it was making arrangements on its own to broadcast next month #39;s test series against Australia, which is under threat because of a raging TV rights dispute.',\n",
       " 'label': 1,\n",
       " 'label_text': 'Sports',\n",
       " 'prompt': '\\n    Classify the given text into exactly one category, providing clear reasoning for your choice. The available categories are: World, Sports, Business, Science/Technology.\\n    Text to classify:\\n    Indian board plans own telecast of Australia series The Indian cricket board said on Wednesday it was making arrangements on its own to broadcast next month #39;s test series against Australia, which is under threat because of a raging TV rights dispute.\\n    Output the classification reasoning in reason and the selected category in label. Return the response in JSON format as follows:\\n    ```json\\n    {\\n        \"reason\" : \"Classification rationale\",\\n        \"label\" : \"Text classification label (select exactly one): [\"World\", \"Sports\", \"Business\", \"Science/Technology\"]\"\\n    }\\n    ```\\n    '}"
      ]
     },
     "execution_count": 36,
     "metadata": {},
     "output_type": "execute_result"
    }
   ],
   "source": [
    "new_test_dataset[0]"
   ]
  },
  {
   "cell_type": "code",
   "execution_count": 38,
   "metadata": {},
   "outputs": [
    {
     "data": {
      "text/plain": [
       "Dataset({\n",
       "    features: ['text', 'label', 'label_text', 'prompt'],\n",
       "    num_rows: 1000\n",
       "})"
      ]
     },
     "execution_count": 38,
     "metadata": {},
     "output_type": "execute_result"
    }
   ],
   "source": [
    "new_test_dataset"
   ]
  },
  {
   "cell_type": "code",
   "execution_count": 37,
   "metadata": {},
   "outputs": [
    {
     "data": {
      "application/vnd.jupyter.widget-view+json": {
       "model_id": "7052e2b0d8514bf797249ed62958ced3",
       "version_major": 2,
       "version_minor": 0
      },
      "text/plain": [
       "Creating json from Arrow format:   0%|          | 0/1 [00:00<?, ?ba/s]"
      ]
     },
     "metadata": {},
     "output_type": "display_data"
    },
    {
     "data": {
      "text/plain": [
       "1104310"
      ]
     },
     "execution_count": 37,
     "metadata": {},
     "output_type": "execute_result"
    }
   ],
   "source": [
    "# new_test_dataset.to_json(\"data/ag_news_test.jsonl\")"
   ]
  },
  {
   "cell_type": "code",
   "execution_count": 48,
   "metadata": {},
   "outputs": [
    {
     "data": {
      "text/plain": [
       "Dataset({\n",
       "    features: ['text', 'label', 'label_text', 'prompt'],\n",
       "    num_rows: 1000\n",
       "})"
      ]
     },
     "execution_count": 48,
     "metadata": {},
     "output_type": "execute_result"
    }
   ],
   "source": [
    "new_test_dataset"
   ]
  },
  {
   "cell_type": "code",
   "execution_count": 51,
   "metadata": {},
   "outputs": [
    {
     "data": {
      "text/plain": [
       "Dataset({\n",
       "    features: ['output', 'input', 'instruction'],\n",
       "    num_rows: 1000\n",
       "})"
      ]
     },
     "execution_count": 51,
     "metadata": {},
     "output_type": "execute_result"
    }
   ],
   "source": [
    "output_dataset = new_test_dataset.add_column(\n",
    "    name=\"instruction\", column=[\"\"] * len(new_test_dataset)\n",
    ")\n",
    "output_dataset = output_dataset.remove_columns([\"text\", \"label\"])\n",
    "output_dataset = output_dataset.rename_columns(\n",
    "    {\"prompt\": \"input\", \"label_text\": \"output\"},\n",
    ")\n",
    "output_dataset"
   ]
  },
  {
   "cell_type": "code",
   "execution_count": 52,
   "metadata": {},
   "outputs": [
    {
     "data": {
      "application/vnd.jupyter.widget-view+json": {
       "model_id": "9d2d168ab1de4ddcb9c373e2e1dd4db8",
       "version_major": 2,
       "version_minor": 0
      },
      "text/plain": [
       "Creating json from Arrow format:   0%|          | 0/1 [00:00<?, ?ba/s]"
      ]
     },
     "metadata": {},
     "output_type": "display_data"
    },
    {
     "data": {
      "text/plain": [
       "857841"
      ]
     },
     "execution_count": 52,
     "metadata": {},
     "output_type": "execute_result"
    }
   ],
   "source": [
    "output_dataset.to_json(\"data/ag_news_test.jsonl\")"
   ]
  },
  {
   "cell_type": "code",
   "execution_count": null,
   "metadata": {},
   "outputs": [],
   "source": []
  }
 ],
 "metadata": {
  "kernelspec": {
   "display_name": "llm",
   "language": "python",
   "name": "python3"
  },
  "language_info": {
   "codemirror_mode": {
    "name": "ipython",
    "version": 3
   },
   "file_extension": ".py",
   "mimetype": "text/x-python",
   "name": "python",
   "nbconvert_exporter": "python",
   "pygments_lexer": "ipython3",
   "version": "3.10.13"
  }
 },
 "nbformat": 4,
 "nbformat_minor": 2
}
