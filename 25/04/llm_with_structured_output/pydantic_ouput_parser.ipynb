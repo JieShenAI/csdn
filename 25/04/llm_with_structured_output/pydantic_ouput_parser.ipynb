{
 "cells": [
  {
   "cell_type": "code",
   "execution_count": 2,
   "id": "f05f4853",
   "metadata": {},
   "outputs": [],
   "source": [
    "import json"
   ]
  },
  {
   "cell_type": "code",
   "execution_count": 1,
   "id": "6f45f2db",
   "metadata": {},
   "outputs": [],
   "source": [
    "from typing import Union, List\n",
    "from langchain.output_parsers import PydanticOutputParser\n",
    "from pydantic import BaseModel, Field\n",
    "\n",
    "\n",
    "class CLSResult(BaseModel):\n",
    "    \"\"\"\n",
    "    文本分类结果\n",
    "    \"\"\"\n",
    "\n",
    "    reason: str = Field(description=\"分类原因\")\n",
    "    label: Union[str, List[str]] = Field(\n",
    "        description=\"分类结果，可以是字符串或字符串列表\"\n",
    "    )\n",
    "\n",
    "\n",
    "parser = PydanticOutputParser(pydantic_object=CLSResult)\n",
    "# parser.invoke(cleaned)"
   ]
  },
  {
   "cell_type": "code",
   "execution_count": 4,
   "id": "9c73cf5d",
   "metadata": {},
   "outputs": [],
   "source": [
    "datas = [\n",
    "    {\n",
    "        \"reason\": \"根据文本内容和上下文分析，得出结论\",\n",
    "        \"label\": [\"体育\", \"篮球\"],\n",
    "    },\n",
    "    {\n",
    "        \"reason\": \"根据文本内容和上下文分析，得出结论\",\n",
    "        \"label\": \"体育\",\n",
    "    },\n",
    "]"
   ]
  },
  {
   "cell_type": "code",
   "execution_count": 5,
   "id": "b211df09",
   "metadata": {},
   "outputs": [],
   "source": [
    "datas_str = [\n",
    "    json.dumps(d, ensure_ascii=False)  # 确保中文字符不被转义\n",
    "    for d in datas\n",
    "]"
   ]
  },
  {
   "cell_type": "code",
   "execution_count": 6,
   "id": "20dee8ab",
   "metadata": {},
   "outputs": [
    {
     "data": {
      "text/plain": [
       "['{\"reason\": \"根据文本内容和上下文分析，得出结论\", \"label\": [\"体育\", \"篮球\"]}',\n",
       " '{\"reason\": \"根据文本内容和上下文分析，得出结论\", \"label\": \"体育\"}']"
      ]
     },
     "execution_count": 6,
     "metadata": {},
     "output_type": "execute_result"
    }
   ],
   "source": [
    "datas_str"
   ]
  },
  {
   "cell_type": "code",
   "execution_count": 13,
   "id": "9745dbc7",
   "metadata": {},
   "outputs": [
    {
     "data": {
      "text/plain": [
       "CLSResult(reason='根据文本内容和上下文分析，得出结论', label='体育')"
      ]
     },
     "execution_count": 13,
     "metadata": {},
     "output_type": "execute_result"
    }
   ],
   "source": [
    "parser.invoke(\"```json\\n{}\\n```\".format(datas_str[1]))"
   ]
  },
  {
   "cell_type": "code",
   "execution_count": 14,
   "id": "6938a1ea",
   "metadata": {},
   "outputs": [
    {
     "data": {
      "text/plain": [
       "CLSResult(reason='根据文本内容和上下文分析，得出结论', label='体育')"
      ]
     },
     "execution_count": 14,
     "metadata": {},
     "output_type": "execute_result"
    }
   ],
   "source": [
    "parser.invoke(\"```\\n{}\\n```\".format(datas_str[1]))"
   ]
  },
  {
   "cell_type": "code",
   "execution_count": 19,
   "id": "507ee261",
   "metadata": {},
   "outputs": [
    {
     "data": {
      "text/plain": [
       "CLSResult(reason='根据文本内容和上下文分析，得出结论', label=['体育', '篮球'])"
      ]
     },
     "execution_count": 19,
     "metadata": {},
     "output_type": "execute_result"
    }
   ],
   "source": [
    "parser.invoke(\"```    \\n\\n\\n \\n\\n{}\\n\\n\\n\\n   ```\".format(datas_str[0]))"
   ]
  },
  {
   "cell_type": "code",
   "execution_count": 21,
   "id": "9af171e7",
   "metadata": {},
   "outputs": [
    {
     "data": {
      "text/plain": [
       "CLSResult(reason='根据文本内容和上下文分析，得出结论', label=['体育', '篮球'])"
      ]
     },
     "execution_count": 21,
     "metadata": {},
     "output_type": "execute_result"
    }
   ],
   "source": [
    "parser.invoke(\"the bottom is the answer```    \\n\\n\\n \\n\\n{}\\n\\n\\n\\n   ```\".format(datas_str[0]))"
   ]
  },
  {
   "cell_type": "code",
   "execution_count": 23,
   "id": "b969bfee",
   "metadata": {},
   "outputs": [
    {
     "data": {
      "text/plain": [
       "CLSResult(reason='根据文本内容和上下文分析，得出结论', label='体育')"
      ]
     },
     "execution_count": 23,
     "metadata": {},
     "output_type": "execute_result"
    }
   ],
   "source": [
    "parser.invoke(\"answer is that: ```    \\n\\n\\n \\n\\n{}\\n\\n\\n\\n   ```\".format(datas_str[1]))"
   ]
  },
  {
   "cell_type": "code",
   "execution_count": 24,
   "id": "c38e0720",
   "metadata": {},
   "outputs": [
    {
     "data": {
      "text/plain": [
       "CLSResult(reason='根据文本内容和上下文分析，得出结论', label='体育')"
      ]
     },
     "execution_count": 24,
     "metadata": {},
     "output_type": "execute_result"
    }
   ],
   "source": [
    "parser.invoke(datas_str[1])"
   ]
  },
  {
   "cell_type": "code",
   "execution_count": null,
   "id": "be480fd3",
   "metadata": {},
   "outputs": [],
   "source": []
  }
 ],
 "metadata": {
  "kernelspec": {
   "display_name": "llm",
   "language": "python",
   "name": "python3"
  },
  "language_info": {
   "codemirror_mode": {
    "name": "ipython",
    "version": 3
   },
   "file_extension": ".py",
   "mimetype": "text/x-python",
   "name": "python",
   "nbconvert_exporter": "python",
   "pygments_lexer": "ipython3",
   "version": "3.11.7"
  }
 },
 "nbformat": 4,
 "nbformat_minor": 5
}
