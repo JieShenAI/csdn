{
 "cells": [
  {
   "cell_type": "code",
   "execution_count": 1,
   "metadata": {},
   "outputs": [
    {
     "data": {
      "text/plain": [
       "{'query': 'how many years did william bradford serve as governor of plymouth colony?',\n",
       " 'pos': ['William Bradford, Governor of Plymouth Colony http://en.wikipedia.org/wiki/William_Bradford_(Plymouth_Colony_governor) William Bradford (c.1590 â\\x80\\x93 1657) was an English Separatist leader in Leiden, Holland and in Plymouth Colony was a signatory to the Mayflower Compact. He served as Plymouth Colony Governor five times covering about thirty years between 1621 and 1657.'],\n",
       " 'id': '0'}"
      ]
     },
     "execution_count": 1,
     "metadata": {},
     "output_type": "execute_result"
    }
   ],
   "source": [
    "from datasets import load_dataset\n",
    "\n",
    "total_dataset = load_dataset(\"namespace-Pt/msmarco\", split=\"dev\")\n",
    "total_dataset = total_dataset.rename_column(\"positive\", \"pos\")\n",
    "total_dataset = total_dataset.add_column(\"id\", [str(i) for i in range(len(total_dataset))])\n",
    "total_dataset[0]"
   ]
  },
  {
   "cell_type": "code",
   "execution_count": null,
   "metadata": {},
   "outputs": [],
   "source": [
    "# 统计每一个pos的数量，因为有的数据有多个对应的正样本\n",
    "\n",
    "# from collections import Counter\n",
    "# def get_pos_len(data):\n",
    "#     data[\"pos_len\"] = len(data[\"pos\"])\n",
    "#     return data\n",
    "\n",
    "# Counter(total_dataset.map(get_pos_len)[\"pos_len\"])\n",
    "# Counter({1: 6590, 2: 331, 3: 51, 4: 8})"
   ]
  },
  {
   "cell_type": "code",
   "execution_count": 2,
   "metadata": {},
   "outputs": [],
   "source": [
    "instruction = \"Represent this sentence for searching relevant passages: \"\n",
    "total_dataset = total_dataset.add_column(\"prompt\", [instruction] * len(total_dataset))"
   ]
  },
  {
   "cell_type": "code",
   "execution_count": null,
   "metadata": {},
   "outputs": [],
   "source": [
    "# 在pos中只获取第一个数据\n",
    "# def get_one_pos(data):\n",
    "#     data[\"pos\"] = data[\"pos\"][0]\n",
    "#     return data\n",
    "\n",
    "# total_dataset = total_dataset.map(get_one_pos)\n",
    "# total_dataset[0]"
   ]
  },
  {
   "cell_type": "markdown",
   "metadata": {},
   "source": [
    "# 负样本数据构造"
   ]
  },
  {
   "cell_type": "code",
   "execution_count": null,
   "metadata": {},
   "outputs": [],
   "source": [
    "import numpy as np\n",
    "\n",
    "np.random.seed(42)\n",
    "neg_num = 10\n",
    "\n",
    "\n",
    "def add_neg(ds):\n",
    "    # sample negative texts\n",
    "    new_col = []\n",
    "    for i in range(len(ds)):\n",
    "        ids = np.random.randint(0, len(ds), size=neg_num)\n",
    "        while i in ids:\n",
    "            ids = np.random.randint(0, len(ds), size=neg_num)\n",
    "        neg = [np.random.choice(ds[i.item()][\"pos\"]) for i in ids]\n",
    "        new_col.append(neg)\n",
    "    ds = ds.add_column(\"neg\", new_col)\n",
    "    return ds\n",
    "\n",
    "\n",
    "total_dataset = add_neg(total_dataset)\n",
    "# add_neg(total_dataset)[0]"
   ]
  },
  {
   "cell_type": "code",
   "execution_count": 6,
   "metadata": {},
   "outputs": [
    {
     "data": {
      "text/plain": [
       "{'query': 'how many words for an introduction manuscript',\n",
       " 'pos': ['- Introduction is useful also to the journalâ\\x80\\x99s reviewers and editors in judging the importance of. your manuscript. An Introduction is usually  300 to 500 words, but may be more, depending on the journal and. the topic.'],\n",
       " 'id': '3222',\n",
       " 'prompt': 'Represent this sentence for searching relevant passages: ',\n",
       " 'neg': [\"Transient Global Amnesia The doctors reassured him that it was not a stroke, but rather a memory disorder called transient global amnesia. Transient global amnesia (TGA) is a type of amnesia involving the sudden, temporary disturbance in an otherwise healthy person's memory. The other main kinds of amnesia are called anterograde and retrograde amnesia. Anterograde amnesia is a type of memory loss associated with a trauma, disease, or emotional events.\",\n",
       "  'Cocytus Cocytus /koÊ\\x8aË\\x88saÉªtÉ\\x99s/ or Kokytos /koÊ\\x8aË\\x88kaÉªtÉ\\x99s/ (Ancient Greek: ÎºÏ\\x89ÎºÏ\\x85Ï\\x84Ï\\x8cÏ\\x82, literally lamentation) is a river in the underworld in Greek mythology. Cocytus flows into the river Acheron, on the other side of which lies Hades, The Underworld, the mythological abode of the dead. There are five rivers encircling Hades: the Styx, Phlegethon, Lethe, Acheron and Cocytus. In literature. The Cocytus river was one of the rivers that surrounded Hades. Cocytus, along with the other rivers related to the underworld, was a common topic for ancient authors. Of the ancient authors, Cocytus was mentioned by Virgil, Homer, Cicero, Aeschylus, Apuleius and Plato, among others.',\n",
       "  '- Adding basil to healthy stir-fries, especially those that include eggplant, cabbage, chili peppers, tofu and cashew nuts will give them a Thai flair. PurÃ©e basil, olive oil and onions in a food processor or blender and add to tomato soups. Enjoy a warm cup of invigorating basil tea by infusing chopped basil leaves in boiling water for eight minutes.',\n",
       "  'Fecal incontinence FI is a sign or a symptom, not a diagnosis. Incontinence can result from different causes and might occur with either constipation or diarrhea. Continence is maintained by several inter-related factors, and usually there is more than one deficiency of these mechanisms for incontinence to develop.',\n",
       "  '- Dula Bhaya Kag Dula Bhaya Kag (November 25, 1902 - February 2, 1977) was renowned poet, social reformer and freedom fighter. He was born in Majadar village near Mahuva in Gujarat. He hailed from Charan caste. The subject of his poems was mainly spiritual and devotional, he also wrote eulogical poems for Mahatama Gandhi and Vinoba Bhave.',\n",
       "  \"- Homewood, IL. Cook County, 22 miles SW of the Loop. Central to Homewood's evolution from a whistle-stop farming center to a substantial suburb of a large city is its location on the Illinois Central Railroad. There is no evidence of a Native American settlement in Homewood, but the Vincennes Trace (now Dixie Highway) ran through the town.\",\n",
       "  \"- How long does it take to travel to Mars? NASA's New Horizons probe is the fastest spacecraft launched from Earth as of January 2015. It traveled at 36,000 miles per hour when it was launched in 2006. If it had traveled to Mars during the closest approach to Earth, it could have arrived in as little as 39 days.\",\n",
       "  'Cilostazol Cilostazol - Clinical use. 1  Cilostazol is approved for the treatment of intermittent claudication. 2  Cilostazol is also frequently used off-label, at the same dose, for treatment of intracranial atherosclerosis and secondary stroke prevention. [1] 3  Cilostazol is dangerous for people with severe heart failure.',\n",
       "  'Venator - Large Upside Potential Post Huntsman Spin-Off Venator - Large Upside Potential Post Huntsman Spin-Off. Summary. Venator is the upcoming spinoff from parent company Huntsman, scheduled to become active in Q2 2017. Venator is slated to become a Titanium Dioxide market pure play, by obtaining the pigments and additives division from Huntsman. The standalone valuation of Venator could unlock large price potential post spinoff, as its business will have the chance to be valued closer to that of its peers.',\n",
       "  'Can Vitamins Help Alleviate My Menopause Symptoms? Vitamin B-6 (pyridoxine) helps make serotonin, a chemical responsible for transmitting brain signals. As women age, serotonin levels drop. Fluctuating serotonin levels may be a contributing factor in the mood swings and depression common in menopause. The RDA of vitamin B-6 is 100 milligrams (mg) daily for females 19 and older. Taking a vitamin B-6 supplement during and after menopause may help tame prevent symptoms caused by low serotonin levels. These include loss of energy and depression. Vitamin D']}"
      ]
     },
     "execution_count": 6,
     "metadata": {},
     "output_type": "execute_result"
    }
   ],
   "source": [
    "split_dataset = total_dataset.train_test_split(0.2, 0.8, seed=42)\n",
    "train_dataset, test_dataset = split_dataset[\"train\"], split_dataset[\"test\"]\n",
    "train_dataset[0]"
   ]
  },
  {
   "cell_type": "code",
   "execution_count": 7,
   "metadata": {},
   "outputs": [
    {
     "data": {
      "application/vnd.jupyter.widget-view+json": {
       "model_id": "e96a20932e084f12808a1b66c60e79a8",
       "version_major": 2,
       "version_minor": 0
      },
      "text/plain": [
       "Creating json from Arrow format:   0%|          | 0/6 [00:00<?, ?ba/s]"
      ]
     },
     "metadata": {},
     "output_type": "display_data"
    },
    {
     "data": {
      "text/plain": [
       "23371760"
      ]
     },
     "execution_count": 7,
     "metadata": {},
     "output_type": "execute_result"
    }
   ],
   "source": [
    "train_dataset.to_json(f\"ft_data/training_neg_{neg_num}.json\")"
   ]
  },
  {
   "cell_type": "code",
   "execution_count": null,
   "metadata": {},
   "outputs": [],
   "source": []
  }
 ],
 "metadata": {
  "kernelspec": {
   "display_name": "llm",
   "language": "python",
   "name": "python3"
  },
  "language_info": {
   "codemirror_mode": {
    "name": "ipython",
    "version": 3
   },
   "file_extension": ".py",
   "mimetype": "text/x-python",
   "name": "python",
   "nbconvert_exporter": "python",
   "pygments_lexer": "ipython3",
   "version": "3.10.13"
  }
 },
 "nbformat": 4,
 "nbformat_minor": 2
}
