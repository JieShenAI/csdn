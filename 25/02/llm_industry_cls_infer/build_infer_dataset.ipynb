{
 "cells": [
  {
   "cell_type": "code",
   "execution_count": 1,
   "metadata": {},
   "outputs": [],
   "source": [
    "import pandas as pd\n",
    "import random\n",
    "from typing import List\n",
    "import json\n",
    "from copy import deepcopy\n",
    "from tqdm import tqdm"
   ]
  },
  {
   "cell_type": "code",
   "execution_count": 2,
   "metadata": {},
   "outputs": [],
   "source": [
    "INDUSTRY_NAME = \"产业链名\"\n",
    "INDUSTRY_NODE = \"产业链环节\"\n",
    "INDUSTRY_DESC = \"产业链环节描述\"\n",
    "\n",
    "# df = pd.read_excel(\"六链五群行业分类.xlsx\")\n",
    "# df = df.rename(columns={\"六链\": INDUSTRY_NAME})"
   ]
  },
  {
   "cell_type": "code",
   "execution_count": 2,
   "metadata": {},
   "outputs": [
    {
     "data": {
      "text/html": [
       "<div>\n",
       "<style scoped>\n",
       "    .dataframe tbody tr th:only-of-type {\n",
       "        vertical-align: middle;\n",
       "    }\n",
       "\n",
       "    .dataframe tbody tr th {\n",
       "        vertical-align: top;\n",
       "    }\n",
       "\n",
       "    .dataframe thead th {\n",
       "        text-align: right;\n",
       "    }\n",
       "</style>\n",
       "<table border=\"1\" class=\"dataframe\">\n",
       "  <thead>\n",
       "    <tr style=\"text-align: right;\">\n",
       "      <th></th>\n",
       "      <th>序号</th>\n",
       "      <th>五群</th>\n",
       "      <th>产业链环节</th>\n",
       "      <th>产业链环节描述</th>\n",
       "      <th>行业代码</th>\n",
       "    </tr>\n",
       "  </thead>\n",
       "  <tbody>\n",
       "    <tr>\n",
       "      <th>0</th>\n",
       "      <td>1.0</td>\n",
       "      <td>集成电路</td>\n",
       "      <td>芯片设计</td>\n",
       "      <td>电路设计、版图设计、半导体材料、设计工具</td>\n",
       "      <td>NaN</td>\n",
       "    </tr>\n",
       "    <tr>\n",
       "      <th>1</th>\n",
       "      <td>NaN</td>\n",
       "      <td>集成电路</td>\n",
       "      <td>芯片制造</td>\n",
       "      <td>晶圆制造、封装测试</td>\n",
       "      <td>NaN</td>\n",
       "    </tr>\n",
       "  </tbody>\n",
       "</table>\n",
       "</div>"
      ],
      "text/plain": [
       "    序号    五群 产业链环节               产业链环节描述  行业代码\n",
       "0  1.0  集成电路  芯片设计  电路设计、版图设计、半导体材料、设计工具   NaN\n",
       "1  NaN  集成电路  芯片制造             晶圆制造、封装测试   NaN"
      ]
     },
     "execution_count": 2,
     "metadata": {},
     "output_type": "execute_result"
    }
   ],
   "source": [
    "df = pd.read_excel(\"五群行业分类.xlsx\", sheet_name=\"五群\")  # 读取所有 Sheet\n",
    "df.head(2)"
   ]
  },
  {
   "cell_type": "code",
   "execution_count": 5,
   "metadata": {},
   "outputs": [
    {
     "data": {
      "text/html": [
       "<div>\n",
       "<style scoped>\n",
       "    .dataframe tbody tr th:only-of-type {\n",
       "        vertical-align: middle;\n",
       "    }\n",
       "\n",
       "    .dataframe tbody tr th {\n",
       "        vertical-align: top;\n",
       "    }\n",
       "\n",
       "    .dataframe thead th {\n",
       "        text-align: right;\n",
       "    }\n",
       "</style>\n",
       "<table border=\"1\" class=\"dataframe\">\n",
       "  <thead>\n",
       "    <tr style=\"text-align: right;\">\n",
       "      <th></th>\n",
       "      <th>序号</th>\n",
       "      <th>五群</th>\n",
       "      <th>产业链环节</th>\n",
       "      <th>产业链环节描述</th>\n",
       "      <th>行业代码</th>\n",
       "    </tr>\n",
       "  </thead>\n",
       "  <tbody>\n",
       "    <tr>\n",
       "      <th>0</th>\n",
       "      <td>1.0</td>\n",
       "      <td>集成电路</td>\n",
       "      <td>芯片设计</td>\n",
       "      <td>电路设计、版图设计、半导体材料、设计工具</td>\n",
       "      <td>NaN</td>\n",
       "    </tr>\n",
       "    <tr>\n",
       "      <th>1</th>\n",
       "      <td>NaN</td>\n",
       "      <td>NaN</td>\n",
       "      <td>芯片制造</td>\n",
       "      <td>晶圆制造、封装测试</td>\n",
       "      <td>NaN</td>\n",
       "    </tr>\n",
       "  </tbody>\n",
       "</table>\n",
       "</div>"
      ],
      "text/plain": [
       "    序号    五群 产业链环节               产业链环节描述  行业代码\n",
       "0  1.0  集成电路  芯片设计  电路设计、版图设计、半导体材料、设计工具   NaN\n",
       "1  NaN   NaN  芯片制造             晶圆制造、封装测试   NaN"
      ]
     },
     "execution_count": 5,
     "metadata": {},
     "output_type": "execute_result"
    }
   ],
   "source": [
    "df = pd.read_excel(\"六链五群行业分类.xlsx\", sheet_name=\"五群\")  # 读取所有 Sheet\n"
   ]
  },
  {
   "cell_type": "code",
   "execution_count": 3,
   "metadata": {},
   "outputs": [
    {
     "data": {
      "text/html": [
       "<div>\n",
       "<style scoped>\n",
       "    .dataframe tbody tr th:only-of-type {\n",
       "        vertical-align: middle;\n",
       "    }\n",
       "\n",
       "    .dataframe tbody tr th {\n",
       "        vertical-align: top;\n",
       "    }\n",
       "\n",
       "    .dataframe thead th {\n",
       "        text-align: right;\n",
       "    }\n",
       "</style>\n",
       "<table border=\"1\" class=\"dataframe\">\n",
       "  <thead>\n",
       "    <tr style=\"text-align: right;\">\n",
       "      <th></th>\n",
       "      <th>序号</th>\n",
       "      <th>五群</th>\n",
       "      <th>产业链环节</th>\n",
       "      <th>产业链环节描述</th>\n",
       "      <th>行业代码</th>\n",
       "    </tr>\n",
       "  </thead>\n",
       "  <tbody>\n",
       "    <tr>\n",
       "      <th>0</th>\n",
       "      <td>1.0</td>\n",
       "      <td>集成电路</td>\n",
       "      <td>芯片设计</td>\n",
       "      <td>电路设计、版图设计、半导体材料、设计工具</td>\n",
       "      <td>NaN</td>\n",
       "    </tr>\n",
       "    <tr>\n",
       "      <th>1</th>\n",
       "      <td>NaN</td>\n",
       "      <td>集成电路</td>\n",
       "      <td>芯片制造</td>\n",
       "      <td>晶圆制造、封装测试</td>\n",
       "      <td>NaN</td>\n",
       "    </tr>\n",
       "    <tr>\n",
       "      <th>2</th>\n",
       "      <td>NaN</td>\n",
       "      <td>集成电路</td>\n",
       "      <td>应用与系统集成</td>\n",
       "      <td>芯片销售、嵌入式系统开发、销售渠道</td>\n",
       "      <td>NaN</td>\n",
       "    </tr>\n",
       "    <tr>\n",
       "      <th>3</th>\n",
       "      <td>2.0</td>\n",
       "      <td>网络安全</td>\n",
       "      <td>安全技术研发</td>\n",
       "      <td>加密技术、防火墙技术、身份验证</td>\n",
       "      <td>NaN</td>\n",
       "    </tr>\n",
       "    <tr>\n",
       "      <th>4</th>\n",
       "      <td>NaN</td>\n",
       "      <td>网络安全</td>\n",
       "      <td>安全产品开发</td>\n",
       "      <td>安全软件、安全硬件</td>\n",
       "      <td>NaN</td>\n",
       "    </tr>\n",
       "    <tr>\n",
       "      <th>5</th>\n",
       "      <td>NaN</td>\n",
       "      <td>网络安全</td>\n",
       "      <td>安全服务提供</td>\n",
       "      <td>安全咨询、安全运维、IT服务提供商</td>\n",
       "      <td>NaN</td>\n",
       "    </tr>\n",
       "    <tr>\n",
       "      <th>6</th>\n",
       "      <td>4.0</td>\n",
       "      <td>电力装备</td>\n",
       "      <td>电力设备研发与设计</td>\n",
       "      <td>发电机研发、变压器研发与设计</td>\n",
       "      <td>NaN</td>\n",
       "    </tr>\n",
       "    <tr>\n",
       "      <th>7</th>\n",
       "      <td>NaN</td>\n",
       "      <td>电力装备</td>\n",
       "      <td>电力设备制造与组装</td>\n",
       "      <td>设备制造、部件组装、发电设备、输变电设施</td>\n",
       "      <td>NaN</td>\n",
       "    </tr>\n",
       "    <tr>\n",
       "      <th>8</th>\n",
       "      <td>NaN</td>\n",
       "      <td>电力装备</td>\n",
       "      <td>电力设施建设与运维</td>\n",
       "      <td>电网建设、设备运维、电力销售、维护保养</td>\n",
       "      <td>NaN</td>\n",
       "    </tr>\n",
       "    <tr>\n",
       "      <th>9</th>\n",
       "      <td>5.0</td>\n",
       "      <td>安全应急装备</td>\n",
       "      <td>安全应急技术研发</td>\n",
       "      <td>监测预警技术、救援技术</td>\n",
       "      <td>NaN</td>\n",
       "    </tr>\n",
       "    <tr>\n",
       "      <th>10</th>\n",
       "      <td>NaN</td>\n",
       "      <td>安全应急装备</td>\n",
       "      <td>安全应急装备制造</td>\n",
       "      <td>救援设备、防护装备、监控系统、特种材料、防护用品</td>\n",
       "      <td>NaN</td>\n",
       "    </tr>\n",
       "    <tr>\n",
       "      <th>11</th>\n",
       "      <td>NaN</td>\n",
       "      <td>安全应急装备</td>\n",
       "      <td>应急服务与救援应用</td>\n",
       "      <td>灾害响应、救援行动、应急响应服务、培训与演练</td>\n",
       "      <td>NaN</td>\n",
       "    </tr>\n",
       "  </tbody>\n",
       "</table>\n",
       "</div>"
      ],
      "text/plain": [
       "     序号      五群      产业链环节                   产业链环节描述  行业代码\n",
       "0   1.0    集成电路       芯片设计      电路设计、版图设计、半导体材料、设计工具   NaN\n",
       "1   NaN    集成电路       芯片制造                 晶圆制造、封装测试   NaN\n",
       "2   NaN    集成电路    应用与系统集成         芯片销售、嵌入式系统开发、销售渠道   NaN\n",
       "3   2.0    网络安全     安全技术研发           加密技术、防火墙技术、身份验证   NaN\n",
       "4   NaN    网络安全     安全产品开发                 安全软件、安全硬件   NaN\n",
       "5   NaN    网络安全     安全服务提供         安全咨询、安全运维、IT服务提供商   NaN\n",
       "6   4.0    电力装备  电力设备研发与设计            发电机研发、变压器研发与设计   NaN\n",
       "7   NaN    电力装备  电力设备制造与组装      设备制造、部件组装、发电设备、输变电设施   NaN\n",
       "8   NaN    电力装备  电力设施建设与运维       电网建设、设备运维、电力销售、维护保养   NaN\n",
       "9   5.0  安全应急装备   安全应急技术研发               监测预警技术、救援技术   NaN\n",
       "10  NaN  安全应急装备   安全应急装备制造  救援设备、防护装备、监控系统、特种材料、防护用品   NaN\n",
       "11  NaN  安全应急装备  应急服务与救援应用    灾害响应、救援行动、应急响应服务、培训与演练   NaN"
      ]
     },
     "execution_count": 3,
     "metadata": {},
     "output_type": "execute_result"
    }
   ],
   "source": [
    "df"
   ]
  },
  {
   "cell_type": "markdown",
   "metadata": {},
   "source": [
    "加载所有的行业"
   ]
  },
  {
   "cell_type": "code",
   "execution_count": 3,
   "metadata": {},
   "outputs": [
    {
     "data": {
      "text/html": [
       "<div>\n",
       "<style scoped>\n",
       "    .dataframe tbody tr th:only-of-type {\n",
       "        vertical-align: middle;\n",
       "    }\n",
       "\n",
       "    .dataframe tbody tr th {\n",
       "        vertical-align: top;\n",
       "    }\n",
       "\n",
       "    .dataframe thead th {\n",
       "        text-align: right;\n",
       "    }\n",
       "</style>\n",
       "<table border=\"1\" class=\"dataframe\">\n",
       "  <thead>\n",
       "    <tr style=\"text-align: right;\">\n",
       "      <th></th>\n",
       "      <th>小类代码2017</th>\n",
       "      <th>小类名称2017</th>\n",
       "      <th>notesum</th>\n",
       "      <th>门类代码2017</th>\n",
       "      <th>门类名称2017</th>\n",
       "      <th>大类代码2017</th>\n",
       "      <th>大类名称2017</th>\n",
       "      <th>中类代码2017</th>\n",
       "      <th>中类名称2017</th>\n",
       "    </tr>\n",
       "  </thead>\n",
       "  <tbody>\n",
       "    <tr>\n",
       "      <th>0</th>\n",
       "      <td>111</td>\n",
       "      <td>稻谷种植</td>\n",
       "      <td>包括对下列稻谷的种植活动：—早籼稻：种用早籼稻、其他早籼稻；—晚籼稻：种用晚籼稻、其他晚籼稻...</td>\n",
       "      <td>A</td>\n",
       "      <td>农、林、牧、渔业</td>\n",
       "      <td>1</td>\n",
       "      <td>农业</td>\n",
       "      <td>11</td>\n",
       "      <td>谷物种植</td>\n",
       "    </tr>\n",
       "    <tr>\n",
       "      <th>1</th>\n",
       "      <td>112</td>\n",
       "      <td>小麦种植</td>\n",
       "      <td>包括对下列小麦的种植活动：—硬质小麦：种用硬质小麦、其他硬质小麦；—软质小麦：种用软质小麦、...</td>\n",
       "      <td>A</td>\n",
       "      <td>农、林、牧、渔业</td>\n",
       "      <td>1</td>\n",
       "      <td>农业</td>\n",
       "      <td>11</td>\n",
       "      <td>谷物种植</td>\n",
       "    </tr>\n",
       "    <tr>\n",
       "      <th>2</th>\n",
       "      <td>113</td>\n",
       "      <td>玉米种植</td>\n",
       "      <td>包括对下列玉米的种植活动：—白玉米：种用白玉米、其他白玉米；—黄玉米：种用黄玉米、其他黄玉米...</td>\n",
       "      <td>A</td>\n",
       "      <td>农、林、牧、渔业</td>\n",
       "      <td>1</td>\n",
       "      <td>农业</td>\n",
       "      <td>11</td>\n",
       "      <td>谷物种植</td>\n",
       "    </tr>\n",
       "    <tr>\n",
       "      <th>3</th>\n",
       "      <td>119</td>\n",
       "      <td>其他谷物种植</td>\n",
       "      <td>包括对下列谷物的种植活动：—谷子：硬谷子、糯谷子、其他谷子；—高粱：红粒高粱（种用红粒高粱、...</td>\n",
       "      <td>A</td>\n",
       "      <td>农、林、牧、渔业</td>\n",
       "      <td>1</td>\n",
       "      <td>农业</td>\n",
       "      <td>11</td>\n",
       "      <td>谷物种植</td>\n",
       "    </tr>\n",
       "    <tr>\n",
       "      <th>4</th>\n",
       "      <td>121</td>\n",
       "      <td>豆类种植</td>\n",
       "      <td>包括对下列豆类的种植活动：—大豆：黄大豆、黑大豆、青大豆、褐红大豆、双青豆、青仁乌豆、小黑豆...</td>\n",
       "      <td>A</td>\n",
       "      <td>农、林、牧、渔业</td>\n",
       "      <td>1</td>\n",
       "      <td>农业</td>\n",
       "      <td>12</td>\n",
       "      <td>豆类、油料和薯类种植</td>\n",
       "    </tr>\n",
       "  </tbody>\n",
       "</table>\n",
       "</div>"
      ],
      "text/plain": [
       "   小类代码2017 小类名称2017                                            notesum  \\\n",
       "0       111     稻谷种植  包括对下列稻谷的种植活动：—早籼稻：种用早籼稻、其他早籼稻；—晚籼稻：种用晚籼稻、其他晚籼稻...   \n",
       "1       112     小麦种植  包括对下列小麦的种植活动：—硬质小麦：种用硬质小麦、其他硬质小麦；—软质小麦：种用软质小麦、...   \n",
       "2       113     玉米种植  包括对下列玉米的种植活动：—白玉米：种用白玉米、其他白玉米；—黄玉米：种用黄玉米、其他黄玉米...   \n",
       "3       119   其他谷物种植  包括对下列谷物的种植活动：—谷子：硬谷子、糯谷子、其他谷子；—高粱：红粒高粱（种用红粒高粱、...   \n",
       "4       121     豆类种植  包括对下列豆类的种植活动：—大豆：黄大豆、黑大豆、青大豆、褐红大豆、双青豆、青仁乌豆、小黑豆...   \n",
       "\n",
       "  门类代码2017  门类名称2017  大类代码2017 大类名称2017  中类代码2017    中类名称2017  \n",
       "0        A  农、林、牧、渔业         1       农业        11        谷物种植  \n",
       "1        A  农、林、牧、渔业         1       农业        11        谷物种植  \n",
       "2        A  农、林、牧、渔业         1       农业        11        谷物种植  \n",
       "3        A  农、林、牧、渔业         1       农业        11        谷物种植  \n",
       "4        A  农、林、牧、渔业         1       农业        12  豆类、油料和薯类种植  "
      ]
     },
     "execution_count": 3,
     "metadata": {},
     "output_type": "execute_result"
    }
   ],
   "source": [
    "industry_cls_df = pd.read_excel(\"小类注释_含一二三位数代码及名称.xlsx\")\n",
    "industry_cls_df.head()"
   ]
  },
  {
   "cell_type": "code",
   "execution_count": 4,
   "metadata": {},
   "outputs": [
    {
     "data": {
      "text/html": [
       "<div>\n",
       "<style scoped>\n",
       "    .dataframe tbody tr th:only-of-type {\n",
       "        vertical-align: middle;\n",
       "    }\n",
       "\n",
       "    .dataframe tbody tr th {\n",
       "        vertical-align: top;\n",
       "    }\n",
       "\n",
       "    .dataframe thead th {\n",
       "        text-align: right;\n",
       "    }\n",
       "</style>\n",
       "<table border=\"1\" class=\"dataframe\">\n",
       "  <thead>\n",
       "    <tr style=\"text-align: right;\">\n",
       "      <th></th>\n",
       "      <th>code</th>\n",
       "      <th>name</th>\n",
       "    </tr>\n",
       "  </thead>\n",
       "  <tbody>\n",
       "    <tr>\n",
       "      <th>0</th>\n",
       "      <td>0111</td>\n",
       "      <td>稻谷种植</td>\n",
       "    </tr>\n",
       "    <tr>\n",
       "      <th>1</th>\n",
       "      <td>0112</td>\n",
       "      <td>小麦种植</td>\n",
       "    </tr>\n",
       "    <tr>\n",
       "      <th>2</th>\n",
       "      <td>0113</td>\n",
       "      <td>玉米种植</td>\n",
       "    </tr>\n",
       "    <tr>\n",
       "      <th>3</th>\n",
       "      <td>0119</td>\n",
       "      <td>其他谷物种植</td>\n",
       "    </tr>\n",
       "    <tr>\n",
       "      <th>4</th>\n",
       "      <td>0121</td>\n",
       "      <td>豆类种植</td>\n",
       "    </tr>\n",
       "  </tbody>\n",
       "</table>\n",
       "</div>"
      ],
      "text/plain": [
       "   code    name\n",
       "0  0111    稻谷种植\n",
       "1  0112    小麦种植\n",
       "2  0113    玉米种植\n",
       "3  0119  其他谷物种植\n",
       "4  0121    豆类种植"
      ]
     },
     "execution_count": 4,
     "metadata": {},
     "output_type": "execute_result"
    }
   ],
   "source": [
    "industry_cls_df = industry_cls_df[[\"小类代码2017\", \"小类名称2017\"]]\n",
    "industry_cls_df = industry_cls_df.rename(\n",
    "    columns={\"小类代码2017\": \"code\", \"小类名称2017\": \"name\"}\n",
    ")\n",
    "industry_cls_df[\"code\"] = industry_cls_df[\"code\"].map(lambda x: str(x).zfill(4))\n",
    "industry_cls_df.head()"
   ]
  },
  {
   "cell_type": "code",
   "execution_count": 5,
   "metadata": {},
   "outputs": [],
   "source": [
    "ALL_CLS_NAME = industry_cls_df[\"name\"].values.tolist()"
   ]
  },
  {
   "cell_type": "markdown",
   "metadata": {},
   "source": [
    "## build infer dataset"
   ]
  },
  {
   "cell_type": "code",
   "execution_count": 6,
   "metadata": {},
   "outputs": [],
   "source": [
    "prompt_template = \"\"\"\n",
    "你是资深的产业专家！请先浏览下述产业环节的描述文本。\n",
    "{name} {node}产业链环节：{desc}\n",
    "接下来，请你逐一浏览行业分类列表：{selected_elements}，并在其中找出一眼看上去就属于上述产业链环节的行业，不需要做过渡的行业内容挖掘。\n",
    "以python列表的格式输出，若没有密切相关的行业就返回空列表[]。输出样例：[\"xxx\", \"xxx\"]\n",
    "\"\"\".strip()"
   ]
  },
  {
   "cell_type": "code",
   "execution_count": 7,
   "metadata": {},
   "outputs": [],
   "source": [
    "def select_cls(arr: List, n: int) -> List:\n",
    "    \"\"\"\n",
    "    从 arr 中，随机筛选出 n 个元素，然后从cls中删除筛选出的元素\n",
    "    \"\"\"\n",
    "    n = min(len(arr), n)\n",
    "    if n == len(arr):\n",
    "        return arr, []\n",
    "\n",
    "    # 随机选择 n 个元素\n",
    "    selected_elements = random.sample(arr, n)\n",
    "\n",
    "    # 从 arr 中删除选中的元素\n",
    "    for element in selected_elements:\n",
    "        arr.remove(element)\n",
    "\n",
    "    return selected_elements, arr"
   ]
  },
  {
   "cell_type": "code",
   "execution_count": 8,
   "metadata": {},
   "outputs": [
    {
     "data": {
      "text/plain": [
       "'你是资深的产业专家！请先浏览下述产业环节的描述文本。\\n{name} {node}产业链环节：{desc}\\n接下来，请你逐一浏览行业分类列表：{selected_elements}，并在其中找出一眼看上去就属于上述产业链环节的行业，不需要做过渡的行业内容挖掘。\\n以python列表的格式输出，若没有密切相关的行业就返回空列表[]。输出样例：[\"xxx\", \"xxx\"]'"
      ]
     },
     "execution_count": 8,
     "metadata": {},
     "output_type": "execute_result"
    }
   ],
   "source": [
    "prompt_template.strip()"
   ]
  },
  {
   "cell_type": "code",
   "execution_count": null,
   "metadata": {},
   "outputs": [],
   "source": []
  },
  {
   "cell_type": "code",
   "execution_count": 9,
   "metadata": {},
   "outputs": [
    {
     "name": "stderr",
     "output_type": "stream",
     "text": [
      "18it [00:00, 269.59it/s]\n"
     ]
    }
   ],
   "source": [
    "ALL_CLS_NAME = industry_cls_df[\"name\"].values.tolist()\n",
    "prompts = []\n",
    "\n",
    "for _, row in tqdm(df.iterrows()):\n",
    "    new_CLS = deepcopy(ALL_CLS_NAME)\n",
    "    while len(new_CLS) > 0:\n",
    "        name, node, desc = row[INDUSTRY_NAME], row[INDUSTRY_NODE], row[INDUSTRY_DESC]\n",
    "        selected_elements, new_CLS = select_cls(new_CLS, 5)\n",
    "        prompt = prompt_template.format(\n",
    "            selected_elements=selected_elements, name=name, node=node, desc=desc\n",
    "        )\n",
    "        prompts.append({\"instruction\": prompt, \"input\": \"\", \"output\": \"\"})"
   ]
  },
  {
   "cell_type": "code",
   "execution_count": 10,
   "metadata": {},
   "outputs": [
    {
     "data": {
      "text/plain": [
       "{'instruction': '你是资深的产业专家！请先浏览下述产业环节的描述文本。\\n氢能 氢气制备产业链环节：制氢原料获取、制氢技术、储氢材料\\n接下来，请你逐一浏览行业分类列表：[\\'陈设艺术陶瓷制造\\', \\'其他化工产品批发\\', \\'针织或钩针编织品制造\\', \\'农用薄膜批发\\', \\'地下综合管廊工程建筑\\']，并在其中找出一眼看上去就属于上述产业链环节的行业，不需要做过渡的行业内容挖掘。\\n以python列表的格式输出，若没有密切相关的行业就返回空列表[]。输出样例：[\"xxx\", \"xxx\"]',\n",
       " 'input': '',\n",
       " 'output': ''}"
      ]
     },
     "execution_count": 10,
     "metadata": {},
     "output_type": "execute_result"
    }
   ],
   "source": [
    "prompts[0]"
   ]
  },
  {
   "cell_type": "code",
   "execution_count": 11,
   "metadata": {},
   "outputs": [],
   "source": [
    "def save_json(obj, file):\n",
    "    with open(file, \"w\") as f:\n",
    "        json.dump(obj, f, ensure_ascii=False, indent=2)"
   ]
  },
  {
   "cell_type": "code",
   "execution_count": 12,
   "metadata": {},
   "outputs": [],
   "source": [
    "save_json(prompts, \"data/industry_cls.json\")"
   ]
  },
  {
   "cell_type": "code",
   "execution_count": 13,
   "metadata": {},
   "outputs": [
    {
     "name": "stdout",
     "output_type": "stream",
     "text": [
      "[\n",
      "  {\n",
      "    \"instruction\": \"你是资深的产业专家！请先浏览下述产业环节的描述文本。\\n氢能 氢气制备产业链环节：制氢原料获取、制氢技术、储氢材料\\n接下来，请你逐一浏览行业分类列表：['陈设艺术陶瓷制造', '其他化工产品批发', '针织或钩针编织品制造', '农用薄膜批发', '地下综合管廊工程建筑']，并在其中找出一眼看上去就属于上述产业链环节的行业，不需要做过渡的行业内容挖掘。\\n以python列表的格式输出，若没有密切相关的行业就返回空列表[]。输出样例：[\\\"xxx\\\", \\\"xxx\\\"]\",\n",
      "    \"input\": \"\",\n",
      "    \"output\": \"\"\n"
     ]
    }
   ],
   "source": [
    "!head -5 data/industry_cls.json"
   ]
  }
 ],
 "metadata": {
  "kernelspec": {
   "display_name": "factory",
   "language": "python",
   "name": "python3"
  },
  "language_info": {
   "codemirror_mode": {
    "name": "ipython",
    "version": 3
   },
   "file_extension": ".py",
   "mimetype": "text/x-python",
   "name": "python",
   "nbconvert_exporter": "python",
   "pygments_lexer": "ipython3",
   "version": "3.11.11"
  }
 },
 "nbformat": 4,
 "nbformat_minor": 2
}
