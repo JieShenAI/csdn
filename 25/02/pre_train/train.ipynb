{
 "cells": [
  {
   "cell_type": "code",
   "execution_count": 1,
   "metadata": {},
   "outputs": [],
   "source": [
    "from typing import List, Dict, Sequence\n",
    "import torch\n",
    "import transformers\n",
    "from transformers import TrainingArguments, Trainer\n",
    "from torch.utils.data import Dataset\n",
    "from dataclasses import dataclass\n",
    "\n",
    "IGNORE_INDEX = -100\n",
    "device = \"cuda:0\" if torch.cuda.is_available() else \"cpu\""
   ]
  },
  {
   "cell_type": "code",
   "execution_count": 2,
   "metadata": {},
   "outputs": [],
   "source": [
    "from transformers import AutoModelForCausalLM, AutoTokenizer\n",
    "\n",
    "model_dir = r\"Qwen/Qwen2.5-0.5B\"\n",
    "\n",
    "model = AutoModelForCausalLM.from_pretrained(model_dir)\n",
    "model = model.to(\"cuda:0\")\n",
    "\n",
    "tokenizer = AutoTokenizer.from_pretrained(model_dir, padding_side=\"right\")"
   ]
  },
  {
   "cell_type": "code",
   "execution_count": 3,
   "metadata": {},
   "outputs": [
    {
     "data": {
      "text/plain": [
       "1"
      ]
     },
     "execution_count": 3,
     "metadata": {},
     "output_type": "execute_result"
    }
   ],
   "source": [
    "tokenizer.add_special_tokens({\n",
    "    \"pad_token\": \"[PAD]\"\n",
    "})"
   ]
  },
  {
   "cell_type": "code",
   "execution_count": 4,
   "metadata": {},
   "outputs": [
    {
     "data": {
      "text/plain": [
       "{'eos_token': '<|endoftext|>',\n",
       " 'pad_token': '[PAD]',\n",
       " 'additional_special_tokens': ['<|im_start|>',\n",
       "  '<|im_end|>',\n",
       "  '<|object_ref_start|>',\n",
       "  '<|object_ref_end|>',\n",
       "  '<|box_start|>',\n",
       "  '<|box_end|>',\n",
       "  '<|quad_start|>',\n",
       "  '<|quad_end|>',\n",
       "  '<|vision_start|>',\n",
       "  '<|vision_end|>',\n",
       "  '<|vision_pad|>',\n",
       "  '<|image_pad|>',\n",
       "  '<|video_pad|>']}"
      ]
     },
     "execution_count": 4,
     "metadata": {},
     "output_type": "execute_result"
    }
   ],
   "source": [
    "tokenizer.special_tokens_map"
   ]
  },
  {
   "cell_type": "code",
   "execution_count": 5,
   "metadata": {},
   "outputs": [
    {
     "data": {
      "text/plain": [
       "('[PAD]', 151665)"
      ]
     },
     "execution_count": 5,
     "metadata": {},
     "output_type": "execute_result"
    }
   ],
   "source": [
    "tokenizer.pad_token, tokenizer.pad_token_id"
   ]
  },
  {
   "cell_type": "markdown",
   "metadata": {},
   "source": [
    "## 加载数据集"
   ]
  },
  {
   "cell_type": "code",
   "execution_count": null,
   "metadata": {},
   "outputs": [
    {
     "data": {
      "text/plain": [
       "[{'instruct': '请你给哪吒写一首诗：',\n",
       "  'input': '哪吒降世，意气飞扬。\\n逆天改命，破障冲霄。',\n",
       "  'label': '红绫缠腕，风火踏浪。\\n不屈不悔，笑傲苍茫。'},\n",
       " {'instruct': '请你给敖丙写一首诗：', 'input': '碧海生龙子，云中舞雪霜。', 'label': '恩仇难两忘，何处是家乡？'},\n",
       " {'instruct': '请你给殷夫人写一首诗：',\n",
       "  'input': '十月怀胎盼子生，柔心铁骨两相承。',\n",
       "  'label': '甘将慈爱护天地，不惧风雷不惧征。'},\n",
       " {'instruct': '请你给太乙真人写一首诗：', 'input': '仙风道骨，骑兽遨游。', 'label': '炉中炼术，指点神童。'},\n",
       " {'instruct': '请你给申公豹写一首诗：',\n",
       "  'input': '阴谋藏心，步步为营。\\n狂傲不羁，志向高冥。',\n",
       "  'label': '欲翻天命，终难遂行。\\n困局自招，悔恨难平。'}]"
      ]
     },
     "execution_count": 6,
     "metadata": {},
     "output_type": "execute_result"
    }
   ],
   "source": [
    "import json\n",
    "\n",
    "with open(\"data.json\", \"r\") as f:\n",
    "    data = json.load(f)\n",
    "data"
   ]
  },
  {
   "cell_type": "code",
   "execution_count": null,
   "metadata": {},
   "outputs": [],
   "source": []
  },
  {
   "cell_type": "markdown",
   "metadata": {},
   "source": [
    "## 自定义数据集"
   ]
  },
  {
   "cell_type": "markdown",
   "metadata": {},
   "source": [
    "我有一个问题，在data_collator中，attention_mask 能填充 0 吗？ "
   ]
  },
  {
   "cell_type": "markdown",
   "metadata": {},
   "source": [
    "先尝试好的写法"
   ]
  },
  {
   "cell_type": "code",
   "execution_count": 7,
   "metadata": {},
   "outputs": [
    {
     "data": {
      "text/plain": [
       "'请你给哪吒写一首诗：哪吒降世，意气飞扬。\\n逆天改命，破障冲霄。红绫缠腕，风火踏浪。\\n不屈不悔，笑傲苍茫。<|endoftext|>'"
      ]
     },
     "execution_count": 7,
     "metadata": {},
     "output_type": "execute_result"
    }
   ],
   "source": [
    "class PreTrainDataset(Dataset):\n",
    "    \n",
    "    def __init__(self, data: List):\n",
    "        super().__init__()\n",
    "        self.data = data\n",
    "\n",
    "    def __len__(self):\n",
    "        return len(self.data)\n",
    "\n",
    "    def __getitem__(self, idx) -> List[Dict]:\n",
    "        item = self.data[idx]\n",
    "        text = item[\"instruct\"] + item[\"input\"] + item[\"label\"] + tokenizer.eos_token\n",
    "        return text\n",
    "    \n",
    "dataset = PreTrainDataset(data)\n",
    "dataset[0]"
   ]
  },
  {
   "cell_type": "code",
   "execution_count": 8,
   "metadata": {},
   "outputs": [
    {
     "data": {
      "text/plain": [
       "{'input_ids': [112720, 89012, 99459, 122157, 61443, 108462, 100045, 5122, 99459, 122157, 99457, 99244, 3837, 36589, 99180, 115449, 8997, 100531, 35727, 22418, 50509, 3837, 99577, 99884, 99907, 109564, 1773, 99425, 120827, 103073, 103610, 3837, 99208, 79599, 100875, 99964, 8997, 16530, 102683, 16530, 103020, 3837, 48738, 102744, 102635, 100619, 1773, 151643], 'attention_mask': [1, 1, 1, 1, 1, 1, 1, 1, 1, 1, 1, 1, 1, 1, 1, 1, 1, 1, 1, 1, 1, 1, 1, 1, 1, 1, 1, 1, 1, 1, 1, 1, 1, 1, 1, 1, 1, 1, 1, 1, 1, 1, 1, 1, 1, 1, 1, 1]}"
      ]
     },
     "execution_count": 8,
     "metadata": {},
     "output_type": "execute_result"
    }
   ],
   "source": [
    "tokenizer(dataset[0])"
   ]
  },
  {
   "cell_type": "code",
   "execution_count": 9,
   "metadata": {},
   "outputs": [],
   "source": [
    "@dataclass\n",
    "class DataCollatorForPretrainDataset(object):\n",
    "    tokenizer: transformers.PreTrainedTokenizer\n",
    "\n",
    "    def __call__(self, items: Sequence[Dict]) -> Dict[str, torch.Tensor]:\n",
    "\n",
    "        prompt = [item for item in items]\n",
    "\n",
    "        prompt_tokenizer = tokenizer(\n",
    "            prompt,\n",
    "            return_tensors=\"pt\",\n",
    "            padding=\"longest\",\n",
    "            max_length=tokenizer.model_max_length,\n",
    "            truncation=True,\n",
    "        )\n",
    "\n",
    "        labels = prompt_tokenizer[\"input_ids\"].clone()\n",
    "            \n",
    "        # 不对 pad 计算 loss\n",
    "        pad_idx = labels.eq(tokenizer.pad_token_id)\n",
    "        labels[pad_idx] = -100\n",
    "        \n",
    "        prompt_tokenizer[\"labels\"] = labels\n",
    "        return prompt_tokenizer"
   ]
  },
  {
   "cell_type": "code",
   "execution_count": 10,
   "metadata": {},
   "outputs": [],
   "source": [
    "from pprint import pprint"
   ]
  },
  {
   "cell_type": "code",
   "execution_count": 12,
   "metadata": {},
   "outputs": [
    {
     "data": {
      "text/plain": [
       "(151643, 151665)"
      ]
     },
     "execution_count": 12,
     "metadata": {},
     "output_type": "execute_result"
    }
   ],
   "source": [
    "tokenizer.eos_token_id, tokenizer.pad_token_id, "
   ]
  },
  {
   "cell_type": "code",
   "execution_count": 13,
   "metadata": {},
   "outputs": [
    {
     "name": "stdout",
     "output_type": "stream",
     "text": [
      "{'attention_mask': tensor([[1, 1, 1, 1, 1, 1, 1, 1, 1, 1, 1, 1, 1, 1, 1, 1, 1, 1, 1, 1, 1, 1, 1, 1,\n",
      "         1, 1, 1, 1, 1, 1, 1, 1, 1, 1, 1, 1, 1, 1, 1, 1, 1, 1, 1, 1, 1, 1, 1, 1],\n",
      "        [1, 1, 1, 1, 1, 1, 1, 1, 1, 1, 1, 1, 1, 1, 1, 1, 1, 1, 1, 1, 1, 1, 1, 1,\n",
      "         1, 1, 1, 1, 1, 1, 1, 0, 0, 0, 0, 0, 0, 0, 0, 0, 0, 0, 0, 0, 0, 0, 0, 0]]),\n",
      " 'input_ids': tensor([[112720,  89012,  99459, 122157,  61443, 108462, 100045,   5122,  99459,\n",
      "         122157,  99457,  99244,   3837,  36589,  99180, 115449,   8997, 100531,\n",
      "          35727,  22418,  50509,   3837,  99577,  99884,  99907, 109564,   1773,\n",
      "          99425, 120827, 103073, 103610,   3837,  99208,  79599, 100875,  99964,\n",
      "           8997,  16530, 102683,  16530, 103020,   3837,  48738, 102744, 102635,\n",
      "         100619,   1773, 151643],\n",
      "        [112720,  89012, 113735, 106980,  61443, 108462, 100045,   5122, 102461,\n",
      "          55135,  21287,  99465,  44729,   3837,  99718,  15946, 100066, 100167,\n",
      "         105401,   1773, 100697, 100956,  99349,  77540,  99980,   3837, 114216,\n",
      "          20412, 105686,  11319, 151643, 151665, 151665, 151665, 151665, 151665,\n",
      "         151665, 151665, 151665, 151665, 151665, 151665, 151665, 151665, 151665,\n",
      "         151665, 151665, 151665]]),\n",
      " 'labels': tensor([[112720,  89012,  99459, 122157,  61443, 108462, 100045,   5122,  99459,\n",
      "         122157,  99457,  99244,   3837,  36589,  99180, 115449,   8997, 100531,\n",
      "          35727,  22418,  50509,   3837,  99577,  99884,  99907, 109564,   1773,\n",
      "          99425, 120827, 103073, 103610,   3837,  99208,  79599, 100875,  99964,\n",
      "           8997,  16530, 102683,  16530, 103020,   3837,  48738, 102744, 102635,\n",
      "         100619,   1773, 151643],\n",
      "        [112720,  89012, 113735, 106980,  61443, 108462, 100045,   5122, 102461,\n",
      "          55135,  21287,  99465,  44729,   3837,  99718,  15946, 100066, 100167,\n",
      "         105401,   1773, 100697, 100956,  99349,  77540,  99980,   3837, 114216,\n",
      "          20412, 105686,  11319, 151643,   -100,   -100,   -100,   -100,   -100,\n",
      "           -100,   -100,   -100,   -100,   -100,   -100,   -100,   -100,   -100,\n",
      "           -100,   -100,   -100]])}\n"
     ]
    }
   ],
   "source": [
    "data_collator = DataCollatorForPretrainDataset(tokenizer=tokenizer)\n",
    "prompt_tokenizer = data_collator([dataset[0], dataset[1]])\n",
    "pprint(prompt_tokenizer)"
   ]
  },
  {
   "cell_type": "markdown",
   "metadata": {},
   "source": [
    "## train"
   ]
  },
  {
   "cell_type": "code",
   "execution_count": 15,
   "metadata": {},
   "outputs": [],
   "source": [
    "args = TrainingArguments(\n",
    "    output_dir=r\"C:\\Users\\1\\Desktop\\train_model_output\\Qwen2.5-0.5B\\CLM_output\",\n",
    "    num_train_epochs=10,\n",
    "    per_device_train_batch_size=2,\n",
    "    save_safetensors=True,\n",
    "    logging_strategy=\"epoch\",\n",
    ")"
   ]
  },
  {
   "cell_type": "code",
   "execution_count": 16,
   "metadata": {},
   "outputs": [],
   "source": [
    "trainer = Trainer(\n",
    "    model=model,\n",
    "    processing_class=tokenizer,\n",
    "    args=args,\n",
    "    train_dataset=dataset,\n",
    "    eval_dataset=None,\n",
    "    data_collator=DataCollatorForPretrainDataset(tokenizer=tokenizer),\n",
    ")"
   ]
  },
  {
   "cell_type": "markdown",
   "metadata": {},
   "source": [
    "10分12秒"
   ]
  },
  {
   "cell_type": "code",
   "execution_count": 17,
   "metadata": {},
   "outputs": [
    {
     "data": {
      "text/html": [
       "\n",
       "    <div>\n",
       "      \n",
       "      <progress value='30' max='30' style='width:300px; height:20px; vertical-align: middle;'></progress>\n",
       "      [30/30 00:07, Epoch 10/10]\n",
       "    </div>\n",
       "    <table border=\"1\" class=\"dataframe\">\n",
       "  <thead>\n",
       " <tr style=\"text-align: left;\">\n",
       "      <th>Step</th>\n",
       "      <th>Training Loss</th>\n",
       "    </tr>\n",
       "  </thead>\n",
       "  <tbody>\n",
       "    <tr>\n",
       "      <td>3</td>\n",
       "      <td>3.910200</td>\n",
       "    </tr>\n",
       "    <tr>\n",
       "      <td>6</td>\n",
       "      <td>1.344000</td>\n",
       "    </tr>\n",
       "    <tr>\n",
       "      <td>9</td>\n",
       "      <td>0.442600</td>\n",
       "    </tr>\n",
       "    <tr>\n",
       "      <td>12</td>\n",
       "      <td>0.231500</td>\n",
       "    </tr>\n",
       "    <tr>\n",
       "      <td>15</td>\n",
       "      <td>0.124400</td>\n",
       "    </tr>\n",
       "    <tr>\n",
       "      <td>18</td>\n",
       "      <td>0.087700</td>\n",
       "    </tr>\n",
       "    <tr>\n",
       "      <td>21</td>\n",
       "      <td>0.071000</td>\n",
       "    </tr>\n",
       "    <tr>\n",
       "      <td>24</td>\n",
       "      <td>0.076600</td>\n",
       "    </tr>\n",
       "    <tr>\n",
       "      <td>27</td>\n",
       "      <td>0.053500</td>\n",
       "    </tr>\n",
       "    <tr>\n",
       "      <td>30</td>\n",
       "      <td>0.049900</td>\n",
       "    </tr>\n",
       "  </tbody>\n",
       "</table><p>"
      ],
      "text/plain": [
       "<IPython.core.display.HTML object>"
      ]
     },
     "metadata": {},
     "output_type": "display_data"
    }
   ],
   "source": [
    "train_result = trainer.train()"
   ]
  },
  {
   "cell_type": "code",
   "execution_count": 18,
   "metadata": {},
   "outputs": [
    {
     "data": {
      "text/plain": [
       "{'train_runtime': 8.5468,\n",
       " 'train_samples_per_second': 5.85,\n",
       " 'train_steps_per_second': 3.51,\n",
       " 'total_flos': 4670570361600.0,\n",
       " 'train_loss': 0.6391463776429495,\n",
       " 'epoch': 10.0}"
      ]
     },
     "execution_count": 18,
     "metadata": {},
     "output_type": "execute_result"
    }
   ],
   "source": [
    "train_result.metrics"
   ]
  },
  {
   "cell_type": "code",
   "execution_count": 19,
   "metadata": {},
   "outputs": [
    {
     "data": {
      "text/plain": [
       "('C:\\\\Users\\\\1\\\\Desktop\\\\train_model_output\\\\Qwen2.5-0.5B\\\\CLM_output\\\\tokenizer_config.json',\n",
       " 'C:\\\\Users\\\\1\\\\Desktop\\\\train_model_output\\\\Qwen2.5-0.5B\\\\CLM_output\\\\special_tokens_map.json',\n",
       " 'C:\\\\Users\\\\1\\\\Desktop\\\\train_model_output\\\\Qwen2.5-0.5B\\\\CLM_output\\\\vocab.json',\n",
       " 'C:\\\\Users\\\\1\\\\Desktop\\\\train_model_output\\\\Qwen2.5-0.5B\\\\CLM_output\\\\merges.txt',\n",
       " 'C:\\\\Users\\\\1\\\\Desktop\\\\train_model_output\\\\Qwen2.5-0.5B\\\\CLM_output\\\\added_tokens.json',\n",
       " 'C:\\\\Users\\\\1\\\\Desktop\\\\train_model_output\\\\Qwen2.5-0.5B\\\\CLM_output\\\\tokenizer.json')"
      ]
     },
     "execution_count": 19,
     "metadata": {},
     "output_type": "execute_result"
    }
   ],
   "source": [
    "trainer.save_state()\n",
    "trainer.save_model(output_dir=args.output_dir)\n",
    "tokenizer.save_pretrained(args.output_dir)"
   ]
  },
  {
   "cell_type": "code",
   "execution_count": null,
   "metadata": {},
   "outputs": [],
   "source": []
  }
 ],
 "metadata": {
  "kernelspec": {
   "display_name": "llm",
   "language": "python",
   "name": "python3"
  },
  "language_info": {
   "codemirror_mode": {
    "name": "ipython",
    "version": 3
   },
   "file_extension": ".py",
   "mimetype": "text/x-python",
   "name": "python",
   "nbconvert_exporter": "python",
   "pygments_lexer": "ipython3",
   "version": "3.11.7"
  }
 },
 "nbformat": 4,
 "nbformat_minor": 2
}
