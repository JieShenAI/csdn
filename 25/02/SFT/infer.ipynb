{
 "cells": [
  {
   "cell_type": "code",
   "execution_count": 1,
   "metadata": {},
   "outputs": [],
   "source": [
    "import torch\n",
    "from transformers import AutoModelForCausalLM, AutoTokenizer\n",
    "\n",
    "device = \"cuda:0\" if torch.cuda.is_available() else \"cpu\""
   ]
  },
  {
   "cell_type": "code",
   "execution_count": 2,
   "metadata": {},
   "outputs": [],
   "source": [
    "train_model = r\"C:\\Users\\1\\Desktop\\train_model_output\\Qwen2.5-0.5B\\SFT_output\"\n",
    "\n",
    "model = AutoModelForCausalLM.from_pretrained(train_model)\n",
    "model = model.to(device)\n",
    "tokenizer = AutoTokenizer.from_pretrained(train_model, padding_side=\"right\")"
   ]
  },
  {
   "cell_type": "code",
   "execution_count": 3,
   "metadata": {},
   "outputs": [
    {
     "data": {
      "text/plain": [
       "0"
      ]
     },
     "execution_count": 3,
     "metadata": {},
     "output_type": "execute_result"
    }
   ],
   "source": [
    "tokenizer.add_special_tokens({\"pad_token\": \"[PAD]\"})"
   ]
  },
  {
   "cell_type": "code",
   "execution_count": 4,
   "metadata": {},
   "outputs": [
    {
     "data": {
      "text/plain": [
       "[{'instruct': '请你给哪吒写一首诗：',\n",
       "  'input': '哪吒降世，意气飞扬。\\n逆天改命，破障冲霄。',\n",
       "  'label': '红绫缠腕，风火踏浪。\\n不屈不悔，笑傲苍茫。'},\n",
       " {'instruct': '请你给敖丙写一首诗：', 'input': '碧海生龙子，云中舞雪霜。', 'label': '恩仇难两忘，何处是家乡？'},\n",
       " {'instruct': '请你给殷夫人写一首诗：',\n",
       "  'input': '十月怀胎盼子生，柔心铁骨两相承。',\n",
       "  'label': '甘将慈爱护天地，不惧风雷不惧征。'},\n",
       " {'instruct': '请你给太乙真人写一首诗：', 'input': '仙风道骨，骑兽遨游。', 'label': '炉中炼术，指点神童。'},\n",
       " {'instruct': '请你给申公豹写一首诗：',\n",
       "  'input': '阴谋藏心，步步为营。\\n狂傲不羁，志向高冥。',\n",
       "  'label': '欲翻天命，终难遂行。\\n困局自招，悔恨难平。'}]"
      ]
     },
     "execution_count": 4,
     "metadata": {},
     "output_type": "execute_result"
    }
   ],
   "source": [
    "import json\n",
    "\n",
    "with open(\"data.json\", \"r\") as f:\n",
    "    data =json.load(f)\n",
    "data"
   ]
  },
  {
   "cell_type": "code",
   "execution_count": 14,
   "metadata": {},
   "outputs": [],
   "source": [
    "def infer(text):\n",
    "    input_ids = tokenizer(text, return_tensors=\"pt\").to(model.device)\n",
    "\n",
    "    generated_ids = model.generate(**input_ids)\n",
    "    generated_ids = [\n",
    "        output_ids[len(input_ids) :]\n",
    "        for input_ids, output_ids in zip(input_ids.input_ids, generated_ids)\n",
    "    ]\n",
    "\n",
    "    response = tokenizer.batch_decode(generated_ids, skip_special_tokens=True)[0]\n",
    "    return response"
   ]
  },
  {
   "cell_type": "code",
   "execution_count": 18,
   "metadata": {},
   "outputs": [
    {
     "name": "stderr",
     "output_type": "stream",
     "text": [
      "Setting `pad_token_id` to `eos_token_id`:151643 for open-end generation.\n"
     ]
    },
    {
     "name": "stdout",
     "output_type": "stream",
     "text": [
      "==================================================instruct==================================================\n",
      "text_input: 请你给哪吒写一首诗：哪吒降世，意气飞扬。\n",
      "逆天改命，破障冲霄。\n"
     ]
    },
    {
     "name": "stderr",
     "output_type": "stream",
     "text": [
      "Setting `pad_token_id` to `eos_token_id`:151643 for open-end generation.\n",
      "Setting `pad_token_id` to `eos_token_id`:151643 for open-end generation.\n"
     ]
    },
    {
     "name": "stdout",
     "output_type": "stream",
     "text": [
      "predict: 红绫缠腕，风火踏浪。\n",
      "不屈不悔，笑傲苍茫。\n",
      "label: 红绫缠腕，风火踏浪。\n",
      "不屈不悔，笑傲苍茫。\n",
      "-----------------------------------------------------------------------------------------------------\n",
      "text_input: 请你给敖丙写一首诗：碧海生龙子，云中舞雪霜。\n",
      "predict: 恩仇难两忘，何处是家乡？\n",
      "label: 恩仇难两忘，何处是家乡？\n",
      "-----------------------------------------------------------------------------------------------------\n",
      "text_input: 请你给殷夫人写一首诗：十月怀胎盼子生，柔心铁骨两相承。\n"
     ]
    },
    {
     "name": "stderr",
     "output_type": "stream",
     "text": [
      "Setting `pad_token_id` to `eos_token_id`:151643 for open-end generation.\n",
      "Setting `pad_token_id` to `eos_token_id`:151643 for open-end generation.\n"
     ]
    },
    {
     "name": "stdout",
     "output_type": "stream",
     "text": [
      "predict: 甘将慈爱护天地，不惧风雷不惧征。\n",
      "label: 甘将慈爱护天地，不惧风雷不惧征。\n",
      "-----------------------------------------------------------------------------------------------------\n",
      "text_input: 请你给太乙真人写一首诗：仙风道骨，骑兽遨游。\n",
      "predict: 炉中炼术，指点神童。\n",
      "label: 炉中炼术，指点神童。\n",
      "-----------------------------------------------------------------------------------------------------\n",
      "text_input: 请你给申公豹写一首诗：阴谋藏心，步步为营。\n",
      "狂傲不羁，志向高冥。\n",
      "predict: 欲翻天命，终难遂行。\n",
      "困局自招，悔恨难平。\n",
      "label: 欲翻天命，终难遂行。\n",
      "困局自招，悔恨难平。\n",
      "-----------------------------------------------------------------------------------------------------\n"
     ]
    }
   ],
   "source": [
    "print(\"=\" * 50 + \"instruct\" + \"=\" * 50)\n",
    "for item in data:\n",
    "    # instruct + input -> label\n",
    "    instruct, input, label = item[\"instruct\"], item[\"input\"], item[\"label\"]\n",
    "    print(f\"text_input: {instruct + input}\")\n",
    "    print(f\"predict: {infer(instruct + input)}\")\n",
    "    print(f\"label: {label}\")\n",
    "    print(\"-\" * 101)"
   ]
  },
  {
   "cell_type": "code",
   "execution_count": 20,
   "metadata": {},
   "outputs": [
    {
     "name": "stderr",
     "output_type": "stream",
     "text": [
      "Setting `pad_token_id` to `eos_token_id`:151643 for open-end generation.\n"
     ]
    },
    {
     "name": "stdout",
     "output_type": "stream",
     "text": [
      "==================================================instruct==================================================\n",
      "text_input: 请你给哪吒写一首诗：\n"
     ]
    },
    {
     "name": "stderr",
     "output_type": "stream",
     "text": [
      "Setting `pad_token_id` to `eos_token_id`:151643 for open-end generation.\n",
      "Setting `pad_token_id` to `eos_token_id`:151643 for open-end generation.\n"
     ]
    },
    {
     "name": "stdout",
     "output_type": "stream",
     "text": [
      "predict: 红绫缠腕，风火踏浪。不屈不悔，笑傲苍茫。\n",
      "label: 红绫缠腕，风火踏浪。\n",
      "不屈不悔，笑傲苍茫。\n",
      "-----------------------------------------------------------------------------------------------------\n",
      "text_input: 请你给敖丙写一首诗：\n",
      "predict: 恩仇难两忘，何处是家乡？\n",
      "label: 恩仇难两忘，何处是家乡？\n",
      "-----------------------------------------------------------------------------------------------------\n",
      "text_input: 请你给殷夫人写一首诗：\n"
     ]
    },
    {
     "name": "stderr",
     "output_type": "stream",
     "text": [
      "Setting `pad_token_id` to `eos_token_id`:151643 for open-end generation.\n",
      "Setting `pad_token_id` to `eos_token_id`:151643 for open-end generation.\n"
     ]
    },
    {
     "name": "stdout",
     "output_type": "stream",
     "text": [
      "predict: 恩仇难两忘，何处是家乡？\n",
      "label: 甘将慈爱护天地，不惧风雷不惧征。\n",
      "-----------------------------------------------------------------------------------------------------\n",
      "text_input: 请你给太乙真人写一首诗：\n",
      "predict: 炉中炼术，指点神童。\n",
      "label: 炉中炼术，指点神童。\n",
      "-----------------------------------------------------------------------------------------------------\n",
      "text_input: 请你给申公豹写一首诗：\n",
      "predict: 恩仇难两忘，何处是家乡？\n",
      "label: 欲翻天命，终难遂行。\n",
      "困局自招，悔恨难平。\n",
      "-----------------------------------------------------------------------------------------------------\n"
     ]
    }
   ],
   "source": [
    "print(\"=\" * 50 + \"instruct\" + \"=\" * 50)\n",
    "for item in data:\n",
    "    # instruct + input -> label\n",
    "    instruct, input, label = item[\"instruct\"], item[\"input\"], item[\"label\"]\n",
    "    print(f\"text_input: {instruct }\")\n",
    "    print(f\"predict: {infer(instruct)}\")\n",
    "    print(f\"label: {label}\")\n",
    "    print(\"-\" * 101)"
   ]
  }
 ],
 "metadata": {
  "kernelspec": {
   "display_name": "llm",
   "language": "python",
   "name": "python3"
  },
  "language_info": {
   "codemirror_mode": {
    "name": "ipython",
    "version": 3
   },
   "file_extension": ".py",
   "mimetype": "text/x-python",
   "name": "python",
   "nbconvert_exporter": "python",
   "pygments_lexer": "ipython3",
   "version": "3.11.7"
  }
 },
 "nbformat": 4,
 "nbformat_minor": 2
}
