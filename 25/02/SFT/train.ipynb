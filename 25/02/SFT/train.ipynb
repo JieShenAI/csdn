{
 "cells": [
  {
   "cell_type": "code",
   "execution_count": null,
   "metadata": {},
   "outputs": [],
   "source": [
    "from typing import List, Dict, Sequence\n",
    "import torch\n",
    "from torch.nn.utils.rnn import pad_sequence\n",
    "import transformers\n",
    "from transformers import TrainingArguments, Trainer\n",
    "from torch.utils.data import Dataset\n",
    "from dataclasses import dataclass\n",
    "\n",
    "IGNORE_INDEX = -100\n",
    "device = \"cuda:0\" if torch.cuda.is_available() else \"cpu\""
   ]
  },
  {
   "cell_type": "code",
   "execution_count": 2,
   "metadata": {},
   "outputs": [],
   "source": [
    "from transformers import AutoModelForCausalLM, AutoTokenizer\n",
    "\n",
    "model_dir = r\"Qwen/Qwen2.5-0.5B\"\n",
    "\n",
    "model = AutoModelForCausalLM.from_pretrained(model_dir)\n",
    "model = model.to(\"cuda:0\")\n",
    "\n",
    "tokenizer = AutoTokenizer.from_pretrained(model_dir, padding_side=\"right\")"
   ]
  },
  {
   "cell_type": "code",
   "execution_count": 4,
   "metadata": {},
   "outputs": [
    {
     "data": {
      "text/plain": [
       "1"
      ]
     },
     "execution_count": 4,
     "metadata": {},
     "output_type": "execute_result"
    }
   ],
   "source": [
    "tokenizer.add_special_tokens({\n",
    "    \"pad_token\": \"[PAD]\"\n",
    "})"
   ]
  },
  {
   "cell_type": "code",
   "execution_count": 5,
   "metadata": {},
   "outputs": [
    {
     "data": {
      "text/plain": [
       "{'eos_token': '<|endoftext|>',\n",
       " 'pad_token': '[PAD]',\n",
       " 'additional_special_tokens': ['<|im_start|>',\n",
       "  '<|im_end|>',\n",
       "  '<|object_ref_start|>',\n",
       "  '<|object_ref_end|>',\n",
       "  '<|box_start|>',\n",
       "  '<|box_end|>',\n",
       "  '<|quad_start|>',\n",
       "  '<|quad_end|>',\n",
       "  '<|vision_start|>',\n",
       "  '<|vision_end|>',\n",
       "  '<|vision_pad|>',\n",
       "  '<|image_pad|>',\n",
       "  '<|video_pad|>']}"
      ]
     },
     "execution_count": 5,
     "metadata": {},
     "output_type": "execute_result"
    }
   ],
   "source": [
    "tokenizer.special_tokens_map"
   ]
  },
  {
   "cell_type": "code",
   "execution_count": 6,
   "metadata": {},
   "outputs": [
    {
     "data": {
      "text/plain": [
       "('[PAD]', 151665)"
      ]
     },
     "execution_count": 6,
     "metadata": {},
     "output_type": "execute_result"
    }
   ],
   "source": [
    "tokenizer.pad_token, tokenizer.pad_token_id"
   ]
  },
  {
   "cell_type": "markdown",
   "metadata": {},
   "source": [
    "## 加载数据集"
   ]
  },
  {
   "cell_type": "code",
   "execution_count": 8,
   "metadata": {},
   "outputs": [
    {
     "data": {
      "text/plain": [
       "[{'instruct': '请你给哪吒写一首诗：',\n",
       "  'input': '哪吒降世，意气飞扬。\\n逆天改命，破障冲霄。',\n",
       "  'label': '红绫缠腕，风火踏浪。\\n不屈不悔，笑傲苍茫。'},\n",
       " {'instruct': '请你给敖丙写一首诗：', 'input': '碧海生龙子，云中舞雪霜。', 'label': '恩仇难两忘，何处是家乡？'},\n",
       " {'instruct': '请你给殷夫人写一首诗：',\n",
       "  'input': '十月怀胎盼子生，柔心铁骨两相承。',\n",
       "  'label': '甘将慈爱护天地，不惧风雷不惧征。'},\n",
       " {'instruct': '请你给太乙真人写一首诗：', 'input': '仙风道骨，骑兽遨游。', 'label': '炉中炼术，指点神童。'},\n",
       " {'instruct': '请你给申公豹写一首诗：',\n",
       "  'input': '阴谋藏心，步步为营。\\n狂傲不羁，志向高冥。',\n",
       "  'label': '欲翻天命，终难遂行。\\n困局自招，悔恨难平。'}]"
      ]
     },
     "execution_count": 8,
     "metadata": {},
     "output_type": "execute_result"
    }
   ],
   "source": [
    "import json\n",
    "\n",
    "with open(\"data.json\", \"r\") as f:\n",
    "    data = json.load(f)\n",
    "data"
   ]
  },
  {
   "cell_type": "markdown",
   "metadata": {},
   "source": [
    "## 自定义数据集"
   ]
  },
  {
   "cell_type": "markdown",
   "metadata": {},
   "source": [
    "我有一个问题，在data_collator中，attention_mask 能填充 0 吗？ "
   ]
  },
  {
   "cell_type": "code",
   "execution_count": null,
   "metadata": {},
   "outputs": [
    {
     "data": {
      "text/plain": [
       "{'input_ids': tensor([[112720,  89012,  99459, 122157,  61443, 108462, 100045,   5122,  99459,\n",
       "         122157,  99457,  99244,   3837,  36589,  99180, 115449,   8997, 100531,\n",
       "          35727,  22418,  50509,   3837,  99577,  99884,  99907, 109564,   1773,\n",
       "          99425, 120827, 103073, 103610,   3837,  99208,  79599, 100875,  99964,\n",
       "           8997,  16530, 102683,  16530, 103020,   3837,  48738, 102744, 102635,\n",
       "         100619,   1773, 151643]]), 'attention_mask': tensor([[1, 1, 1, 1, 1, 1, 1, 1, 1, 1, 1, 1, 1, 1, 1, 1, 1, 1, 1, 1, 1, 1, 1, 1,\n",
       "         1, 1, 1, 1, 1, 1, 1, 1, 1, 1, 1, 1, 1, 1, 1, 1, 1, 1, 1, 1, 1, 1, 1, 1]]), 'label': tensor([[  -100,   -100,   -100,   -100,   -100,   -100,   -100,   -100,   -100,\n",
       "           -100,   -100,   -100,   -100,   -100,   -100,   -100,   -100,   -100,\n",
       "           -100,   -100,   -100,   -100,   -100,   -100,   -100,   -100,   -100,\n",
       "          99425, 120827, 103073, 103610,   3837,  99208,  79599, 100875,  99964,\n",
       "           8997,  16530, 102683,  16530, 103020,   3837,  48738, 102744, 102635,\n",
       "         100619,   1773, 151643]])}"
      ]
     },
     "execution_count": 90,
     "metadata": {},
     "output_type": "execute_result"
    }
   ],
   "source": [
    "class PreTrainDataset(Dataset):\n",
    "\n",
    "    def __init__(self, data: List):\n",
    "        super().__init__()\n",
    "        self.data = data\n",
    "\n",
    "    def __len__(self):\n",
    "        return len(self.data)\n",
    "\n",
    "    def __getitem__(self, idx) -> List[Dict]:\n",
    "        item = self.data[idx]\n",
    "        text = item[\"instruct\"] + item[\"input\"] + item[\"label\"] + tokenizer.eos_token\n",
    "        text_token = tokenizer(\n",
    "            text,\n",
    "            return_tensors=\"pt\",\n",
    "            padding=\"longest\",\n",
    "            max_length=tokenizer.model_max_length,\n",
    "            truncation=True,\n",
    "        )\n",
    "        label = text_token[\"input_ids\"].clone()\n",
    "\n",
    "        instruct = item[\"instruct\"] + item[\"input\"]\n",
    "        instruct_token = tokenizer(\n",
    "            instruct,\n",
    "            return_tensors=\"pt\",\n",
    "            padding=\"longest\",\n",
    "            max_length=tokenizer.model_max_length,\n",
    "            truncation=True,\n",
    "        )\n",
    "        instruct_len = instruct_token[\"input_ids\"].size(-1)\n",
    "\n",
    "        label[:, :instruct_len] = -100\n",
    "        text_token[\"labels\"] = label\n",
    "\n",
    "        return text_token\n",
    "\n",
    "\n",
    "dataset = PreTrainDataset(data)\n",
    "dataset[0]"
   ]
  },
  {
   "cell_type": "markdown",
   "metadata": {},
   "source": [
    "验证一下，label 设置为-100 的文本都是什么？ "
   ]
  },
  {
   "cell_type": "code",
   "execution_count": 57,
   "metadata": {},
   "outputs": [
    {
     "data": {
      "text/plain": [
       "{'instruct': '请你给哪吒写一首诗：',\n",
       " 'input': '哪吒降世，意气飞扬。\\n逆天改命，破障冲霄。',\n",
       " 'label': '红绫缠腕，风火踏浪。\\n不屈不悔，笑傲苍茫。'}"
      ]
     },
     "execution_count": 57,
     "metadata": {},
     "output_type": "execute_result"
    }
   ],
   "source": [
    "# 查看第一个原始数据\n",
    "data[0]"
   ]
  },
  {
   "cell_type": "code",
   "execution_count": 59,
   "metadata": {},
   "outputs": [
    {
     "data": {
      "text/plain": [
       "'红绫缠腕，风火踏浪。\\n不屈不悔，笑傲苍茫。<|endoftext|>'"
      ]
     },
     "execution_count": 59,
     "metadata": {},
     "output_type": "execute_result"
    }
   ],
   "source": [
    "# 查看需要计算loss的文本\n",
    "test_label = dataset[0][0][\"label\"]\n",
    "test_label = test_label[test_label != -100]\n",
    "tokenizer.decode(test_label)"
   ]
  },
  {
   "cell_type": "code",
   "execution_count": null,
   "metadata": {},
   "outputs": [
    {
     "data": {
      "text/plain": [
       "'请你给哪吒写一首诗：哪吒降世，意气飞扬。\\n逆天改命，破障冲霄。'"
      ]
     },
     "execution_count": 79,
     "metadata": {},
     "output_type": "execute_result"
    }
   ],
   "source": [
    "# 查看label -100位置对应的input_ids的文本\n",
    "test_input_ids = dataset[0][0][\"input_ids\"]\n",
    "test_label = dataset[0][0][\"labels\"]\n",
    "test_input_ids = test_input_ids[test_label == -100]\n",
    "tokenizer.decode(test_input_ids)\n",
    "# label -100 位置的都是用户的指令不参与 loss 计算 "
   ]
  },
  {
   "cell_type": "code",
   "execution_count": 82,
   "metadata": {},
   "outputs": [
    {
     "data": {
      "text/plain": [
       "tensor([[-0.3421,  0.4131,  0.0000,  0.0000],\n",
       "        [-0.1345,  1.2843,  1.0892,  0.0000],\n",
       "        [-0.0567, -0.6993, -0.9386,  1.1316]])"
      ]
     },
     "execution_count": 82,
     "metadata": {},
     "output_type": "execute_result"
    }
   ],
   "source": [
    "pad_sequence(\n",
    "    [torch.randn(2), torch.randn(3), torch.randn(4)],\n",
    "    batch_first=True,\n",
    "    padding_value=0,\n",
    "    padding_side=\"right\",\n",
    ")"
   ]
  },
  {
   "cell_type": "code",
   "execution_count": 89,
   "metadata": {},
   "outputs": [
    {
     "data": {
      "text/plain": [
       "{'input_ids': tensor([[112720,  89012,  99459, 122157,  61443, 108462, 100045,   5122,  99459,\n",
       "         122157,  99457,  99244,   3837,  36589,  99180, 115449,   8997, 100531,\n",
       "          35727,  22418,  50509,   3837,  99577,  99884,  99907, 109564,   1773,\n",
       "          99425, 120827, 103073, 103610,   3837,  99208,  79599, 100875,  99964,\n",
       "           8997,  16530, 102683,  16530, 103020,   3837,  48738, 102744, 102635,\n",
       "         100619,   1773, 151643]]), 'attention_mask': tensor([[1, 1, 1, 1, 1, 1, 1, 1, 1, 1, 1, 1, 1, 1, 1, 1, 1, 1, 1, 1, 1, 1, 1, 1,\n",
       "         1, 1, 1, 1, 1, 1, 1, 1, 1, 1, 1, 1, 1, 1, 1, 1, 1, 1, 1, 1, 1, 1, 1, 1]]), 'label': tensor([[  -100,   -100,   -100,   -100,   -100,   -100,   -100,   -100,   -100,\n",
       "           -100,   -100,   -100,   -100,   -100,   -100,   -100,   -100,   -100,\n",
       "           -100,   -100,   -100,   -100,   -100,   -100,   -100,   -100,   -100,\n",
       "          99425, 120827, 103073, 103610,   3837,  99208,  79599, 100875,  99964,\n",
       "           8997,  16530, 102683,  16530, 103020,   3837,  48738, 102744, 102635,\n",
       "         100619,   1773, 151643]])}"
      ]
     },
     "execution_count": 89,
     "metadata": {},
     "output_type": "execute_result"
    }
   ],
   "source": [
    "dataset[0][0]"
   ]
  },
  {
   "cell_type": "code",
   "execution_count": 107,
   "metadata": {},
   "outputs": [],
   "source": [
    "@dataclass\n",
    "class DataCollatorForSFTDataset(object):\n",
    "    tokenizer: transformers.PreTrainedTokenizer\n",
    "\n",
    "    def __call__(self, items: Sequence) -> Dict[str, torch.Tensor]:\n",
    "        # pad_sequence 不支持多维tensor，进行维度压缩 squeeze\n",
    "        # input_ids, attention_mask = [\n",
    "        #     [item.squeeze(0) for item in tokens[k]]\n",
    "        #     for k in [\"input_ids\", \"attention_mask\"]\n",
    "        # ]\n",
    "\n",
    "        input_ids = [item[\"input_ids\"].squeeze(0) for item in items]\n",
    "        attention_mask = [item[\"attention_mask\"].squeeze(0) for item in items]\n",
    "        label = [item[\"label\"].squeeze(0) for item in items]\n",
    "\n",
    "        input_ids = pad_sequence(\n",
    "            input_ids,\n",
    "            batch_first=True,\n",
    "            padding_value=tokenizer.pad_token_id,\n",
    "            padding_side=\"right\",\n",
    "        )\n",
    "        attention_mask = pad_sequence(\n",
    "            attention_mask,\n",
    "            batch_first=True,\n",
    "            padding_value=0,\n",
    "            padding_side=\"right\",\n",
    "        )\n",
    "        label = pad_sequence(\n",
    "            label,\n",
    "            batch_first=True,\n",
    "            padding_value=-100,\n",
    "            padding_side=\"right\",\n",
    "        )\n",
    "\n",
    "        return {\n",
    "            \"input_ids\": input_ids,\n",
    "            \"attention_mask\": attention_mask,\n",
    "            \"labels\": label,\n",
    "        }"
   ]
  },
  {
   "cell_type": "code",
   "execution_count": 108,
   "metadata": {},
   "outputs": [
    {
     "data": {
      "text/plain": [
       "{'input_ids': tensor([[112720,  89012,  99459, 122157,  61443, 108462, 100045,   5122,  99459,\n",
       "          122157,  99457,  99244,   3837,  36589,  99180, 115449,   8997, 100531,\n",
       "           35727,  22418,  50509,   3837,  99577,  99884,  99907, 109564,   1773,\n",
       "           99425, 120827, 103073, 103610,   3837,  99208,  79599, 100875,  99964,\n",
       "            8997,  16530, 102683,  16530, 103020,   3837,  48738, 102744, 102635,\n",
       "          100619,   1773, 151643],\n",
       "         [112720,  89012, 113735, 106980,  61443, 108462, 100045,   5122, 102461,\n",
       "           55135,  21287,  99465,  44729,   3837,  99718,  15946, 100066, 100167,\n",
       "          105401,   1773, 100697, 100956,  99349,  77540,  99980,   3837, 114216,\n",
       "           20412, 105686,  11319, 151643, 151665, 151665, 151665, 151665, 151665,\n",
       "          151665, 151665, 151665, 151665, 151665, 151665, 151665, 151665, 151665,\n",
       "          151665, 151665, 151665],\n",
       "         [112720,  89012, 106824, 105700,  61443, 108462, 100045,   5122, 113286,\n",
       "           99701, 100521, 101704,  44729,  21287,   3837, 100502,  63109, 100164,\n",
       "          100049,  77540,  48921,  99480,   1773, 100818,  44063, 101530, 113750,\n",
       "          104974,   3837,  16530, 101627,  99208,  96465,  16530, 101627,  99543,\n",
       "            1773, 151643, 151665, 151665, 151665, 151665, 151665, 151665, 151665,\n",
       "          151665, 151665, 151665]]),\n",
       " 'attention_mask': tensor([[1, 1, 1, 1, 1, 1, 1, 1, 1, 1, 1, 1, 1, 1, 1, 1, 1, 1, 1, 1, 1, 1, 1, 1,\n",
       "          1, 1, 1, 1, 1, 1, 1, 1, 1, 1, 1, 1, 1, 1, 1, 1, 1, 1, 1, 1, 1, 1, 1, 1],\n",
       "         [1, 1, 1, 1, 1, 1, 1, 1, 1, 1, 1, 1, 1, 1, 1, 1, 1, 1, 1, 1, 1, 1, 1, 1,\n",
       "          1, 1, 1, 1, 1, 1, 1, 0, 0, 0, 0, 0, 0, 0, 0, 0, 0, 0, 0, 0, 0, 0, 0, 0],\n",
       "         [1, 1, 1, 1, 1, 1, 1, 1, 1, 1, 1, 1, 1, 1, 1, 1, 1, 1, 1, 1, 1, 1, 1, 1,\n",
       "          1, 1, 1, 1, 1, 1, 1, 1, 1, 1, 1, 1, 1, 1, 0, 0, 0, 0, 0, 0, 0, 0, 0, 0]]),\n",
       " 'labels': tensor([[  -100,   -100,   -100,   -100,   -100,   -100,   -100,   -100,   -100,\n",
       "            -100,   -100,   -100,   -100,   -100,   -100,   -100,   -100,   -100,\n",
       "            -100,   -100,   -100,   -100,   -100,   -100,   -100,   -100,   -100,\n",
       "           99425, 120827, 103073, 103610,   3837,  99208,  79599, 100875,  99964,\n",
       "            8997,  16530, 102683,  16530, 103020,   3837,  48738, 102744, 102635,\n",
       "          100619,   1773, 151643],\n",
       "         [  -100,   -100,   -100,   -100,   -100,   -100,   -100,   -100,   -100,\n",
       "            -100,   -100,   -100,   -100,   -100,   -100,   -100,   -100,   -100,\n",
       "            -100,   -100, 100697, 100956,  99349,  77540,  99980,   3837, 114216,\n",
       "           20412, 105686,  11319, 151643,   -100,   -100,   -100,   -100,   -100,\n",
       "            -100,   -100,   -100,   -100,   -100,   -100,   -100,   -100,   -100,\n",
       "            -100,   -100,   -100],\n",
       "         [  -100,   -100,   -100,   -100,   -100,   -100,   -100,   -100,   -100,\n",
       "            -100,   -100,   -100,   -100,   -100,   -100,   -100,   -100,   -100,\n",
       "            -100,   -100,   -100,   -100,   -100, 100818,  44063, 101530, 113750,\n",
       "          104974,   3837,  16530, 101627,  99208,  96465,  16530, 101627,  99543,\n",
       "            1773, 151643,   -100,   -100,   -100,   -100,   -100,   -100,   -100,\n",
       "            -100,   -100,   -100]])}"
      ]
     },
     "execution_count": 108,
     "metadata": {},
     "output_type": "execute_result"
    }
   ],
   "source": [
    "DataCollatorForSFTDataset(tokenizer=tokenizer)([dataset[0], dataset[1], dataset[2]])"
   ]
  },
  {
   "cell_type": "code",
   "execution_count": 102,
   "metadata": {},
   "outputs": [],
   "source": [
    "from pprint import pprint"
   ]
  },
  {
   "cell_type": "code",
   "execution_count": null,
   "metadata": {},
   "outputs": [
    {
     "data": {
      "text/plain": [
       "(151643, 151665)"
      ]
     },
     "execution_count": 12,
     "metadata": {},
     "output_type": "execute_result"
    }
   ],
   "source": [
    "tokenizer.eos_token_id, tokenizer.pad_token_id"
   ]
  },
  {
   "cell_type": "code",
   "execution_count": 103,
   "metadata": {},
   "outputs": [
    {
     "name": "stdout",
     "output_type": "stream",
     "text": [
      "{'attention_mask': tensor([[1, 1, 1, 1, 1, 1, 1, 1, 1, 1, 1, 1, 1, 1, 1, 1, 1, 1, 1, 1, 1, 1, 1, 1,\n",
      "         1, 1, 1, 1, 1, 1, 1, 1, 1, 1, 1, 1, 1, 1, 1, 1, 1, 1, 1, 1, 1, 1, 1, 1],\n",
      "        [1, 1, 1, 1, 1, 1, 1, 1, 1, 1, 1, 1, 1, 1, 1, 1, 1, 1, 1, 1, 1, 1, 1, 1,\n",
      "         1, 1, 1, 1, 1, 1, 1, 0, 0, 0, 0, 0, 0, 0, 0, 0, 0, 0, 0, 0, 0, 0, 0, 0]]),\n",
      " 'input_ids': tensor([[112720,  89012,  99459, 122157,  61443, 108462, 100045,   5122,  99459,\n",
      "         122157,  99457,  99244,   3837,  36589,  99180, 115449,   8997, 100531,\n",
      "          35727,  22418,  50509,   3837,  99577,  99884,  99907, 109564,   1773,\n",
      "          99425, 120827, 103073, 103610,   3837,  99208,  79599, 100875,  99964,\n",
      "           8997,  16530, 102683,  16530, 103020,   3837,  48738, 102744, 102635,\n",
      "         100619,   1773, 151643],\n",
      "        [112720,  89012, 113735, 106980,  61443, 108462, 100045,   5122, 102461,\n",
      "          55135,  21287,  99465,  44729,   3837,  99718,  15946, 100066, 100167,\n",
      "         105401,   1773, 100697, 100956,  99349,  77540,  99980,   3837, 114216,\n",
      "          20412, 105686,  11319, 151643, 151665, 151665, 151665, 151665, 151665,\n",
      "         151665, 151665, 151665, 151665, 151665, 151665, 151665, 151665, 151665,\n",
      "         151665, 151665, 151665]]),\n",
      " 'label': tensor([[  -100,   -100,   -100,   -100,   -100,   -100,   -100,   -100,   -100,\n",
      "           -100,   -100,   -100,   -100,   -100,   -100,   -100,   -100,   -100,\n",
      "           -100,   -100,   -100,   -100,   -100,   -100,   -100,   -100,   -100,\n",
      "          99425, 120827, 103073, 103610,   3837,  99208,  79599, 100875,  99964,\n",
      "           8997,  16530, 102683,  16530, 103020,   3837,  48738, 102744, 102635,\n",
      "         100619,   1773, 151643],\n",
      "        [  -100,   -100,   -100,   -100,   -100,   -100,   -100,   -100,   -100,\n",
      "           -100,   -100,   -100,   -100,   -100,   -100,   -100,   -100,   -100,\n",
      "           -100,   -100, 100697, 100956,  99349,  77540,  99980,   3837, 114216,\n",
      "          20412, 105686,  11319, 151643,   -100,   -100,   -100,   -100,   -100,\n",
      "           -100,   -100,   -100,   -100,   -100,   -100,   -100,   -100,   -100,\n",
      "           -100,   -100,   -100]])}\n"
     ]
    }
   ],
   "source": [
    "data_collator = DataCollatorForSFTDataset(tokenizer=tokenizer)\n",
    "prompt_tokenizer = data_collator([dataset[0], dataset[1]])\n",
    "pprint(prompt_tokenizer)"
   ]
  },
  {
   "cell_type": "markdown",
   "metadata": {},
   "source": [
    "## train"
   ]
  },
  {
   "cell_type": "code",
   "execution_count": 109,
   "metadata": {},
   "outputs": [
    {
     "name": "stderr",
     "output_type": "stream",
     "text": [
      "PyTorch: setting up devices\n",
      "The default value for the training argument `--report_to` will change in v5 (from all installed integrations to none). In v5, you will need to use `--report_to all` to get the same behavior as now. You should start updating your code and make this info disappear :-).\n"
     ]
    }
   ],
   "source": [
    "args = TrainingArguments(\n",
    "    output_dir=r\"C:\\Users\\1\\Desktop\\train_model_output\\Qwen2.5-0.5B\\SFT_output\",\n",
    "    num_train_epochs=10,\n",
    "    per_device_train_batch_size=2,\n",
    "    save_safetensors=True,\n",
    "    logging_strategy=\"epoch\",\n",
    ")"
   ]
  },
  {
   "cell_type": "code",
   "execution_count": 110,
   "metadata": {},
   "outputs": [],
   "source": [
    "trainer = Trainer(\n",
    "    model=model,\n",
    "    processing_class=tokenizer,\n",
    "    args=args,\n",
    "    train_dataset=dataset,\n",
    "    eval_dataset=None,\n",
    "    data_collator=DataCollatorForSFTDataset(tokenizer=tokenizer),\n",
    ")"
   ]
  },
  {
   "cell_type": "markdown",
   "metadata": {},
   "source": [
    "10分12秒"
   ]
  },
  {
   "cell_type": "code",
   "execution_count": 111,
   "metadata": {},
   "outputs": [
    {
     "name": "stderr",
     "output_type": "stream",
     "text": [
      "***** Running training *****\n",
      "  Num examples = 5\n",
      "  Num Epochs = 10\n",
      "  Instantaneous batch size per device = 2\n",
      "  Total train batch size (w. parallel, distributed & accumulation) = 2\n",
      "  Gradient Accumulation steps = 1\n",
      "  Total optimization steps = 30\n",
      "  Number of trainable parameters = 494,032,768\n"
     ]
    },
    {
     "data": {
      "text/html": [
       "\n",
       "    <div>\n",
       "      \n",
       "      <progress value='30' max='30' style='width:300px; height:20px; vertical-align: middle;'></progress>\n",
       "      [30/30 00:20, Epoch 10/10]\n",
       "    </div>\n",
       "    <table border=\"1\" class=\"dataframe\">\n",
       "  <thead>\n",
       " <tr style=\"text-align: left;\">\n",
       "      <th>Step</th>\n",
       "      <th>Training Loss</th>\n",
       "    </tr>\n",
       "  </thead>\n",
       "  <tbody>\n",
       "    <tr>\n",
       "      <td>3</td>\n",
       "      <td>5.708000</td>\n",
       "    </tr>\n",
       "    <tr>\n",
       "      <td>6</td>\n",
       "      <td>1.874000</td>\n",
       "    </tr>\n",
       "    <tr>\n",
       "      <td>9</td>\n",
       "      <td>0.485700</td>\n",
       "    </tr>\n",
       "    <tr>\n",
       "      <td>12</td>\n",
       "      <td>0.460200</td>\n",
       "    </tr>\n",
       "    <tr>\n",
       "      <td>15</td>\n",
       "      <td>0.141000</td>\n",
       "    </tr>\n",
       "    <tr>\n",
       "      <td>18</td>\n",
       "      <td>0.024400</td>\n",
       "    </tr>\n",
       "    <tr>\n",
       "      <td>21</td>\n",
       "      <td>0.003300</td>\n",
       "    </tr>\n",
       "    <tr>\n",
       "      <td>24</td>\n",
       "      <td>0.000700</td>\n",
       "    </tr>\n",
       "    <tr>\n",
       "      <td>27</td>\n",
       "      <td>0.000100</td>\n",
       "    </tr>\n",
       "    <tr>\n",
       "      <td>30</td>\n",
       "      <td>0.000100</td>\n",
       "    </tr>\n",
       "  </tbody>\n",
       "</table><p>"
      ],
      "text/plain": [
       "<IPython.core.display.HTML object>"
      ]
     },
     "metadata": {},
     "output_type": "display_data"
    },
    {
     "name": "stderr",
     "output_type": "stream",
     "text": [
      "Saving model checkpoint to C:\\Users\\1\\Desktop\\train_model_output\\Qwen2.5-0.5B\\SFT_output\\checkpoint-30\n",
      "Configuration saved in C:\\Users\\1\\Desktop\\train_model_output\\Qwen2.5-0.5B\\SFT_output\\checkpoint-30\\config.json\n",
      "Configuration saved in C:\\Users\\1\\Desktop\\train_model_output\\Qwen2.5-0.5B\\SFT_output\\checkpoint-30\\generation_config.json\n",
      "Model weights saved in C:\\Users\\1\\Desktop\\train_model_output\\Qwen2.5-0.5B\\SFT_output\\checkpoint-30\\model.safetensors\n",
      "tokenizer config file saved in C:\\Users\\1\\Desktop\\train_model_output\\Qwen2.5-0.5B\\SFT_output\\checkpoint-30\\tokenizer_config.json\n",
      "Special tokens file saved in C:\\Users\\1\\Desktop\\train_model_output\\Qwen2.5-0.5B\\SFT_output\\checkpoint-30\\special_tokens_map.json\n",
      "\n",
      "\n",
      "Training completed. Do not forget to share your model on huggingface.co/models =)\n",
      "\n",
      "\n"
     ]
    }
   ],
   "source": [
    "train_result = trainer.train()"
   ]
  },
  {
   "cell_type": "code",
   "execution_count": 112,
   "metadata": {},
   "outputs": [
    {
     "data": {
      "text/plain": [
       "{'train_runtime': 20.9744,\n",
       " 'train_samples_per_second': 2.384,\n",
       " 'train_steps_per_second': 1.43,\n",
       " 'total_flos': 4670570361600.0,\n",
       " 'train_loss': 0.8697530678648036,\n",
       " 'epoch': 10.0}"
      ]
     },
     "execution_count": 112,
     "metadata": {},
     "output_type": "execute_result"
    }
   ],
   "source": [
    "train_result.metrics"
   ]
  },
  {
   "cell_type": "code",
   "execution_count": 113,
   "metadata": {},
   "outputs": [
    {
     "name": "stderr",
     "output_type": "stream",
     "text": [
      "Saving model checkpoint to C:\\Users\\1\\Desktop\\train_model_output\\Qwen2.5-0.5B\\SFT_output\n",
      "Configuration saved in C:\\Users\\1\\Desktop\\train_model_output\\Qwen2.5-0.5B\\SFT_output\\config.json\n",
      "Configuration saved in C:\\Users\\1\\Desktop\\train_model_output\\Qwen2.5-0.5B\\SFT_output\\generation_config.json\n",
      "Model weights saved in C:\\Users\\1\\Desktop\\train_model_output\\Qwen2.5-0.5B\\SFT_output\\model.safetensors\n",
      "tokenizer config file saved in C:\\Users\\1\\Desktop\\train_model_output\\Qwen2.5-0.5B\\SFT_output\\tokenizer_config.json\n",
      "Special tokens file saved in C:\\Users\\1\\Desktop\\train_model_output\\Qwen2.5-0.5B\\SFT_output\\special_tokens_map.json\n",
      "tokenizer config file saved in C:\\Users\\1\\Desktop\\train_model_output\\Qwen2.5-0.5B\\SFT_output\\tokenizer_config.json\n",
      "Special tokens file saved in C:\\Users\\1\\Desktop\\train_model_output\\Qwen2.5-0.5B\\SFT_output\\special_tokens_map.json\n"
     ]
    },
    {
     "data": {
      "text/plain": [
       "('C:\\\\Users\\\\1\\\\Desktop\\\\train_model_output\\\\Qwen2.5-0.5B\\\\SFT_output\\\\tokenizer_config.json',\n",
       " 'C:\\\\Users\\\\1\\\\Desktop\\\\train_model_output\\\\Qwen2.5-0.5B\\\\SFT_output\\\\special_tokens_map.json',\n",
       " 'C:\\\\Users\\\\1\\\\Desktop\\\\train_model_output\\\\Qwen2.5-0.5B\\\\SFT_output\\\\vocab.json',\n",
       " 'C:\\\\Users\\\\1\\\\Desktop\\\\train_model_output\\\\Qwen2.5-0.5B\\\\SFT_output\\\\merges.txt',\n",
       " 'C:\\\\Users\\\\1\\\\Desktop\\\\train_model_output\\\\Qwen2.5-0.5B\\\\SFT_output\\\\added_tokens.json',\n",
       " 'C:\\\\Users\\\\1\\\\Desktop\\\\train_model_output\\\\Qwen2.5-0.5B\\\\SFT_output\\\\tokenizer.json')"
      ]
     },
     "execution_count": 113,
     "metadata": {},
     "output_type": "execute_result"
    }
   ],
   "source": [
    "trainer.save_state()\n",
    "trainer.save_model(output_dir=args.output_dir)\n",
    "tokenizer.save_pretrained(args.output_dir)"
   ]
  },
  {
   "cell_type": "code",
   "execution_count": null,
   "metadata": {},
   "outputs": [],
   "source": []
  }
 ],
 "metadata": {
  "kernelspec": {
   "display_name": "llm",
   "language": "python",
   "name": "python3"
  },
  "language_info": {
   "codemirror_mode": {
    "name": "ipython",
    "version": 3
   },
   "file_extension": ".py",
   "mimetype": "text/x-python",
   "name": "python",
   "nbconvert_exporter": "python",
   "pygments_lexer": "ipython3",
   "version": "3.11.7"
  }
 },
 "nbformat": 4,
 "nbformat_minor": 2
}
