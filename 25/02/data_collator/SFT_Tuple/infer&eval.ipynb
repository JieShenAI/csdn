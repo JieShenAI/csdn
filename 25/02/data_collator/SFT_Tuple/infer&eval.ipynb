{
 "cells": [
  {
   "cell_type": "code",
   "execution_count": 1,
   "metadata": {},
   "outputs": [],
   "source": [
    "from typing import List, Dict, Sequence\n",
    "import torch\n",
    "import transformers\n",
    "from transformers import TrainingArguments, Trainer\n",
    "from transformers import AutoModelForCausalLM, AutoTokenizer\n",
    "\n",
    "from dataclasses import dataclass, field\n",
    "\n",
    "from setting import OUTPUT_FOLDER\n",
    "IGNORE_INDEX = -100\n",
    "device = \"cuda:0\""
   ]
  },
  {
   "cell_type": "code",
   "execution_count": 3,
   "metadata": {},
   "outputs": [],
   "source": [
    "model = AutoModelForCausalLM.from_pretrained(OUTPUT_FOLDER)\n",
    "model = model.half().to(device)\n",
    "tokenizer = AutoTokenizer.from_pretrained(OUTPUT_FOLDER, padding_side=\"right\")"
   ]
  },
  {
   "cell_type": "code",
   "execution_count": 5,
   "metadata": {},
   "outputs": [
    {
     "data": {
      "text/plain": [
       "{'input_ids': '请你给哪吒写一首诗：哪吒降世，意气飞扬。\\n逆天改命，破障冲霄。',\n",
       " 'labels': '请你给哪吒写一首诗：哪吒降世，意气飞扬。\\n逆天改命，破障冲霄。红绫缠腕，风火踏浪。\\n不屈不悔，笑傲苍茫。<|endoftext|>'}"
      ]
     },
     "execution_count": 5,
     "metadata": {},
     "output_type": "execute_result"
    }
   ],
   "source": [
    "import pandas as pd\n",
    "\n",
    "file = \"../data.xlsx\"\n",
    "df = pd.read_excel(file)\n",
    "\n",
    "\n",
    "def build_prompt(name, text, label):\n",
    "    instruct = f\"请你给{name}写一首诗：{text}\"\n",
    "    label = f\"{label}\"\n",
    "    return {\"input_ids\": instruct, \"labels\": instruct + label + tokenizer.eos_token}\n",
    "\n",
    "\n",
    "data = []\n",
    "for _, row in df.iterrows():\n",
    "    data.append(build_prompt(row[\"name\"], row[\"text\"], row[\"label\"]))\n",
    "data[0]"
   ]
  },
  {
   "cell_type": "code",
   "execution_count": 6,
   "metadata": {},
   "outputs": [],
   "source": [
    "def infer(text):\n",
    "    input_ids = tokenizer(text, return_tensors=\"pt\").to(model.device)\n",
    "\n",
    "    generated_ids = model.generate(**input_ids)\n",
    "    generated_ids = [\n",
    "        output_ids[len(input_ids) :]\n",
    "        for input_ids, output_ids in zip(input_ids.input_ids, generated_ids)\n",
    "    ]\n",
    "\n",
    "    response = tokenizer.batch_decode(generated_ids, skip_special_tokens=True)[0]\n",
    "    return response"
   ]
  },
  {
   "cell_type": "code",
   "execution_count": 7,
   "metadata": {},
   "outputs": [
    {
     "data": {
      "text/plain": [
       "{'input_ids': '请你给哪吒写一首诗：哪吒降世，意气飞扬。\\n逆天改命，破障冲霄。',\n",
       " 'labels': '请你给哪吒写一首诗：哪吒降世，意气飞扬。\\n逆天改命，破障冲霄。红绫缠腕，风火踏浪。\\n不屈不悔，笑傲苍茫。<|endoftext|>'}"
      ]
     },
     "execution_count": 7,
     "metadata": {},
     "output_type": "execute_result"
    }
   ],
   "source": [
    "data[0]"
   ]
  },
  {
   "cell_type": "code",
   "execution_count": 8,
   "metadata": {},
   "outputs": [
    {
     "name": "stderr",
     "output_type": "stream",
     "text": [
      "Setting `pad_token_id` to `eos_token_id`:151643 for open-end generation.\n"
     ]
    },
    {
     "data": {
      "text/plain": [
       "'炉中炼术，指点神童。'"
      ]
     },
     "execution_count": 8,
     "metadata": {},
     "output_type": "execute_result"
    }
   ],
   "source": [
    "infer(\"请你给太乙真人写一首诗：\")"
   ]
  },
  {
   "cell_type": "code",
   "execution_count": 9,
   "metadata": {},
   "outputs": [
    {
     "data": {
      "text/plain": [
       "[{'input_ids': '请你给哪吒写一首诗：哪吒降世，意气飞扬。\\n逆天改命，破障冲霄。',\n",
       "  'labels': '请你给哪吒写一首诗：哪吒降世，意气飞扬。\\n逆天改命，破障冲霄。红绫缠腕，风火踏浪。\\n不屈不悔，笑傲苍茫。<|endoftext|>'},\n",
       " {'input_ids': '请你给敖丙写一首诗：碧海生龙子，云中舞雪霜。',\n",
       "  'labels': '请你给敖丙写一首诗：碧海生龙子，云中舞雪霜。恩仇难两忘，何处是家乡？<|endoftext|>'},\n",
       " {'input_ids': '请你给殷夫人写一首诗：十月怀胎盼子生，柔心铁骨两相承。',\n",
       "  'labels': '请你给殷夫人写一首诗：十月怀胎盼子生，柔心铁骨两相承。甘将慈爱护天地，不惧风雷不惧征。<|endoftext|>'},\n",
       " {'input_ids': '请你给太乙真人写一首诗：仙风道骨，骑兽遨游。',\n",
       "  'labels': '请你给太乙真人写一首诗：仙风道骨，骑兽遨游。炉中炼术，指点神童。<|endoftext|>'},\n",
       " {'input_ids': '请你给申公豹写一首诗：阴谋藏心，步步为营。\\n狂傲不羁，志向高冥。',\n",
       "  'labels': '请你给申公豹写一首诗：阴谋藏心，步步为营。\\n狂傲不羁，志向高冥。欲翻天命，终难遂行。\\n困局自招，悔恨难平。<|endoftext|>'}]"
      ]
     },
     "execution_count": 9,
     "metadata": {},
     "output_type": "execute_result"
    }
   ],
   "source": [
    "data"
   ]
  },
  {
   "cell_type": "code",
   "execution_count": 11,
   "metadata": {},
   "outputs": [
    {
     "name": "stderr",
     "output_type": "stream",
     "text": [
      "Setting `pad_token_id` to `eos_token_id`:151643 for open-end generation.\n"
     ]
    },
    {
     "data": {
      "text/plain": [
       "'，欲翻天命，终难遂行。\\n困局自招，悔恨难平。'"
      ]
     },
     "execution_count": 11,
     "metadata": {},
     "output_type": "execute_result"
    }
   ],
   "source": [
    "infer(\"请你给申公豹写一首诗：阴谋藏心\")"
   ]
  },
  {
   "cell_type": "code",
   "execution_count": 12,
   "metadata": {},
   "outputs": [
    {
     "name": "stderr",
     "output_type": "stream",
     "text": [
      "Setting `pad_token_id` to `eos_token_id`:151643 for open-end generation.\n"
     ]
    },
    {
     "data": {
      "text/plain": [
       "'风火踏浪。\\n不屈不悔，笑傲苍茫。'"
      ]
     },
     "execution_count": 12,
     "metadata": {},
     "output_type": "execute_result"
    }
   ],
   "source": [
    "infer('逆天改命，破障冲霄。红绫缠腕，')"
   ]
  },
  {
   "cell_type": "code",
   "execution_count": 7,
   "metadata": {},
   "outputs": [
    {
     "data": {
      "text/plain": [
       "('<|endoftext|>', '<|endoftext|>')"
      ]
     },
     "execution_count": 7,
     "metadata": {},
     "output_type": "execute_result"
    }
   ],
   "source": [
    "tokenizer.pad_token, tokenizer.eos_token"
   ]
  }
 ],
 "metadata": {
  "kernelspec": {
   "display_name": "llm",
   "language": "python",
   "name": "python3"
  },
  "language_info": {
   "codemirror_mode": {
    "name": "ipython",
    "version": 3
   },
   "file_extension": ".py",
   "mimetype": "text/x-python",
   "name": "python",
   "nbconvert_exporter": "python",
   "pygments_lexer": "ipython3",
   "version": "3.11.7"
  }
 },
 "nbformat": 4,
 "nbformat_minor": 2
}
