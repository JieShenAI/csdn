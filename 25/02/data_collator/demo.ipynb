{
 "cells": [
  {
   "cell_type": "code",
   "execution_count": null,
   "metadata": {},
   "outputs": [],
   "source": [
    "from transformers import AutoModelForCausalLM, AutoTokenizer\n",
    "\n",
    "model_dir = r\"C:\\Users\\1\\.cache\\modelscope\\hub\\LLM-Research\\Meta-Llama-3___1-8B-Instruct\"\n",
    "\n",
    "model = AutoModelForCausalLM.from_pretrained(model_dir)\n",
    "model = model.to(\"cuda:0\")\n",
    "\n",
    "tokenizer = AutoTokenizer.from_pretrained(model_dir)\n",
    "messages = [\n",
    "    [{\"role\": \"user\", \"content\": \"Who are you?\"}],\n",
    "    [{\"role\": \"user\", \"content\": \"How are you?\"}],\n",
    "    [{\"role\": \"user\", \"content\": \"What can you do for me?\"}],\n",
    "]\n",
    "# tokenizer.pad_token = tokenizer.eos_token\n",
    "\n",
    "input_ids = tokenizer.apply_chat_template(\n",
    "    messages, return_dict=True, return_tensors=\"pt\", padding=True\n",
    ")\n",
    "\n",
    "for k, v in input_ids.items():\n",
    "    input_ids[k] = v.to(\"cuda:0\")\n",
    "\n",
    "result = model.generate(**input_ids, max_length=256, do_sample=False)\n",
    "result = tokenizer.batch_decode(result)\n",
    "for item in result:\n",
    "    print(item)"
   ]
  },
  {
   "cell_type": "markdown",
   "metadata": {},
   "source": [
    "## 数据集构建"
   ]
  },
  {
   "cell_type": "markdown",
   "metadata": {},
   "source": []
  }
 ],
 "metadata": {
  "kernelspec": {
   "display_name": "llm",
   "language": "python",
   "name": "python3"
  },
  "language_info": {
   "name": "python",
   "version": "3.11.7"
  }
 },
 "nbformat": 4,
 "nbformat_minor": 2
}
