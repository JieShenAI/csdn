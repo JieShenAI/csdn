{
 "cells": [
  {
   "cell_type": "markdown",
   "metadata": {},
   "source": [
    "自己实现 EmbedCollator "
   ]
  },
  {
   "cell_type": "code",
   "execution_count": 1,
   "metadata": {},
   "outputs": [
    {
     "name": "stderr",
     "output_type": "stream",
     "text": [
      "/home/jie/anaconda3/envs/agent/lib/python3.11/site-packages/tqdm/auto.py:21: TqdmWarning: IProgress not found. Please update jupyter and ipywidgets. See https://ipywidgets.readthedocs.io/en/stable/user_install.html\n",
      "  from .autonotebook import tqdm as notebook_tqdm\n"
     ]
    }
   ],
   "source": [
    "from dataclasses import dataclass\n",
    "import torch\n",
    "from transformers import DataCollatorWithPadding, AutoTokenizer"
   ]
  },
  {
   "cell_type": "code",
   "execution_count": 2,
   "metadata": {},
   "outputs": [
    {
     "name": "stderr",
     "output_type": "stream",
     "text": [
      "2025-06-07 21:40:28,730 - modelscope - WARNING - Model revision not specified, use revision: v1.0.0\n"
     ]
    },
    {
     "name": "stdout",
     "output_type": "stream",
     "text": [
      "Downloading Model from https://www.modelscope.cn to directory: /home/jie/.cache/modelscope/hub/models/AI-ModelScope/bert-base-uncased\n"
     ]
    }
   ],
   "source": [
    "from hf import model_args, data_args, training_args"
   ]
  },
  {
   "cell_type": "code",
   "execution_count": 3,
   "metadata": {},
   "outputs": [],
   "source": [
    "import sys\n",
    "sys.path.append(\"../\")\n",
    "\n",
    "from src.data import TrainDatasetForEmbedding"
   ]
  },
  {
   "cell_type": "code",
   "execution_count": 4,
   "metadata": {},
   "outputs": [],
   "source": [
    "tokenizer = AutoTokenizer.from_pretrained(model_args.model_name_or_path)"
   ]
  },
  {
   "cell_type": "markdown",
   "metadata": {},
   "source": [
    "## 加载dataset"
   ]
  },
  {
   "cell_type": "code",
   "execution_count": 5,
   "metadata": {},
   "outputs": [
    {
     "data": {
      "text/plain": [
       "('Generate representations for this sentence to retrieve related articles:Five women walk along a beach wearing flip-flops.',\n",
       " ['Some women with flip-flops on, are walking along the beach',\n",
       "  'The man is talking about hawaii.',\n",
       "  'The battle was over. ',\n",
       "  'A group of people plays volleyball.'])"
      ]
     },
     "execution_count": 5,
     "metadata": {},
     "output_type": "execute_result"
    }
   ],
   "source": [
    "dataset = TrainDatasetForEmbedding(\n",
    "    args=data_args,\n",
    "    tokenizer=tokenizer\n",
    ")\n",
    "dataset[0]"
   ]
  },
  {
   "cell_type": "code",
   "execution_count": 6,
   "metadata": {},
   "outputs": [],
   "source": [
    "from typing import List"
   ]
  },
  {
   "cell_type": "code",
   "execution_count": 61,
   "metadata": {},
   "outputs": [
    {
     "data": {
      "text/plain": [
       "3"
      ]
     },
     "execution_count": 61,
     "metadata": {},
     "output_type": "execute_result"
    }
   ],
   "source": [
    "torch.randn(2, 3).size(-1)"
   ]
  },
  {
   "cell_type": "code",
   "execution_count": 86,
   "metadata": {},
   "outputs": [],
   "source": [
    "@dataclass\n",
    "class EmbedCollator(DataCollatorWithPadding):\n",
    "    \"\"\"\n",
    "    Wrapper that does conversion from List[Tuple[encode_qry, encode_psg]] to List[qry], List[psg]\n",
    "    and pass batch separately to the actual collator.\n",
    "    Abstract out data detail for the model.\n",
    "    \"\"\"\n",
    "    \n",
    "    query_max_len: int = 32\n",
    "    passage_max_len: int = 128\n",
    "\n",
    "    def __call__(self, features):\n",
    "        query = [f[0] for f in features]\n",
    "        passages = [f[1] for f in features]\n",
    "        query: List[str]  # batch_size\n",
    "        passages: List[List[str]]  # batch_size, group_size\n",
    "\n",
    "        q_collated = self.tokenizer(\n",
    "            query,\n",
    "            padding=True,\n",
    "            truncation=True,\n",
    "            max_length=self.query_max_len,\n",
    "            return_tensors=\"pt\",\n",
    "        )\n",
    "\n",
    "        # 单个样本tokenizer\n",
    "        batch_max_passage_length = 0\n",
    "        passage_collated_data = []\n",
    "        for passage in passages:\n",
    "            tmp_collated = self.tokenizer(\n",
    "                passage,\n",
    "                padding=True,\n",
    "                truncation=True,\n",
    "                max_length=self.passage_max_len,\n",
    "                return_tensors=\"pt\",\n",
    "            )\n",
    "            batch_max_passage_length = max(\n",
    "                batch_max_passage_length, tmp_collated.input_ids.size(-1)\n",
    "            )\n",
    "            passage_collated_data.append(tmp_collated)\n",
    "            \n",
    "        # padding to batch_max_passage_length, then stack\n",
    "        passage_collated = {}\n",
    "        for item in passage_collated_data:\n",
    "            # pad\n",
    "            padded_sentences = tokenizer.pad(\n",
    "                item,\n",
    "                padding=\"max_length\",  # 自动填充到最长序列长度\n",
    "                return_tensors=\"pt\",  # 返回 PyTorch 格式的张量\n",
    "                max_length=batch_max_passage_length,\n",
    "            )\n",
    "\n",
    "            for k, v in padded_sentences.items():\n",
    "                if k not in passage_collated.keys():\n",
    "                    passage_collated[k] = []\n",
    "                passage_collated[k].append(v)\n",
    "\n",
    "        for k, v in passage_collated.items():\n",
    "            passage_collated[k] = torch.stack(v)\n",
    "\n",
    "        return {\"query\": q_collated, \"passage\": passage_collated}"
   ]
  },
  {
   "cell_type": "code",
   "execution_count": 87,
   "metadata": {},
   "outputs": [],
   "source": [
    "data_collator = EmbedCollator(tokenizer=tokenizer)"
   ]
  },
  {
   "cell_type": "code",
   "execution_count": 49,
   "metadata": {},
   "outputs": [],
   "source": [
    "head_data = [dataset[0], dataset[1], dataset[2]]"
   ]
  },
  {
   "cell_type": "code",
   "execution_count": 91,
   "metadata": {},
   "outputs": [],
   "source": [
    "query, passage = data_collator(head_data).values()"
   ]
  },
  {
   "cell_type": "code",
   "execution_count": 95,
   "metadata": {},
   "outputs": [
    {
     "data": {
      "text/plain": [
       "torch.Size([3, 4, 16])"
      ]
     },
     "execution_count": 95,
     "metadata": {},
     "output_type": "execute_result"
    }
   ],
   "source": [
    "passage[\"input_ids\"].shape"
   ]
  },
  {
   "cell_type": "code",
   "execution_count": null,
   "metadata": {},
   "outputs": [],
   "source": []
  }
 ],
 "metadata": {
  "kernelspec": {
   "display_name": "agent",
   "language": "python",
   "name": "python3"
  },
  "language_info": {
   "codemirror_mode": {
    "name": "ipython",
    "version": 3
   },
   "file_extension": ".py",
   "mimetype": "text/x-python",
   "name": "python",
   "nbconvert_exporter": "python",
   "pygments_lexer": "ipython3",
   "version": "3.11.4"
  }
 },
 "nbformat": 4,
 "nbformat_minor": 2
}
