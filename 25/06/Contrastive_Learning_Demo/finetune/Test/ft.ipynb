{
 "cells": [
  {
   "cell_type": "code",
   "execution_count": 1,
   "id": "7102d29b",
   "metadata": {},
   "outputs": [
    {
     "name": "stderr",
     "output_type": "stream",
     "text": [
      "/home/jie/anaconda3/envs/agent/lib/python3.11/site-packages/tqdm/auto.py:21: TqdmWarning: IProgress not found. Please update jupyter and ipywidgets. See https://ipywidgets.readthedocs.io/en/stable/user_install.html\n",
      "  from .autonotebook import tqdm as notebook_tqdm\n"
     ]
    }
   ],
   "source": [
    "import logging\n",
    "import os\n",
    "from pathlib import Path\n",
    "import torch\n",
    "from torch import nn\n",
    "from transformers import AutoConfig, AutoTokenizer\n",
    "from transformers import (\n",
    "    HfArgumentParser,\n",
    "    set_seed,\n",
    ")\n",
    "from transformers import Trainer\n",
    "\n",
    "import sys\n",
    "sys.path.append(\"..\")\n",
    "from src.arguments import (\n",
    "    ModelArguments,\n",
    "    DataArguments,\n",
    "    RetrieverTrainingArguments as TrainingArguments,\n",
    ")\n",
    "from src.data import TrainDatasetForEmbedding, EmbedCollator\n",
    "from src.modeling import BiEncoderModel\n",
    "# from trainer import BiTrainer\n"
   ]
  },
  {
   "cell_type": "code",
   "execution_count": 3,
   "id": "7d9ee7ec",
   "metadata": {},
   "outputs": [],
   "source": [
    "from hf import model_args, data_args, training_args\n",
    "from data import dataset, data_collator"
   ]
  },
  {
   "cell_type": "code",
   "execution_count": 4,
   "id": "5b1c1b5a",
   "metadata": {},
   "outputs": [],
   "source": [
    "num_labels = 1\n",
    "\n",
    "tokenizer = AutoTokenizer.from_pretrained(\n",
    "    (\n",
    "        model_args.tokenizer_name\n",
    "        if model_args.tokenizer_name\n",
    "        else model_args.model_name_or_path\n",
    "    ),\n",
    "    cache_dir=model_args.cache_dir,\n",
    "    use_fast=False,\n",
    ")\n",
    "\n",
    "config = AutoConfig.from_pretrained(\n",
    "    (\n",
    "        model_args.config_name\n",
    "        if model_args.config_name\n",
    "        else model_args.model_name_or_path\n",
    "    ),\n",
    "    # num_labels=num_labels,\n",
    "    cache_dir=model_args.cache_dir,\n",
    ")\n",
    "\n",
    "# model = BiEncoderModel(\n",
    "#     model_name=model_args.model_name_or_path,\n",
    "#     normlized=training_args.normlized,\n",
    "#     sentence_pooling_method=training_args.sentence_pooling_method,\n",
    "#     negatives_cross_device=training_args.negatives_cross_device,\n",
    "#     temperature=training_args.temperature,\n",
    "# )"
   ]
  },
  {
   "cell_type": "code",
   "execution_count": 5,
   "id": "d9f5d716",
   "metadata": {},
   "outputs": [],
   "source": [
    "tokenizer = AutoTokenizer.from_pretrained(model_args.model_name_or_path)"
   ]
  },
  {
   "cell_type": "code",
   "execution_count": 6,
   "id": "dce23302",
   "metadata": {},
   "outputs": [
    {
     "name": "stderr",
     "output_type": "stream",
     "text": [
      "You're using a BertTokenizerFast tokenizer. Please note that with a fast tokenizer, using the `__call__` method is faster than using a method to encode the text followed by a call to the `pad` method to get a padded encoding.\n"
     ]
    },
    {
     "name": "stdout",
     "output_type": "stream",
     "text": [
      "torch.Size([12, 27])\n"
     ]
    }
   ],
   "source": [
    "head_data = [dataset[0], dataset[1], dataset[2]]\n",
    "query, passage = data_collator(head_data).values()\n",
    "print(passage[\"input_ids\"].shape)"
   ]
  },
  {
   "cell_type": "code",
   "execution_count": 7,
   "id": "dee798d3",
   "metadata": {},
   "outputs": [
    {
     "data": {
      "text/plain": [
       "('Generate representations for this sentence to retrieve related articles:Five women walk along a beach wearing flip-flops.',\n",
       " ['Some women with flip-flops on, are walking along the beach',\n",
       "  'A woman is standing outside.',\n",
       "  'There was a reform in 1996.',\n",
       "  'The battle was over. '])"
      ]
     },
     "execution_count": 7,
     "metadata": {},
     "output_type": "execute_result"
    }
   ],
   "source": [
    "dataset[0]"
   ]
  },
  {
   "cell_type": "code",
   "execution_count": 8,
   "id": "5f063c3c",
   "metadata": {},
   "outputs": [],
   "source": [
    "mean_model = BiEncoderModel(\n",
    "    model_name=model_args.model_name_or_path,\n",
    "    normlized=training_args.normlized,\n",
    "    sentence_pooling_method=\"mean\",\n",
    ")"
   ]
  },
  {
   "cell_type": "code",
   "execution_count": 9,
   "id": "7d4bcd73",
   "metadata": {},
   "outputs": [],
   "source": [
    "query_tensor = mean_model.encode(query)"
   ]
  },
  {
   "cell_type": "code",
   "execution_count": 12,
   "id": "ec835fcf",
   "metadata": {},
   "outputs": [
    {
     "data": {
      "text/plain": [
       "torch.Size([3, 1, 768])"
      ]
     },
     "execution_count": 12,
     "metadata": {},
     "output_type": "execute_result"
    }
   ],
   "source": [
    "query_tensor.unsqueeze(1).shape"
   ]
  },
  {
   "cell_type": "code",
   "execution_count": 13,
   "id": "d4bf5ebd",
   "metadata": {},
   "outputs": [
    {
     "data": {
      "text/plain": [
       "torch.Size([3, 768])"
      ]
     },
     "execution_count": 13,
     "metadata": {},
     "output_type": "execute_result"
    }
   ],
   "source": [
    "query_tensor.shape"
   ]
  },
  {
   "cell_type": "code",
   "execution_count": 17,
   "id": "13d877cf",
   "metadata": {},
   "outputs": [
    {
     "data": {
      "text/plain": [
       "BertConfig {\n",
       "  \"architectures\": [\n",
       "    \"BertForMaskedLM\"\n",
       "  ],\n",
       "  \"attention_probs_dropout_prob\": 0.1,\n",
       "  \"classifier_dropout\": null,\n",
       "  \"gradient_checkpointing\": false,\n",
       "  \"hidden_act\": \"gelu\",\n",
       "  \"hidden_dropout_prob\": 0.1,\n",
       "  \"hidden_size\": 768,\n",
       "  \"initializer_range\": 0.02,\n",
       "  \"intermediate_size\": 3072,\n",
       "  \"layer_norm_eps\": 1e-12,\n",
       "  \"max_position_embeddings\": 512,\n",
       "  \"model_type\": \"bert\",\n",
       "  \"num_attention_heads\": 12,\n",
       "  \"num_hidden_layers\": 12,\n",
       "  \"pad_token_id\": 0,\n",
       "  \"position_embedding_type\": \"absolute\",\n",
       "  \"transformers_version\": \"4.50.3\",\n",
       "  \"type_vocab_size\": 2,\n",
       "  \"use_cache\": true,\n",
       "  \"vocab_size\": 30522\n",
       "}"
      ]
     },
     "execution_count": 17,
     "metadata": {},
     "output_type": "execute_result"
    }
   ],
   "source": [
    "config"
   ]
  },
  {
   "cell_type": "code",
   "execution_count": null,
   "id": "c606b1d1",
   "metadata": {},
   "outputs": [],
   "source": [
    "# torch.Size([3, 1, 768])"
   ]
  },
  {
   "cell_type": "code",
   "execution_count": 18,
   "id": "eaac2ea8",
   "metadata": {},
   "outputs": [
    {
     "data": {
      "text/plain": [
       "torch.Size([3, 4, 768])"
      ]
     },
     "execution_count": 18,
     "metadata": {},
     "output_type": "execute_result"
    }
   ],
   "source": [
    "passage_tensor = mean_model.encode(passage)\n",
    "passage_tensor = passage_tensor.reshape(\n",
    "    -1, data_args.train_group_size, config.hidden_size\n",
    ")\n",
    "passage_tensor.shape"
   ]
  },
  {
   "cell_type": "code",
   "execution_count": 33,
   "id": "b25ac1fe",
   "metadata": {},
   "outputs": [],
   "source": [
    "passage_tensor = passage_tensor.reshape(-1, data_args.train_group_size, config.hidden_size)"
   ]
  },
  {
   "cell_type": "code",
   "execution_count": 19,
   "id": "1abca38e",
   "metadata": {},
   "outputs": [
    {
     "data": {
      "text/plain": [
       "torch.Size([3, 1, 4])"
      ]
     },
     "execution_count": 19,
     "metadata": {},
     "output_type": "execute_result"
    }
   ],
   "source": [
    "torch.matmul(query_tensor.unsqueeze(1), passage_tensor.transpose(-2, -1)).shape"
   ]
  },
  {
   "cell_type": "code",
   "execution_count": 35,
   "id": "36ea5ae7",
   "metadata": {},
   "outputs": [
    {
     "data": {
      "text/plain": [
       "tensor([[[0.7989, 0.5650, 0.4587, 0.6340],\n",
       "         [0.7240, 0.5850, 0.4034, 0.6214],\n",
       "         [0.6837, 0.5761, 0.4178, 0.6391]],\n",
       "\n",
       "        [[0.7432, 0.6825, 0.5964, 0.5350],\n",
       "         [0.7682, 0.6258, 0.5924, 0.5315],\n",
       "         [0.6731, 0.5850, 0.5655, 0.5124]],\n",
       "\n",
       "        [[0.6734, 0.7426, 0.5338, 0.4966],\n",
       "         [0.6542, 0.7297, 0.4738, 0.5386],\n",
       "         [0.6489, 0.6687, 0.4550, 0.5075]]], grad_fn=<CloneBackward0>)"
      ]
     },
     "execution_count": 35,
     "metadata": {},
     "output_type": "execute_result"
    }
   ],
   "source": [
    "mean_model.compute_similarity(query_tensor, passage_tensor)"
   ]
  },
  {
   "cell_type": "code",
   "execution_count": null,
   "id": "776d2108",
   "metadata": {},
   "outputs": [],
   "source": [
    "mean_model.model(passage[\"input_ids\"])"
   ]
  },
  {
   "cell_type": "code",
   "execution_count": 45,
   "id": "1b0af5b6",
   "metadata": {},
   "outputs": [],
   "source": [
    "A = torch.tensor([[[1.0, 2.0, 3.0]], [[4.0, 5.0, 6.0]], [[7.0, 8.0, 9.0]]])  # (3, 1, 3)\n",
    "\n",
    "B = torch.tensor(\n",
    "    [\n",
    "        [[1.0, 0.0], [0.0, 1.0], [1.0, 1.0]],\n",
    "        [[1.0, 2.0], [3.0, 4.0], [5.0, 6.0]],\n",
    "        [[7.0, 8.0], [9.0, 10.0], [11.0, 12.0]],\n",
    "    ]\n",
    ")  # (3, 3, 2)\n",
    "\n",
    "res = torch.matmul(A, B)"
   ]
  },
  {
   "cell_type": "code",
   "execution_count": 47,
   "id": "319b568b",
   "metadata": {},
   "outputs": [
    {
     "data": {
      "text/plain": [
       "(torch.Size([3, 1, 3]), torch.Size([3, 3, 2]))"
      ]
     },
     "execution_count": 47,
     "metadata": {},
     "output_type": "execute_result"
    }
   ],
   "source": [
    "A.shape, B.shape"
   ]
  },
  {
   "cell_type": "code",
   "execution_count": 48,
   "id": "3a30d58b",
   "metadata": {},
   "outputs": [
    {
     "data": {
      "text/plain": [
       "tensor([[[  4.,   5.]],\n",
       "\n",
       "        [[ 49.,  64.]],\n",
       "\n",
       "        [[220., 244.]]])"
      ]
     },
     "execution_count": 48,
     "metadata": {},
     "output_type": "execute_result"
    }
   ],
   "source": [
    "res"
   ]
  },
  {
   "cell_type": "code",
   "execution_count": 46,
   "id": "25a2c477",
   "metadata": {},
   "outputs": [
    {
     "data": {
      "text/plain": [
       "torch.Size([3, 1, 2])"
      ]
     },
     "execution_count": 46,
     "metadata": {},
     "output_type": "execute_result"
    }
   ],
   "source": [
    "res.shape"
   ]
  },
  {
   "cell_type": "code",
   "execution_count": 53,
   "id": "a059740b",
   "metadata": {},
   "outputs": [
    {
     "data": {
      "text/plain": [
       "torch.Size([3, 1, 2])"
      ]
     },
     "execution_count": 53,
     "metadata": {},
     "output_type": "execute_result"
    }
   ],
   "source": [
    "torch.matmul(\n",
    "    torch.randn(3, 1, 3),\n",
    "    torch.randn(3, 3, 2),\n",
    ").shape"
   ]
  },
  {
   "cell_type": "code",
   "execution_count": 52,
   "id": "7a101cb5",
   "metadata": {},
   "outputs": [
    {
     "data": {
      "text/plain": [
       "torch.Size([3, 3, 2])"
      ]
     },
     "execution_count": 52,
     "metadata": {},
     "output_type": "execute_result"
    }
   ],
   "source": [
    "torch.matmul(\n",
    "    torch.randn(3, 3),\n",
    "    torch.randn(3, 3, 2),\n",
    ").shape"
   ]
  },
  {
   "cell_type": "code",
   "execution_count": null,
   "id": "322c22cf",
   "metadata": {},
   "outputs": [],
   "source": [
    "mean_model(query=query, passage=passage)"
   ]
  },
  {
   "cell_type": "markdown",
   "id": "0664010e",
   "metadata": {},
   "source": [
    "验证 hf 使用 mean 还是 cls 在计算encode"
   ]
  },
  {
   "cell_type": "code",
   "execution_count": null,
   "id": "9269031b",
   "metadata": {},
   "outputs": [],
   "source": [
    "trainer = Trainer(\n",
    "    model=mean_model,\n",
    "    args=training_args,\n",
    "    train_dataset=train_dataset,\n",
    "    data_collator=EmbedCollator(\n",
    "        tokenizer,\n",
    "        query_max_len=data_args.query_max_len,\n",
    "        passage_max_len=data_args.passage_max_len,\n",
    "    ),\n",
    "    tokenizer=tokenizer,\n",
    ")"
   ]
  },
  {
   "cell_type": "code",
   "execution_count": 17,
   "id": "23270bd4",
   "metadata": {},
   "outputs": [],
   "source": [
    "# trainer.train()"
   ]
  },
  {
   "cell_type": "code",
   "execution_count": 18,
   "id": "744a9435",
   "metadata": {},
   "outputs": [],
   "source": [
    "# trainer.save_model()"
   ]
  }
 ],
 "metadata": {
  "kernelspec": {
   "display_name": "agent",
   "language": "python",
   "name": "python3"
  },
  "language_info": {
   "codemirror_mode": {
    "name": "ipython",
    "version": 3
   },
   "file_extension": ".py",
   "mimetype": "text/x-python",
   "name": "python",
   "nbconvert_exporter": "python",
   "pygments_lexer": "ipython3",
   "version": "3.11.4"
  }
 },
 "nbformat": 4,
 "nbformat_minor": 5
}
