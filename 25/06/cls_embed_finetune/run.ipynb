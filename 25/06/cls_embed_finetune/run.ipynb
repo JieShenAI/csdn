{
 "cells": [
  {
   "cell_type": "code",
   "execution_count": null,
   "id": "0b9f3181",
   "metadata": {},
   "outputs": [],
   "source": [
    "# 尝试加载一下数据集，看看数据集格式\n",
    "# from datasets import load_dataset\n",
    "# _dataset = load_dataset(\"fancyzhx/ag_news\")\n",
    "# _dataset"
   ]
  },
  {
   "cell_type": "code",
   "execution_count": 1,
   "id": "5f9bd285",
   "metadata": {},
   "outputs": [
    {
     "name": "stderr",
     "output_type": "stream",
     "text": [
      "/opt/anaconda3/envs/embed/lib/python3.12/site-packages/requests/__init__.py:86: RequestsDependencyWarning: Unable to find acceptable character detection dependency (chardet or charset_normalizer).\n",
      "  warnings.warn(\n",
      "/opt/anaconda3/envs/embed/lib/python3.12/site-packages/tqdm/auto.py:21: TqdmWarning: IProgress not found. Please update jupyter and ipywidgets. See https://ipywidgets.readthedocs.io/en/stable/user_install.html\n",
      "  from .autonotebook import tqdm as notebook_tqdm\n"
     ]
    }
   ],
   "source": [
    "import mteb\n",
    "from mteb.abstasks.TaskMetadata import TaskMetadata\n",
    "from mteb.abstasks.AbsTaskClassification import AbsTaskClassification\n",
    "from typing_extensions import override\n",
    "\n",
    "class AgNews(AbsTaskClassification):\n",
    "    metadata = TaskMetadata(\n",
    "        name=\"AgNews\",\n",
    "        description=\"AG is a collection of more than 1 million news articles.\",\n",
    "        dataset={\n",
    "            \"path\": \"fancyzhx/ag_news\",\n",
    "            \"revision\": \"eb185aade064a813bc0b7f42de02595523103ca4\",\n",
    "        },\n",
    "        type=\"Classification\",\n",
    "        category=\"s2s\",\n",
    "        modalities=[\"text\"],  # text or image\n",
    "        eval_splits=[\"test\"],\n",
    "        eval_langs=[\"eng-Latn\"],\n",
    "        main_score=\"accuracy\",\n",
    "        date=None,\n",
    "        domains=None,\n",
    "        task_subtypes=None,\n",
    "        license=None,\n",
    "        annotations_creators=None,\n",
    "        dialect=None,\n",
    "        sample_creation=None,\n",
    "        bibtex_citation=\"\"\"\"\"\",\n",
    "    )\n",
    "    # option\n",
    "    samples_per_label: int = 16"
   ]
  },
  {
   "cell_type": "code",
   "execution_count": 2,
   "id": "fc115ccc",
   "metadata": {},
   "outputs": [],
   "source": [
    "from transformers import AutoModel\n",
    "_model = AutoModel.from_pretrained(\"BAAI/bge-small-en-v1.5\")"
   ]
  },
  {
   "cell_type": "code",
   "execution_count": 27,
   "id": "44667ef5",
   "metadata": {},
   "outputs": [
    {
     "name": "stderr",
     "output_type": "stream",
     "text": [
      "Failed to extract metadata from model: Repo id must be in the form 'repo_name' or 'namespace/repo_name': '/Users/jie/.cache/modelscope/hub/models/BAAI/bge-small-en-v1___5'. Use `repo_type` argument if needed..\n",
      "Loader not specified for model /Users/jie/.cache/modelscope/hub/models/BAAI/bge-small-en-v1___5, loading using sentence transformers.\n"
     ]
    },
    {
     "data": {
      "text/html": [
       "<pre style=\"white-space:pre;overflow-x:auto;line-height:normal;font-family:Menlo,'DejaVu Sans Mono',consolas,'Courier New',monospace\"><span style=\"color: #262626; text-decoration-color: #262626\">───────────────────────────────────────────────── </span><span style=\"font-weight: bold\">Selected tasks </span><span style=\"color: #262626; text-decoration-color: #262626\"> ─────────────────────────────────────────────────</span>\n",
       "</pre>\n"
      ],
      "text/plain": [
       "\u001b[38;5;235m───────────────────────────────────────────────── \u001b[0m\u001b[1mSelected tasks \u001b[0m\u001b[38;5;235m ─────────────────────────────────────────────────\u001b[0m\n"
      ]
     },
     "metadata": {},
     "output_type": "display_data"
    },
    {
     "data": {
      "text/html": [
       "<pre style=\"white-space:pre;overflow-x:auto;line-height:normal;font-family:Menlo,'DejaVu Sans Mono',consolas,'Courier New',monospace\"><span style=\"font-weight: bold\">Classification</span>\n",
       "</pre>\n"
      ],
      "text/plain": [
       "\u001b[1mClassification\u001b[0m\n"
      ]
     },
     "metadata": {},
     "output_type": "display_data"
    },
    {
     "data": {
      "text/html": [
       "<pre style=\"white-space:pre;overflow-x:auto;line-height:normal;font-family:Menlo,'DejaVu Sans Mono',consolas,'Courier New',monospace\">    - AgNews, <span style=\"color: #626262; text-decoration-color: #626262; font-style: italic\">s2s</span>\n",
       "</pre>\n"
      ],
      "text/plain": [
       "    - AgNews, \u001b[3;38;5;241ms2s\u001b[0m\n"
      ]
     },
     "metadata": {},
     "output_type": "display_data"
    },
    {
     "data": {
      "text/html": [
       "<pre style=\"white-space:pre;overflow-x:auto;line-height:normal;font-family:Menlo,'DejaVu Sans Mono',consolas,'Courier New',monospace\">\n",
       "\n",
       "</pre>\n"
      ],
      "text/plain": [
       "\n",
       "\n"
      ]
     },
     "metadata": {},
     "output_type": "display_data"
    }
   ],
   "source": [
    "# model = mteb.get_model(\"BAAI/bge-m3\")\n",
    "raw_model = mteb.get_model(\"/Users/jie/.cache/modelscope/hub/models/BAAI/bge-small-en-v1___5\")\n",
    "\n",
    "evaluation = mteb.MTEB(tasks=[AgNews(method=\"kNN-pytorch\", n_experiments=8)])\n",
    "raw_cls_res = evaluation.run(raw_model)"
   ]
  },
  {
   "cell_type": "code",
   "execution_count": 28,
   "id": "6f59e2c0",
   "metadata": {},
   "outputs": [
    {
     "data": {
      "text/plain": [
       "{'test': [{'accuracy_cosine': np.float64(0.7784703947368421),\n",
       "   'f1_cosine': np.float64(0.7754760869125039),\n",
       "   'accuracy_euclidean': np.float64(0.7784703947368421),\n",
       "   'f1_euclidean': np.float64(0.7754760869125039),\n",
       "   'accuracy_dot': np.float64(0.7784703947368421),\n",
       "   'f1_dot': np.float64(0.7754760869125039),\n",
       "   'accuracy': np.float64(0.7784703947368421),\n",
       "   'f1': np.float64(0.7754760869125039),\n",
       "   'scores_per_experiment': [{'accuracy_cosine': 0.7702631578947369,\n",
       "     'f1_cosine': 0.7686974948369114,\n",
       "     'accuracy_euclidean': 0.7702631578947369,\n",
       "     'f1_euclidean': 0.7686974948369114,\n",
       "     'accuracy_dot': 0.7702631578947369,\n",
       "     'f1_dot': 0.7686974948369114,\n",
       "     'accuracy': 0.7702631578947369,\n",
       "     'f1': 0.7686974948369114},\n",
       "    {'accuracy_cosine': 0.7735526315789474,\n",
       "     'f1_cosine': 0.7682373853553981,\n",
       "     'accuracy_euclidean': 0.7735526315789474,\n",
       "     'f1_euclidean': 0.7682373853553981,\n",
       "     'accuracy_dot': 0.7735526315789474,\n",
       "     'f1_dot': 0.7682373853553981,\n",
       "     'accuracy': 0.7735526315789474,\n",
       "     'f1': 0.7682373853553981},\n",
       "    {'accuracy_cosine': 0.7813157894736842,\n",
       "     'f1_cosine': 0.7802275746306067,\n",
       "     'accuracy_euclidean': 0.7813157894736842,\n",
       "     'f1_euclidean': 0.7802275746306067,\n",
       "     'accuracy_dot': 0.7813157894736842,\n",
       "     'f1_dot': 0.7802275746306067,\n",
       "     'accuracy': 0.7813157894736842,\n",
       "     'f1': 0.7802275746306067},\n",
       "    {'accuracy_cosine': 0.8115789473684211,\n",
       "     'f1_cosine': 0.8089938092558692,\n",
       "     'accuracy_euclidean': 0.8115789473684211,\n",
       "     'f1_euclidean': 0.8089938092558692,\n",
       "     'accuracy_dot': 0.8115789473684211,\n",
       "     'f1_dot': 0.8089938092558692,\n",
       "     'accuracy': 0.8115789473684211,\n",
       "     'f1': 0.8089938092558692},\n",
       "    {'accuracy_cosine': 0.785921052631579,\n",
       "     'f1_cosine': 0.7837079218303962,\n",
       "     'accuracy_euclidean': 0.785921052631579,\n",
       "     'f1_euclidean': 0.7837079218303962,\n",
       "     'accuracy_dot': 0.785921052631579,\n",
       "     'f1_dot': 0.7837079218303962,\n",
       "     'accuracy': 0.785921052631579,\n",
       "     'f1': 0.7837079218303962},\n",
       "    {'accuracy_cosine': 0.7713157894736842,\n",
       "     'f1_cosine': 0.7689318619849177,\n",
       "     'accuracy_euclidean': 0.7713157894736842,\n",
       "     'f1_euclidean': 0.7689318619849177,\n",
       "     'accuracy_dot': 0.7713157894736842,\n",
       "     'f1_dot': 0.7689318619849177,\n",
       "     'accuracy': 0.7713157894736842,\n",
       "     'f1': 0.7689318619849177},\n",
       "    {'accuracy_cosine': 0.7819736842105263,\n",
       "     'f1_cosine': 0.776684025576863,\n",
       "     'accuracy_euclidean': 0.7819736842105263,\n",
       "     'f1_euclidean': 0.776684025576863,\n",
       "     'accuracy_dot': 0.7819736842105263,\n",
       "     'f1_dot': 0.776684025576863,\n",
       "     'accuracy': 0.7819736842105263,\n",
       "     'f1': 0.776684025576863},\n",
       "    {'accuracy_cosine': 0.7518421052631579,\n",
       "     'f1_cosine': 0.7483286218290692,\n",
       "     'accuracy_euclidean': 0.7518421052631579,\n",
       "     'f1_euclidean': 0.7483286218290692,\n",
       "     'accuracy_dot': 0.7518421052631579,\n",
       "     'f1_dot': 0.7483286218290692,\n",
       "     'accuracy': 0.7518421052631579,\n",
       "     'f1': 0.7483286218290692}],\n",
       "   'main_score': np.float64(0.7784703947368421),\n",
       "   'hf_subset': 'default',\n",
       "   'languages': ['eng-Latn']}]}"
      ]
     },
     "execution_count": 28,
     "metadata": {},
     "output_type": "execute_result"
    }
   ],
   "source": [
    "raw_cls_res[0].scores"
   ]
  },
  {
   "cell_type": "code",
   "execution_count": 9,
   "id": "cbdbab5d",
   "metadata": {},
   "outputs": [],
   "source": [
    "import numpy as np\n",
    "from sentence_transformers import SentenceTransformer\n",
    "\n",
    "class WrappedModel:\n",
    "    def __init__(self, model_name):\n",
    "        self.model = SentenceTransformer(model_name)\n",
    "\n",
    "    def encode(self, sentences, **kwargs):\n",
    "        return self.model.encode(sentences, convert_to_numpy=True, **kwargs)"
   ]
  },
  {
   "cell_type": "code",
   "execution_count": 20,
   "id": "6041b80c",
   "metadata": {},
   "outputs": [
    {
     "name": "stderr",
     "output_type": "stream",
     "text": [
      "Failed to extract metadata from model: 'WrappedModel' object has no attribute 'model_card_data'. Upgrading to sentence-transformers v3.0.0 or above is recommended.\n"
     ]
    },
    {
     "data": {
      "text/html": [
       "<pre style=\"white-space:pre;overflow-x:auto;line-height:normal;font-family:Menlo,'DejaVu Sans Mono',consolas,'Courier New',monospace\"><span style=\"color: #262626; text-decoration-color: #262626\">───────────────────────────────────────────────── </span><span style=\"font-weight: bold\">Selected tasks </span><span style=\"color: #262626; text-decoration-color: #262626\"> ─────────────────────────────────────────────────</span>\n",
       "</pre>\n"
      ],
      "text/plain": [
       "\u001b[38;5;235m───────────────────────────────────────────────── \u001b[0m\u001b[1mSelected tasks \u001b[0m\u001b[38;5;235m ─────────────────────────────────────────────────\u001b[0m\n"
      ]
     },
     "metadata": {},
     "output_type": "display_data"
    },
    {
     "data": {
      "text/html": [
       "<pre style=\"white-space:pre;overflow-x:auto;line-height:normal;font-family:Menlo,'DejaVu Sans Mono',consolas,'Courier New',monospace\"><span style=\"font-weight: bold\">Classification</span>\n",
       "</pre>\n"
      ],
      "text/plain": [
       "\u001b[1mClassification\u001b[0m\n"
      ]
     },
     "metadata": {},
     "output_type": "display_data"
    },
    {
     "data": {
      "text/html": [
       "<pre style=\"white-space:pre;overflow-x:auto;line-height:normal;font-family:Menlo,'DejaVu Sans Mono',consolas,'Courier New',monospace\">    - AgNews, <span style=\"color: #626262; text-decoration-color: #626262; font-style: italic\">s2s</span>\n",
       "</pre>\n"
      ],
      "text/plain": [
       "    - AgNews, \u001b[3;38;5;241ms2s\u001b[0m\n"
      ]
     },
     "metadata": {},
     "output_type": "display_data"
    },
    {
     "data": {
      "text/html": [
       "<pre style=\"white-space:pre;overflow-x:auto;line-height:normal;font-family:Menlo,'DejaVu Sans Mono',consolas,'Courier New',monospace\">\n",
       "\n",
       "</pre>\n"
      ],
      "text/plain": [
       "\n",
       "\n"
      ]
     },
     "metadata": {},
     "output_type": "display_data"
    }
   ],
   "source": [
    "model = WrappedModel(\"BAAI/bge-small-en-v1.5\")\n",
    "evaluation = mteb.MTEB(tasks=[AgNews(method=\"kNN-pytorch\", n_experiments=8)])\n",
    "results = evaluation.run(model)"
   ]
  },
  {
   "cell_type": "code",
   "execution_count": 21,
   "id": "32cbb3eb",
   "metadata": {},
   "outputs": [
    {
     "data": {
      "text/plain": [
       "{'test': [{'accuracy_cosine': 0.77847,\n",
       "   'f1_cosine': 0.775476,\n",
       "   'accuracy_euclidean': 0.77847,\n",
       "   'f1_euclidean': 0.775476,\n",
       "   'accuracy_dot': 0.77847,\n",
       "   'f1_dot': 0.775476,\n",
       "   'accuracy': 0.77847,\n",
       "   'f1': 0.775476,\n",
       "   'scores_per_experiment': [{'accuracy_cosine': 0.770263,\n",
       "     'f1_cosine': 0.768697,\n",
       "     'accuracy_euclidean': 0.770263,\n",
       "     'f1_euclidean': 0.768697,\n",
       "     'accuracy_dot': 0.770263,\n",
       "     'f1_dot': 0.768697,\n",
       "     'accuracy': 0.770263,\n",
       "     'f1': 0.768697},\n",
       "    {'accuracy_cosine': 0.773553,\n",
       "     'f1_cosine': 0.768237,\n",
       "     'accuracy_euclidean': 0.773553,\n",
       "     'f1_euclidean': 0.768237,\n",
       "     'accuracy_dot': 0.773553,\n",
       "     'f1_dot': 0.768237,\n",
       "     'accuracy': 0.773553,\n",
       "     'f1': 0.768237},\n",
       "    {'accuracy_cosine': 0.781316,\n",
       "     'f1_cosine': 0.780228,\n",
       "     'accuracy_euclidean': 0.781316,\n",
       "     'f1_euclidean': 0.780228,\n",
       "     'accuracy_dot': 0.781316,\n",
       "     'f1_dot': 0.780228,\n",
       "     'accuracy': 0.781316,\n",
       "     'f1': 0.780228},\n",
       "    {'accuracy_cosine': 0.811579,\n",
       "     'f1_cosine': 0.808994,\n",
       "     'accuracy_euclidean': 0.811579,\n",
       "     'f1_euclidean': 0.808994,\n",
       "     'accuracy_dot': 0.811579,\n",
       "     'f1_dot': 0.808994,\n",
       "     'accuracy': 0.811579,\n",
       "     'f1': 0.808994},\n",
       "    {'accuracy_cosine': 0.785921,\n",
       "     'f1_cosine': 0.783708,\n",
       "     'accuracy_euclidean': 0.785921,\n",
       "     'f1_euclidean': 0.783708,\n",
       "     'accuracy_dot': 0.785921,\n",
       "     'f1_dot': 0.783708,\n",
       "     'accuracy': 0.785921,\n",
       "     'f1': 0.783708},\n",
       "    {'accuracy_cosine': 0.771316,\n",
       "     'f1_cosine': 0.768932,\n",
       "     'accuracy_euclidean': 0.771316,\n",
       "     'f1_euclidean': 0.768932,\n",
       "     'accuracy_dot': 0.771316,\n",
       "     'f1_dot': 0.768932,\n",
       "     'accuracy': 0.771316,\n",
       "     'f1': 0.768932},\n",
       "    {'accuracy_cosine': 0.781974,\n",
       "     'f1_cosine': 0.776684,\n",
       "     'accuracy_euclidean': 0.781974,\n",
       "     'f1_euclidean': 0.776684,\n",
       "     'accuracy_dot': 0.781974,\n",
       "     'f1_dot': 0.776684,\n",
       "     'accuracy': 0.781974,\n",
       "     'f1': 0.776684},\n",
       "    {'accuracy_cosine': 0.751842,\n",
       "     'f1_cosine': 0.748329,\n",
       "     'accuracy_euclidean': 0.751842,\n",
       "     'f1_euclidean': 0.748329,\n",
       "     'accuracy_dot': 0.751842,\n",
       "     'f1_dot': 0.748329,\n",
       "     'accuracy': 0.751842,\n",
       "     'f1': 0.748329}],\n",
       "   'main_score': 0.77847,\n",
       "   'hf_subset': 'default',\n",
       "   'languages': ['eng-Latn']}]}"
      ]
     },
     "execution_count": 21,
     "metadata": {},
     "output_type": "execute_result"
    }
   ],
   "source": [
    "results[0].scores"
   ]
  },
  {
   "cell_type": "markdown",
   "id": "5281e6cb",
   "metadata": {},
   "source": [
    "## embedding finetune"
   ]
  },
  {
   "cell_type": "markdown",
   "id": "d1ae00ea",
   "metadata": {},
   "source": [
    "`fancyzhx/ag_news`： 训练集清洗成目标数据集格式的代码，在 `data_clean.ipynb`中完成"
   ]
  },
  {
   "cell_type": "code",
   "execution_count": null,
   "id": "ff6f2210",
   "metadata": {},
   "outputs": [
    {
     "name": "stderr",
     "output_type": "stream",
     "text": [
      "Failed to extract metadata from model: Repo id must be in the form 'repo_name' or 'namespace/repo_name': 'output/small/checkpoint-1000'. Use `repo_type` argument if needed..\n",
      "Loader not specified for model output/small/checkpoint-1000, loading using sentence transformers.\n",
      "No sentence-transformers model found with name output/small/checkpoint-1000. Creating a new one with mean pooling.\n"
     ]
    },
    {
     "data": {
      "text/html": [
       "<pre style=\"white-space:pre;overflow-x:auto;line-height:normal;font-family:Menlo,'DejaVu Sans Mono',consolas,'Courier New',monospace\"><span style=\"color: #262626; text-decoration-color: #262626\">───────────────────────────────────────────────── </span><span style=\"font-weight: bold\">Selected tasks </span><span style=\"color: #262626; text-decoration-color: #262626\"> ─────────────────────────────────────────────────</span>\n",
       "</pre>\n"
      ],
      "text/plain": [
       "\u001b[38;5;235m───────────────────────────────────────────────── \u001b[0m\u001b[1mSelected tasks \u001b[0m\u001b[38;5;235m ─────────────────────────────────────────────────\u001b[0m\n"
      ]
     },
     "metadata": {},
     "output_type": "display_data"
    },
    {
     "data": {
      "text/html": [
       "<pre style=\"white-space:pre;overflow-x:auto;line-height:normal;font-family:Menlo,'DejaVu Sans Mono',consolas,'Courier New',monospace\"><span style=\"font-weight: bold\">Classification</span>\n",
       "</pre>\n"
      ],
      "text/plain": [
       "\u001b[1mClassification\u001b[0m\n"
      ]
     },
     "metadata": {},
     "output_type": "display_data"
    },
    {
     "data": {
      "text/html": [
       "<pre style=\"white-space:pre;overflow-x:auto;line-height:normal;font-family:Menlo,'DejaVu Sans Mono',consolas,'Courier New',monospace\">    - AgNews, <span style=\"color: #626262; text-decoration-color: #626262; font-style: italic\">s2s</span>\n",
       "</pre>\n"
      ],
      "text/plain": [
       "    - AgNews, \u001b[3;38;5;241ms2s\u001b[0m\n"
      ]
     },
     "metadata": {},
     "output_type": "display_data"
    },
    {
     "data": {
      "text/html": [
       "<pre style=\"white-space:pre;overflow-x:auto;line-height:normal;font-family:Menlo,'DejaVu Sans Mono',consolas,'Courier New',monospace\">\n",
       "\n",
       "</pre>\n"
      ],
      "text/plain": [
       "\n",
       "\n"
      ]
     },
     "metadata": {},
     "output_type": "display_data"
    }
   ],
   "source": [
    "# 加载微调之后的模型\n",
    "# ft_model = WrappedModel(\"output/small/checkpoint-1000\")\n",
    "ft_model = mteb.get_model(\"output/small/checkpoint-1000\")\n",
    "evaluation = mteb.MTEB(tasks=[AgNews(method=\"kNN-pytorch\", n_experiments=8)])\n",
    "ft_results = evaluation.run (ft_model)"
   ]
  },
  {
   "cell_type": "code",
   "execution_count": 30,
   "id": "dd329eb1",
   "metadata": {},
   "outputs": [
    {
     "data": {
      "text/plain": [
       "SentenceTransformer(\n",
       "  (0): Transformer({'max_seq_length': 512, 'do_lower_case': False}) with Transformer model: BertModel \n",
       "  (1): Pooling({'word_embedding_dimension': 384, 'pooling_mode_cls_token': False, 'pooling_mode_mean_tokens': True, 'pooling_mode_max_tokens': False, 'pooling_mode_mean_sqrt_len_tokens': False, 'pooling_mode_weightedmean_tokens': False, 'pooling_mode_lasttoken': False, 'include_prompt': True})\n",
       ")"
      ]
     },
     "execution_count": 30,
     "metadata": {},
     "output_type": "execute_result"
    }
   ],
   "source": [
    "ft_model.model"
   ]
  },
  {
   "cell_type": "code",
   "execution_count": 26,
   "id": "38066e32",
   "metadata": {},
   "outputs": [
    {
     "data": {
      "text/plain": [
       "{'test': [{'accuracy_cosine': np.float64(0.8141611842105263),\n",
       "   'f1_cosine': np.float64(0.8100538782754227),\n",
       "   'accuracy_euclidean': np.float64(0.8380592105263157),\n",
       "   'f1_euclidean': np.float64(0.8348703511303686),\n",
       "   'accuracy_dot': np.float64(0.7755427631578947),\n",
       "   'f1_dot': np.float64(0.7692031251355871),\n",
       "   'accuracy': np.float64(0.8380592105263157),\n",
       "   'f1': np.float64(0.8348703511303686),\n",
       "   'scores_per_experiment': [{'accuracy_cosine': 0.8181578947368421,\n",
       "     'f1_cosine': 0.8125214806026094,\n",
       "     'accuracy_euclidean': 0.8335526315789473,\n",
       "     'f1_euclidean': 0.8283917419513277,\n",
       "     'accuracy_dot': 0.7893421052631578,\n",
       "     'f1_dot': 0.7822272323057254,\n",
       "     'accuracy': 0.8335526315789473,\n",
       "     'f1': 0.8283917419513277},\n",
       "    {'accuracy_cosine': 0.8196052631578947,\n",
       "     'f1_cosine': 0.8150724623559217,\n",
       "     'accuracy_euclidean': 0.8497368421052631,\n",
       "     'f1_euclidean': 0.8462855047148996,\n",
       "     'accuracy_dot': 0.7781578947368422,\n",
       "     'f1_dot': 0.771725244344258,\n",
       "     'accuracy': 0.8497368421052631,\n",
       "     'f1': 0.8462855047148996},\n",
       "    {'accuracy_cosine': 0.8210526315789474,\n",
       "     'f1_cosine': 0.8188672675557644,\n",
       "     'accuracy_euclidean': 0.8467105263157895,\n",
       "     'f1_euclidean': 0.8454561037278275,\n",
       "     'accuracy_dot': 0.7835526315789474,\n",
       "     'f1_dot': 0.7795076720593909,\n",
       "     'accuracy': 0.8467105263157895,\n",
       "     'f1': 0.8454561037278275},\n",
       "    {'accuracy_cosine': 0.8176315789473684,\n",
       "     'f1_cosine': 0.8144418158434831,\n",
       "     'accuracy_euclidean': 0.8457894736842105,\n",
       "     'f1_euclidean': 0.8438788442917187,\n",
       "     'accuracy_dot': 0.7751315789473684,\n",
       "     'f1_dot': 0.7690745755896706,\n",
       "     'accuracy': 0.8457894736842105,\n",
       "     'f1': 0.8438788442917187},\n",
       "    {'accuracy_cosine': 0.8386842105263158,\n",
       "     'f1_cosine': 0.8371523662085347,\n",
       "     'accuracy_euclidean': 0.8569736842105263,\n",
       "     'f1_euclidean': 0.8557961168970614,\n",
       "     'accuracy_dot': 0.7972368421052631,\n",
       "     'f1_dot': 0.7940073186599339,\n",
       "     'accuracy': 0.8569736842105263,\n",
       "     'f1': 0.8557961168970614},\n",
       "    {'accuracy_cosine': 0.8218421052631579,\n",
       "     'f1_cosine': 0.8192017288487703,\n",
       "     'accuracy_euclidean': 0.8405263157894737,\n",
       "     'f1_euclidean': 0.8381890883962857,\n",
       "     'accuracy_dot': 0.7846052631578947,\n",
       "     'f1_dot': 0.780245659004015,\n",
       "     'accuracy': 0.8405263157894737,\n",
       "     'f1': 0.8381890883962857},\n",
       "    {'accuracy_cosine': 0.8065789473684211,\n",
       "     'f1_cosine': 0.8012097553437344,\n",
       "     'accuracy_euclidean': 0.8405263157894737,\n",
       "     'f1_euclidean': 0.8364319738315755,\n",
       "     'accuracy_dot': 0.7626315789473684,\n",
       "     'f1_dot': 0.754516299977166,\n",
       "     'accuracy': 0.8405263157894737,\n",
       "     'f1': 0.8364319738315755},\n",
       "    {'accuracy_cosine': 0.7697368421052632,\n",
       "     'f1_cosine': 0.7619641494445633,\n",
       "     'accuracy_euclidean': 0.7906578947368421,\n",
       "     'f1_euclidean': 0.784533435232253,\n",
       "     'accuracy_dot': 0.7336842105263158,\n",
       "     'f1_dot': 0.7223209991445362,\n",
       "     'accuracy': 0.7906578947368421,\n",
       "     'f1': 0.784533435232253}],\n",
       "   'main_score': np.float64(0.8380592105263157),\n",
       "   'hf_subset': 'default',\n",
       "   'languages': ['eng-Latn']}]}"
      ]
     },
     "execution_count": 26,
     "metadata": {},
     "output_type": "execute_result"
    }
   ],
   "source": [
    "ft_results[0].scores"
   ]
  },
  {
   "cell_type": "code",
   "execution_count": 43,
   "id": "bbe5fabb",
   "metadata": {},
   "outputs": [],
   "source": [
    "import os"
   ]
  },
  {
   "cell_type": "code",
   "execution_count": 44,
   "id": "d7d29146",
   "metadata": {},
   "outputs": [
    {
     "name": "stderr",
     "output_type": "stream",
     "text": [
      "Failed to extract metadata from model: 401 Client Error. (Request ID: Root=1-6860de03-16741e4259771c8e70877e59;db3d31f1-d9ae-4cd6-9738-e990ea18b637)\n",
      "\n",
      "Repository Not Found for url: https://huggingface.co/output/same_no_in_batch_neg/resolve/main/README.md.\n",
      "Please make sure you specified the correct `repo_id` and `repo_type`.\n",
      "If you are trying to access a private or gated repo, make sure you are authenticated. For more details, see https://huggingface.co/docs/huggingface_hub/authentication\n",
      "Invalid username or password..\n",
      "Loader not specified for model output/same_no_in_batch_neg, loading using sentence transformers.\n",
      "No sentence-transformers model found with name output/same_no_in_batch_neg. Creating a new one with mean pooling.\n"
     ]
    },
    {
     "data": {
      "text/html": [
       "<pre style=\"white-space:pre;overflow-x:auto;line-height:normal;font-family:Menlo,'DejaVu Sans Mono',consolas,'Courier New',monospace\"><span style=\"color: #262626; text-decoration-color: #262626\">───────────────────────────────────────────────── </span><span style=\"font-weight: bold\">Selected tasks </span><span style=\"color: #262626; text-decoration-color: #262626\"> ─────────────────────────────────────────────────</span>\n",
       "</pre>\n"
      ],
      "text/plain": [
       "\u001b[38;5;235m───────────────────────────────────────────────── \u001b[0m\u001b[1mSelected tasks \u001b[0m\u001b[38;5;235m ─────────────────────────────────────────────────\u001b[0m\n"
      ]
     },
     "metadata": {},
     "output_type": "display_data"
    },
    {
     "data": {
      "text/html": [
       "<pre style=\"white-space:pre;overflow-x:auto;line-height:normal;font-family:Menlo,'DejaVu Sans Mono',consolas,'Courier New',monospace\"><span style=\"font-weight: bold\">Classification</span>\n",
       "</pre>\n"
      ],
      "text/plain": [
       "\u001b[1mClassification\u001b[0m\n"
      ]
     },
     "metadata": {},
     "output_type": "display_data"
    },
    {
     "data": {
      "text/html": [
       "<pre style=\"white-space:pre;overflow-x:auto;line-height:normal;font-family:Menlo,'DejaVu Sans Mono',consolas,'Courier New',monospace\">    - AgNews, <span style=\"color: #626262; text-decoration-color: #626262; font-style: italic\">s2s</span>\n",
       "</pre>\n"
      ],
      "text/plain": [
       "    - AgNews, \u001b[3;38;5;241ms2s\u001b[0m\n"
      ]
     },
     "metadata": {},
     "output_type": "display_data"
    },
    {
     "data": {
      "text/html": [
       "<pre style=\"white-space:pre;overflow-x:auto;line-height:normal;font-family:Menlo,'DejaVu Sans Mono',consolas,'Courier New',monospace\">\n",
       "\n",
       "</pre>\n"
      ],
      "text/plain": [
       "\n",
       "\n"
      ]
     },
     "metadata": {},
     "output_type": "display_data"
    },
    {
     "name": "stderr",
     "output_type": "stream",
     "text": [
      "Failed to extract metadata from model: 401 Client Error. (Request ID: Root=1-6860de1c-1a707a7e26c0abdc6eef2513;4b60c406-5ade-4086-b8c2-76c856645584)\n",
      "\n",
      "Repository Not Found for url: https://huggingface.co/output/no_same_no_in_batch_neg/resolve/main/README.md.\n",
      "Please make sure you specified the correct `repo_id` and `repo_type`.\n",
      "If you are trying to access a private or gated repo, make sure you are authenticated. For more details, see https://huggingface.co/docs/huggingface_hub/authentication\n",
      "Invalid username or password..\n",
      "Loader not specified for model output/no_same_no_in_batch_neg, loading using sentence transformers.\n",
      "No sentence-transformers model found with name output/no_same_no_in_batch_neg. Creating a new one with mean pooling.\n"
     ]
    },
    {
     "data": {
      "text/html": [
       "<pre style=\"white-space:pre;overflow-x:auto;line-height:normal;font-family:Menlo,'DejaVu Sans Mono',consolas,'Courier New',monospace\"><span style=\"color: #262626; text-decoration-color: #262626\">───────────────────────────────────────────────── </span><span style=\"font-weight: bold\">Selected tasks </span><span style=\"color: #262626; text-decoration-color: #262626\"> ─────────────────────────────────────────────────</span>\n",
       "</pre>\n"
      ],
      "text/plain": [
       "\u001b[38;5;235m───────────────────────────────────────────────── \u001b[0m\u001b[1mSelected tasks \u001b[0m\u001b[38;5;235m ─────────────────────────────────────────────────\u001b[0m\n"
      ]
     },
     "metadata": {},
     "output_type": "display_data"
    },
    {
     "data": {
      "text/html": [
       "<pre style=\"white-space:pre;overflow-x:auto;line-height:normal;font-family:Menlo,'DejaVu Sans Mono',consolas,'Courier New',monospace\"><span style=\"font-weight: bold\">Classification</span>\n",
       "</pre>\n"
      ],
      "text/plain": [
       "\u001b[1mClassification\u001b[0m\n"
      ]
     },
     "metadata": {},
     "output_type": "display_data"
    },
    {
     "data": {
      "text/html": [
       "<pre style=\"white-space:pre;overflow-x:auto;line-height:normal;font-family:Menlo,'DejaVu Sans Mono',consolas,'Courier New',monospace\">    - AgNews, <span style=\"color: #626262; text-decoration-color: #626262; font-style: italic\">s2s</span>\n",
       "</pre>\n"
      ],
      "text/plain": [
       "    - AgNews, \u001b[3;38;5;241ms2s\u001b[0m\n"
      ]
     },
     "metadata": {},
     "output_type": "display_data"
    },
    {
     "data": {
      "text/html": [
       "<pre style=\"white-space:pre;overflow-x:auto;line-height:normal;font-family:Menlo,'DejaVu Sans Mono',consolas,'Courier New',monospace\">\n",
       "\n",
       "</pre>\n"
      ],
      "text/plain": [
       "\n",
       "\n"
      ]
     },
     "metadata": {},
     "output_type": "display_data"
    },
    {
     "name": "stderr",
     "output_type": "stream",
     "text": [
      "Failed to extract metadata from model: 401 Client Error. (Request ID: Root=1-6860de33-7788262c5293edfd3a35166e;d145b64d-2381-4349-a829-a07c924c8a57)\n",
      "\n",
      "Repository Not Found for url: https://huggingface.co/output/no_same/resolve/main/README.md.\n",
      "Please make sure you specified the correct `repo_id` and `repo_type`.\n",
      "If you are trying to access a private or gated repo, make sure you are authenticated. For more details, see https://huggingface.co/docs/huggingface_hub/authentication\n",
      "Invalid username or password..\n",
      "Loader not specified for model output/no_same, loading using sentence transformers.\n",
      "No sentence-transformers model found with name output/no_same. Creating a new one with mean pooling.\n"
     ]
    },
    {
     "data": {
      "text/html": [
       "<pre style=\"white-space:pre;overflow-x:auto;line-height:normal;font-family:Menlo,'DejaVu Sans Mono',consolas,'Courier New',monospace\"><span style=\"color: #262626; text-decoration-color: #262626\">───────────────────────────────────────────────── </span><span style=\"font-weight: bold\">Selected tasks </span><span style=\"color: #262626; text-decoration-color: #262626\"> ─────────────────────────────────────────────────</span>\n",
       "</pre>\n"
      ],
      "text/plain": [
       "\u001b[38;5;235m───────────────────────────────────────────────── \u001b[0m\u001b[1mSelected tasks \u001b[0m\u001b[38;5;235m ─────────────────────────────────────────────────\u001b[0m\n"
      ]
     },
     "metadata": {},
     "output_type": "display_data"
    },
    {
     "data": {
      "text/html": [
       "<pre style=\"white-space:pre;overflow-x:auto;line-height:normal;font-family:Menlo,'DejaVu Sans Mono',consolas,'Courier New',monospace\"><span style=\"font-weight: bold\">Classification</span>\n",
       "</pre>\n"
      ],
      "text/plain": [
       "\u001b[1mClassification\u001b[0m\n"
      ]
     },
     "metadata": {},
     "output_type": "display_data"
    },
    {
     "data": {
      "text/html": [
       "<pre style=\"white-space:pre;overflow-x:auto;line-height:normal;font-family:Menlo,'DejaVu Sans Mono',consolas,'Courier New',monospace\">    - AgNews, <span style=\"color: #626262; text-decoration-color: #626262; font-style: italic\">s2s</span>\n",
       "</pre>\n"
      ],
      "text/plain": [
       "    - AgNews, \u001b[3;38;5;241ms2s\u001b[0m\n"
      ]
     },
     "metadata": {},
     "output_type": "display_data"
    },
    {
     "data": {
      "text/html": [
       "<pre style=\"white-space:pre;overflow-x:auto;line-height:normal;font-family:Menlo,'DejaVu Sans Mono',consolas,'Courier New',monospace\">\n",
       "\n",
       "</pre>\n"
      ],
      "text/plain": [
       "\n",
       "\n"
      ]
     },
     "metadata": {},
     "output_type": "display_data"
    },
    {
     "name": "stderr",
     "output_type": "stream",
     "text": [
      "Failed to extract metadata from model: 401 Client Error. (Request ID: Root=1-6860de4b-7643628479bd4f0d5fb276bd;5a8b8302-09fa-4270-a49b-c3f21ca72c27)\n",
      "\n",
      "Repository Not Found for url: https://huggingface.co/output/same/resolve/main/README.md.\n",
      "Please make sure you specified the correct `repo_id` and `repo_type`.\n",
      "If you are trying to access a private or gated repo, make sure you are authenticated. For more details, see https://huggingface.co/docs/huggingface_hub/authentication\n",
      "Invalid username or password..\n",
      "Loader not specified for model output/same, loading using sentence transformers.\n",
      "No sentence-transformers model found with name output/same. Creating a new one with mean pooling.\n"
     ]
    },
    {
     "data": {
      "text/html": [
       "<pre style=\"white-space:pre;overflow-x:auto;line-height:normal;font-family:Menlo,'DejaVu Sans Mono',consolas,'Courier New',monospace\"><span style=\"color: #262626; text-decoration-color: #262626\">───────────────────────────────────────────────── </span><span style=\"font-weight: bold\">Selected tasks </span><span style=\"color: #262626; text-decoration-color: #262626\"> ─────────────────────────────────────────────────</span>\n",
       "</pre>\n"
      ],
      "text/plain": [
       "\u001b[38;5;235m───────────────────────────────────────────────── \u001b[0m\u001b[1mSelected tasks \u001b[0m\u001b[38;5;235m ─────────────────────────────────────────────────\u001b[0m\n"
      ]
     },
     "metadata": {},
     "output_type": "display_data"
    },
    {
     "data": {
      "text/html": [
       "<pre style=\"white-space:pre;overflow-x:auto;line-height:normal;font-family:Menlo,'DejaVu Sans Mono',consolas,'Courier New',monospace\"><span style=\"font-weight: bold\">Classification</span>\n",
       "</pre>\n"
      ],
      "text/plain": [
       "\u001b[1mClassification\u001b[0m\n"
      ]
     },
     "metadata": {},
     "output_type": "display_data"
    },
    {
     "data": {
      "text/html": [
       "<pre style=\"white-space:pre;overflow-x:auto;line-height:normal;font-family:Menlo,'DejaVu Sans Mono',consolas,'Courier New',monospace\">    - AgNews, <span style=\"color: #626262; text-decoration-color: #626262; font-style: italic\">s2s</span>\n",
       "</pre>\n"
      ],
      "text/plain": [
       "    - AgNews, \u001b[3;38;5;241ms2s\u001b[0m\n"
      ]
     },
     "metadata": {},
     "output_type": "display_data"
    },
    {
     "data": {
      "text/html": [
       "<pre style=\"white-space:pre;overflow-x:auto;line-height:normal;font-family:Menlo,'DejaVu Sans Mono',consolas,'Courier New',monospace\">\n",
       "\n",
       "</pre>\n"
      ],
      "text/plain": [
       "\n",
       "\n"
      ]
     },
     "metadata": {},
     "output_type": "display_data"
    }
   ],
   "source": [
    "results = {}\n",
    "for sub_fold in os.listdir(\"output\"):\n",
    "    model_dir = os.path.join(\"output\", sub_fold)\n",
    "    ft_model = mteb.get_model(model_dir)\n",
    "    evaluation = mteb.MTEB(tasks=[AgNews(method=\"kNN-pytorch\", n_experiments=8)])\n",
    "    results[sub_fold] = evaluation.run(ft_model)"
   ]
  },
  {
   "cell_type": "code",
   "execution_count": 33,
   "id": "3323ea07",
   "metadata": {},
   "outputs": [
    {
     "data": {
      "text/plain": [
       "3"
      ]
     },
     "execution_count": 33,
     "metadata": {},
     "output_type": "execute_result"
    }
   ],
   "source": [
    "len(results)"
   ]
  },
  {
   "cell_type": "code",
   "execution_count": null,
   "id": "750f49dd",
   "metadata": {},
   "outputs": [],
   "source": [
    "0.7784703947368421"
   ]
  },
  {
   "cell_type": "code",
   "execution_count": 45,
   "id": "6e9fed94",
   "metadata": {},
   "outputs": [
    {
     "name": "stdout",
     "output_type": "stream",
     "text": [
      "same_no_in_batch_neg 0.8141611842105263\n",
      "no_same_no_in_batch_neg 0.7237499999999999\n",
      "no_same 0.7237499999999999\n",
      "same 0.8141776315789473\n"
     ]
    }
   ],
   "source": [
    "for k, item in results.items():\n",
    "    print(k, item[0].scores[\"test\"][0][\"accuracy_cosine\"])"
   ]
  },
  {
   "cell_type": "code",
   "execution_count": null,
   "id": "c4997430",
   "metadata": {},
   "outputs": [],
   "source": []
  }
 ],
 "metadata": {
  "kernelspec": {
   "display_name": "embed",
   "language": "python",
   "name": "python3"
  },
  "language_info": {
   "codemirror_mode": {
    "name": "ipython",
    "version": 3
   },
   "file_extension": ".py",
   "mimetype": "text/x-python",
   "name": "python",
   "nbconvert_exporter": "python",
   "pygments_lexer": "ipython3",
   "version": "3.12.11"
  }
 },
 "nbformat": 4,
 "nbformat_minor": 5
}
