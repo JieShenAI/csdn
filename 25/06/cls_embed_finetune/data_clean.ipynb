{
 "cells": [
  {
   "cell_type": "markdown",
   "id": "77d06bbd",
   "metadata": {},
   "source": [
    "demo"
   ]
  },
  {
   "cell_type": "code",
   "execution_count": 1,
   "id": "5b2eb2ea",
   "metadata": {},
   "outputs": [],
   "source": [
    "d = {\n",
    "    \"query\": \"I ordered my card but it still isn't here\",\n",
    "    \"pos\": [\"When will my card arrive?\"],\n",
    "    \"neg\": [\n",
    "        \"How do I change my PIN?\",\n",
    "        \"How do I cancel a transfer?\",\n",
    "        \"How do I receive money?\",\n",
    "        \"What is the timing for transfers?\",\n",
    "        \"Why is my virtual card not working?\",\n",
    "        \"How do I get a physical card?\",\n",
    "        \"Why is there an extra charge on my statement?\",\n",
    "        \"Why is my transfer pending?\",\n",
    "        \"How do I top up my account by card?\",\n",
    "        \"What are the top-up limits?\",\n",
    "        \"Why was my top-up reverted?\",\n",
    "        \"What are the limits for disposable cards?\",\n",
    "        \"Why is my card payment pending?\",\n",
    "        \"How do I verify my identity?\",\n",
    "        \"Why did I receive the wrong amount of cash?\",\n",
    "        \"Is my card a Visa or Mastercard?\",\n",
    "        \"How do I terminate my account?\",\n",
    "        \"How do I get a virtual card?\",\n",
    "        \"Why is my cash withdrawal pending?\",\n",
    "        \"Why is my direct debit payment not recognised?\",\n",
    "        \"Why was my transaction charged twice?\",\n",
    "        \"Why did my top-up fail?\",\n",
    "        \"Why is my card not working?\",\n",
    "        \"Why is my cash withdrawal not recognised?\",\n",
    "        \"How do I verify the source of my funds?\",\n",
    "        \"How do I order a physical card?\",\n",
    "        \"Which cards and currencies are supported?\",\n",
    "        \"Why was a fee charged for my transfer?\",\n",
    "        \"Why was my transfer declined?\",\n",
    "        \"How do I activate my card?\",\n",
    "    ],\n",
    "    \"prompt\": \"\",\n",
    "    \"type\": \"symmetric_class\",\n",
    "}"
   ]
  },
  {
   "cell_type": "code",
   "execution_count": 2,
   "id": "276cdd2e",
   "metadata": {},
   "outputs": [
    {
     "data": {
      "text/plain": [
       "30"
      ]
     },
     "execution_count": 2,
     "metadata": {},
     "output_type": "execute_result"
    }
   ],
   "source": [
    "len(d[\"neg\"])"
   ]
  },
  {
   "cell_type": "code",
   "execution_count": 1,
   "id": "7493cfba",
   "metadata": {},
   "outputs": [
    {
     "name": "stderr",
     "output_type": "stream",
     "text": [
      "/opt/anaconda3/envs/embed/lib/python3.12/site-packages/requests/__init__.py:86: RequestsDependencyWarning: Unable to find acceptable character detection dependency (chardet or charset_normalizer).\n",
      "  warnings.warn(\n",
      "/opt/anaconda3/envs/embed/lib/python3.12/site-packages/tqdm/auto.py:21: TqdmWarning: IProgress not found. Please update jupyter and ipywidgets. See https://ipywidgets.readthedocs.io/en/stable/user_install.html\n",
      "  from .autonotebook import tqdm as notebook_tqdm\n"
     ]
    },
    {
     "data": {
      "text/plain": [
       "DatasetDict({\n",
       "    train: Dataset({\n",
       "        features: ['text', 'label'],\n",
       "        num_rows: 120000\n",
       "    })\n",
       "    test: Dataset({\n",
       "        features: ['text', 'label'],\n",
       "        num_rows: 7600\n",
       "    })\n",
       "})"
      ]
     },
     "execution_count": 1,
     "metadata": {},
     "output_type": "execute_result"
    }
   ],
   "source": [
    "# 尝试加载一下数据集，看看数据集格式\n",
    "from datasets import load_dataset\n",
    "dataset = load_dataset(\"fancyzhx/ag_news\")\n",
    "dataset"
   ]
  },
  {
   "cell_type": "code",
   "execution_count": 4,
   "id": "808bba57",
   "metadata": {},
   "outputs": [
    {
     "data": {
      "text/plain": [
       "DatasetDict({\n",
       "    train: Dataset({\n",
       "        features: ['text', 'label'],\n",
       "        num_rows: 120000\n",
       "    })\n",
       "    test: Dataset({\n",
       "        features: ['text', 'label'],\n",
       "        num_rows: 7600\n",
       "    })\n",
       "})"
      ]
     },
     "execution_count": 4,
     "metadata": {},
     "output_type": "execute_result"
    }
   ],
   "source": [
    "dataset"
   ]
  },
  {
   "cell_type": "code",
   "execution_count": 2,
   "id": "49197f47",
   "metadata": {},
   "outputs": [],
   "source": [
    "all_cls_d = {}\n",
    "train_dataset = dataset[\"train\"]\n",
    "\n",
    "for item in train_dataset:\n",
    "    text = item[\"text\"]\n",
    "    label = item[\"label\"]\n",
    "    if label not in all_cls_d.keys():\n",
    "        all_cls_d[label] = []\n",
    "    all_cls_d[label].append(text)"
   ]
  },
  {
   "cell_type": "code",
   "execution_count": 6,
   "id": "7641e65a",
   "metadata": {},
   "outputs": [
    {
     "data": {
      "text/plain": [
       "{2: 30000, 3: 30000, 1: 30000, 0: 30000}"
      ]
     },
     "execution_count": 6,
     "metadata": {},
     "output_type": "execute_result"
    }
   ],
   "source": [
    "{k: len(v) for k, v in all_cls_d.items()}"
   ]
  },
  {
   "cell_type": "code",
   "execution_count": 3,
   "id": "2eb0831f",
   "metadata": {},
   "outputs": [],
   "source": [
    "import random"
   ]
  },
  {
   "cell_type": "code",
   "execution_count": 8,
   "id": "5061693f",
   "metadata": {},
   "outputs": [
    {
     "data": {
      "text/plain": [
       "['S.Koreans Clash with Police on Iraq Troop Dispatch (Reuters) Reuters - South Korean police used water cannon in\\\\central Seoul Sunday to disperse at least 7,000 protesters\\\\urging the government to reverse a controversial decision to\\\\send more troops to Iraq.',\n",
       " \"Palestinians in Israeli Jails Start Hunger Strike (Reuters) Reuters - Thousands of Palestinian\\\\prisoners in Israeli jails began a hunger strike for better\\\\conditions Sunday, but Israel's security minister said he\\\\didn't care if they starved to death.\"]"
      ]
     },
     "execution_count": 8,
     "metadata": {},
     "output_type": "execute_result"
    }
   ],
   "source": [
    "random.sample(all_cls_d[0][:3], 2)"
   ]
  },
  {
   "cell_type": "code",
   "execution_count": 9,
   "id": "c8af62d1",
   "metadata": {},
   "outputs": [
    {
     "data": {
      "text/plain": [
       "{'text': \"Wall St. Bears Claw Back Into the Black (Reuters) Reuters - Short-sellers, Wall Street's dwindling\\\\band of ultra-cynics, are seeing green again.\",\n",
       " 'label': 2}"
      ]
     },
     "execution_count": 9,
     "metadata": {},
     "output_type": "execute_result"
    }
   ],
   "source": [
    "train_dataset[0]"
   ]
  },
  {
   "cell_type": "code",
   "execution_count": 4,
   "id": "21ad0cb9",
   "metadata": {},
   "outputs": [],
   "source": [
    "def get_per_cls_n(n):\n",
    "    def _func(item):\n",
    "        item[\"query\"] = item[\"text\"]\n",
    "        label = item[\"label\"]\n",
    "        item[\"pos\"] = random.sample(all_cls_d[label], 1)\n",
    "        item[\"neg\"] = []\n",
    "        for k, v in all_cls_d.items():\n",
    "            if k == label:\n",
    "                continue\n",
    "            item[\"neg\"].extend(random.sample(v, n))\n",
    "        item[\"prompt\"] = \"\"\n",
    "        item[\"type\"] = \"symmetric_class\"\n",
    "        return item\n",
    "    return _func"
   ]
  },
  {
   "cell_type": "code",
   "execution_count": 5,
   "id": "40cbc2f5",
   "metadata": {},
   "outputs": [],
   "source": [
    "new_train_dataset = train_dataset.map(get_per_cls_n(10))"
   ]
  },
  {
   "cell_type": "code",
   "execution_count": 6,
   "id": "88240048",
   "metadata": {},
   "outputs": [
    {
     "data": {
      "text/plain": [
       "dict_keys(['text', 'label', 'query', 'pos', 'neg', 'prompt', 'type'])"
      ]
     },
     "execution_count": 6,
     "metadata": {},
     "output_type": "execute_result"
    }
   ],
   "source": [
    "new_train_dataset[0].keys()"
   ]
  },
  {
   "cell_type": "code",
   "execution_count": 7,
   "id": "744aced2",
   "metadata": {},
   "outputs": [],
   "source": [
    "new_train_dataset = new_train_dataset.remove_columns([\"text\", \"label\"])"
   ]
  },
  {
   "cell_type": "code",
   "execution_count": 8,
   "id": "a206325e",
   "metadata": {},
   "outputs": [],
   "source": [
    "new_train_dataset = new_train_dataset.select(range(500))"
   ]
  },
  {
   "cell_type": "code",
   "execution_count": 9,
   "id": "81325555",
   "metadata": {},
   "outputs": [
    {
     "data": {
      "text/plain": [
       "Dataset({\n",
       "    features: ['query', 'pos', 'neg', 'prompt', 'type'],\n",
       "    num_rows: 500\n",
       "})"
      ]
     },
     "execution_count": 9,
     "metadata": {},
     "output_type": "execute_result"
    }
   ],
   "source": [
    "new_train_dataset"
   ]
  },
  {
   "cell_type": "code",
   "execution_count": 10,
   "id": "8649c237",
   "metadata": {},
   "outputs": [
    {
     "name": "stderr",
     "output_type": "stream",
     "text": [
      "Creating json from Arrow format: 100%|██████████| 1/1 [00:00<00:00, 34.81ba/s]\n"
     ]
    },
    {
     "data": {
      "text/plain": [
       "3878625"
      ]
     },
     "execution_count": 10,
     "metadata": {},
     "output_type": "execute_result"
    }
   ],
   "source": [
    "new_train_dataset.to_json(\"data/classification-no_in_batch_neg/ag_news_train.json\")"
   ]
  },
  {
   "cell_type": "code",
   "execution_count": null,
   "id": "a2d9dcef",
   "metadata": {},
   "outputs": [],
   "source": []
  }
 ],
 "metadata": {
  "kernelspec": {
   "display_name": "embed",
   "language": "python",
   "name": "python3"
  },
  "language_info": {
   "codemirror_mode": {
    "name": "ipython",
    "version": 3
   },
   "file_extension": ".py",
   "mimetype": "text/x-python",
   "name": "python",
   "nbconvert_exporter": "python",
   "pygments_lexer": "ipython3",
   "version": "3.12.11"
  }
 },
 "nbformat": 4,
 "nbformat_minor": 5
}
