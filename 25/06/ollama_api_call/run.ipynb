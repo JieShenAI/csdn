{
 "cells": [
  {
   "cell_type": "markdown",
   "id": "9ecd8833",
   "metadata": {},
   "source": [
    "ollama 异步协程的API调用"
   ]
  },
  {
   "cell_type": "code",
   "execution_count": 23,
   "id": "5e7f9efe",
   "metadata": {},
   "outputs": [],
   "source": [
    "from typing import List\n",
    "import asyncio\n",
    "from tqdm.asyncio import tqdm_asyncio\n",
    "from langchain.schema import SystemMessage, HumanMessage"
   ]
  },
  {
   "cell_type": "code",
   "execution_count": null,
   "id": "13841984",
   "metadata": {},
   "outputs": [],
   "source": [
    "!pip install langchain-community"
   ]
  },
  {
   "cell_type": "code",
   "execution_count": 24,
   "id": "45c37ac1",
   "metadata": {},
   "outputs": [],
   "source": [
    "from langchain_community.llms import Ollama"
   ]
  },
  {
   "cell_type": "code",
   "execution_count": 25,
   "id": "f6e4ec6a",
   "metadata": {},
   "outputs": [],
   "source": [
    "# llm = Ollama(model=\"qwen2.5:7b\")\n",
    "llm = Ollama(model=\"qwen2.5:3b\")"
   ]
  },
  {
   "cell_type": "code",
   "execution_count": 28,
   "id": "12a2c075",
   "metadata": {},
   "outputs": [
    {
     "data": {
      "text/plain": [
       "'Hello! I am Qwen, designed by Alibaba Cloud to assist and engage with users like you. How can I help you today?'"
      ]
     },
     "execution_count": 28,
     "metadata": {},
     "output_type": "execute_result"
    }
   ],
   "source": [
    "llm.invoke(\"Hello, who are you?\")"
   ]
  },
  {
   "cell_type": "code",
   "execution_count": 29,
   "id": "b7fa1764",
   "metadata": {},
   "outputs": [],
   "source": [
    "queries = [\n",
    "    \"Hello, who are you?\",\n",
    "    \"你好，请问你是谁？\",\n",
    "    \"续写：练的身形似鹤形，千株松下两函经。\",\n",
    "    \"计算：10 + 33 x 2 = ?\",\n",
    "] * 10"
   ]
  },
  {
   "cell_type": "code",
   "execution_count": null,
   "id": "230e52e9",
   "metadata": {},
   "outputs": [],
   "source": [
    "# # 初始化模型\n",
    "# llm = ChatOpenAI(\n",
    "#     model_name=\"qwen2.5:7b\",\n",
    "#     # model_name=\"deepseek-reasoner\",\n",
    "#     # openai_api_key=api_key,\n",
    "#     openai_api_base=\"https://127.0.0.1:11434/v1\",\n",
    "# )"
   ]
  },
  {
   "cell_type": "code",
   "execution_count": null,
   "id": "02669e3b",
   "metadata": {},
   "outputs": [],
   "source": [
    "# results = await tqdm_asyncio.gather(*tasks)"
   ]
  },
  {
   "cell_type": "code",
   "execution_count": 30,
   "id": "8b47d2d0",
   "metadata": {},
   "outputs": [],
   "source": [
    "async def call_llm_async(query: str) -> str:\n",
    "    messages = [\n",
    "        SystemMessage(content=\"You are a helpful assistant\"),\n",
    "        HumanMessage(content=query),\n",
    "    ]\n",
    "    response = await llm.ainvoke(messages)\n",
    "    # return response.content\n",
    "    return response\n",
    "\n",
    "\n",
    "async def batch_call_llm(queries: List[str], concurrency: int = 5) -> List[str]:\n",
    "    semaphore = asyncio.Semaphore(concurrency)\n",
    "\n",
    "    async def limited_call(query: str):\n",
    "        async with semaphore:\n",
    "            return await call_llm_async(query)\n",
    "\n",
    "    tasks = [limited_call(query) for query in queries]\n",
    "    # return await asyncio.gather(*tasks)\n",
    "    return await tqdm_asyncio.gather(*tasks)"
   ]
  },
  {
   "cell_type": "code",
   "execution_count": 31,
   "id": "fd7d3b5a",
   "metadata": {},
   "outputs": [
    {
     "name": "stderr",
     "output_type": "stream",
     "text": [
      "100%|██████████| 40/40 [00:58<00:00,  1.45s/it]\n"
     ]
    }
   ],
   "source": [
    "# for python script \n",
    "# responses = asyncio.run(batch_call_llm(queries, concurrency=10))\n",
    "\n",
    "# for jupyter\n",
    "response = await batch_call_llm(queries, concurrency=3)"
   ]
  },
  {
   "cell_type": "code",
   "execution_count": null,
   "id": "1a0a23d3",
   "metadata": {},
   "outputs": [],
   "source": [
    "response"
   ]
  },
  {
   "cell_type": "code",
   "execution_count": 32,
   "id": "521df1fb",
   "metadata": {},
   "outputs": [
    {
     "name": "stderr",
     "output_type": "stream",
     "text": [
      "100%|██████████| 40/40 [01:37<00:00,  2.43s/it]\n"
     ]
    }
   ],
   "source": [
    "from tqdm import tqdm\n",
    "\n",
    "res = []\n",
    "for query in tqdm(queries):\n",
    "    res.append(llm.invoke(query))"
   ]
  },
  {
   "cell_type": "code",
   "execution_count": null,
   "id": "34c06573",
   "metadata": {},
   "outputs": [],
   "source": [
    "seed_res"
   ]
  }
 ],
 "metadata": {
  "kernelspec": {
   "display_name": "llm",
   "language": "python",
   "name": "python3"
  },
  "language_info": {
   "codemirror_mode": {
    "name": "ipython",
    "version": 3
   },
   "file_extension": ".py",
   "mimetype": "text/x-python",
   "name": "python",
   "nbconvert_exporter": "python",
   "pygments_lexer": "ipython3",
   "version": "3.12.2"
  }
 },
 "nbformat": 4,
 "nbformat_minor": 5
}
