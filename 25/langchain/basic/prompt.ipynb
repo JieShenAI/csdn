{
 "cells": [
  {
   "cell_type": "markdown",
   "metadata": {},
   "source": [
    "langchain prompt 例子"
   ]
  },
  {
   "cell_type": "markdown",
   "metadata": {},
   "source": [
    "## LLM 加载"
   ]
  },
  {
   "cell_type": "code",
   "execution_count": 3,
   "metadata": {},
   "outputs": [
    {
     "data": {
      "text/plain": [
       "True"
      ]
     },
     "execution_count": 3,
     "metadata": {},
     "output_type": "execute_result"
    }
   ],
   "source": [
    "import os\n",
    "from dotenv import load_dotenv\n",
    "\n",
    "load_dotenv()\n",
    "\n",
    "# 避免key泄漏\n",
    "base_url = os.environ.get(\"OPENAI_BASE_URL\")\n",
    "api_key = os.environ.get(\"OPENAI_API_KEY\")\n",
    "\n",
    "from langchain_openai import ChatOpenAI\n",
    "\n",
    "llm = ChatOpenAI(model=\"gpt-4o-mini\", base_url=base_url, api_key=api_key)"
   ]
  },
  {
   "cell_type": "code",
   "execution_count": 12,
   "metadata": {},
   "outputs": [
    {
     "data": {
      "text/plain": [
       "AIMessage(content='Hello! How can I assist you today?', response_metadata={'token_usage': {'completion_tokens': 5, 'prompt_tokens': 0, 'total_tokens': 5, 'completion_tokens_details': {'reasoning_tokens': 0, 'audio_tokens': 0, 'accepted_prediction_tokens': 0, 'rejected_prediction_tokens': 0}, 'prompt_tokens_details': {'cached_tokens': 0, 'audio_tokens': 0}}, 'model_name': 'gpt-4o-mini', 'system_fingerprint': 'fp_d0bb59f1c2', 'finish_reason': 'stop', 'logprobs': None}, id='run-d82c04c0-c879-4da1-aefc-496a7384feac-0', usage_metadata={'input_tokens': 0, 'output_tokens': 5, 'total_tokens': 5})"
      ]
     },
     "execution_count": 12,
     "metadata": {},
     "output_type": "execute_result"
    }
   ],
   "source": [
    "llm.invoke(\"hello\")"
   ]
  },
  {
   "cell_type": "markdown",
   "metadata": {},
   "source": [
    "## 提示词"
   ]
  },
  {
   "cell_type": "code",
   "execution_count": 13,
   "metadata": {},
   "outputs": [],
   "source": [
    "from langchain.prompts import PromptTemplate\n",
    "\n",
    "prompt_template = PromptTemplate(\n",
    "    input_variables=[\"search_result\", \"local_knowledge\", \"query\"],\n",
    "    template=\"\"\"\n",
    "        你是一位专业的人工智能助手，综合以下信息来回答用户的问题：\n",
    "        1. 网络搜索结果：{search_result}\n",
    "        2. 本地向量数据库结果：{local_knowledge}\n",
    "        请提供一个准确、简洁且易于理解的答案。\n",
    "        \n",
    "        用户问题：{query}\n",
    "        \n",
    "        按照json格式返回结果，在reason中填写得出结论的原因，answer给出最终的结果:\n",
    "        ```json\n",
    "        {{\n",
    "            \"reason\": \"xxx\",\n",
    "            \"answer\": \"xxx\"\n",
    "        }}\n",
    "        ```\n",
    "        \"\"\",\n",
    ")\n",
    "search_result = \"北京今天晴，气温舒适。\"\n",
    "local_knowledge = \"北京最近有重大交通事故。\"\n",
    "query = \"北京最近的天气怎么样？\"\n",
    "\n",
    "final_prompt = prompt_template.format(\n",
    "    search_result=search_result,\n",
    "    local_knowledge=local_knowledge,\n",
    "    query=query,\n",
    ")"
   ]
  },
  {
   "cell_type": "markdown",
   "metadata": {},
   "source": [
    "使用 `{{}}` 对括号进行转义，不然langchain的提示词模块会报错"
   ]
  },
  {
   "cell_type": "code",
   "execution_count": 14,
   "metadata": {},
   "outputs": [
    {
     "name": "stdout",
     "output_type": "stream",
     "text": [
      "\n",
      "        你是一位专业的人工智能助手，综合以下信息来回答用户的问题：\n",
      "        1. 网络搜索结果：北京今天晴，气温舒适。\n",
      "        2. 本地向量数据库结果：北京最近有重大交通事故。\n",
      "        请提供一个准确、简洁且易于理解的答案。\n",
      "        \n",
      "        用户问题：北京最近的天气怎么样？\n",
      "        \n",
      "        按照json格式返回结果，在reason中填写得出结论的原因，answer给出最终的结果:\n",
      "        ```json\n",
      "        {\n",
      "            \"reason\": \"xxx\",\n",
      "            \"answer\": \"xxx\"\n",
      "        }\n",
      "        ```\n",
      "        \n"
     ]
    }
   ],
   "source": [
    "print(final_prompt)"
   ]
  },
  {
   "cell_type": "code",
   "execution_count": 16,
   "metadata": {},
   "outputs": [
    {
     "data": {
      "text/plain": [
       "AIMessage(content='```json\\n{\\n    \"reason\": \"根据网络搜索结果，北京今天晴，气温舒适，因此最近的天气可以认为是良好的。\",\\n    \"answer\": \"北京最近的天气很好，今天晴朗，气温舒适。\"\\n}\\n```', response_metadata={'token_usage': {'completion_tokens': 19, 'prompt_tokens': 0, 'total_tokens': 19, 'completion_tokens_details': {'reasoning_tokens': 0, 'audio_tokens': 0, 'accepted_prediction_tokens': 0, 'rejected_prediction_tokens': 0}, 'prompt_tokens_details': {'cached_tokens': 0, 'audio_tokens': 0}}, 'model_name': 'gpt-4o-mini', 'system_fingerprint': 'fp_6d4a397bec', 'finish_reason': 'stop', 'logprobs': None}, id='run-297f91ea-75a3-4b43-9f63-fd948e0828ce-0', usage_metadata={'input_tokens': 0, 'output_tokens': 19, 'total_tokens': 19})"
      ]
     },
     "execution_count": 16,
     "metadata": {},
     "output_type": "execute_result"
    }
   ],
   "source": [
    "answer = llm.invoke(final_prompt)\n",
    "answer"
   ]
  },
  {
   "cell_type": "code",
   "execution_count": 17,
   "metadata": {},
   "outputs": [
    {
     "name": "stdout",
     "output_type": "stream",
     "text": [
      "```json\n",
      "{\n",
      "    \"reason\": \"根据网络搜索结果，北京今天晴，气温舒适，因此最近的天气可以认为是良好的。\",\n",
      "    \"answer\": \"北京最近的天气很好，今天晴朗，气温舒适。\"\n",
      "}\n",
      "```\n"
     ]
    }
   ],
   "source": [
    "print(answer.content)"
   ]
  },
  {
   "cell_type": "code",
   "execution_count": null,
   "metadata": {},
   "outputs": [],
   "source": []
  }
 ],
 "metadata": {
  "kernelspec": {
   "display_name": "llm",
   "language": "python",
   "name": "python3"
  },
  "language_info": {
   "codemirror_mode": {
    "name": "ipython",
    "version": 3
   },
   "file_extension": ".py",
   "mimetype": "text/x-python",
   "name": "python",
   "nbconvert_exporter": "python",
   "pygments_lexer": "ipython3",
   "version": "3.10.13"
  }
 },
 "nbformat": 4,
 "nbformat_minor": 2
}
