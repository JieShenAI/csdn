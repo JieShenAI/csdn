{
 "cells": [
  {
   "cell_type": "code",
   "execution_count": 1,
   "metadata": {},
   "outputs": [],
   "source": [
    "import os\n",
    "from dotenv import load_dotenv\n",
    "load_dotenv()\n",
    "\n",
    "base_url = os.environ.get(\"OPENAI_BASE_URL\")\n",
    "api_key = os.environ.get(\"OPENAI_API_KEY\")\n",
    "\n",
    "from langchain_openai import ChatOpenAI\n",
    "\n",
    "llm = ChatOpenAI(model=\"gpt-4o-mini\", base_url=base_url, api_key=api_key)"
   ]
  },
  {
   "cell_type": "code",
   "execution_count": 2,
   "metadata": {},
   "outputs": [
    {
     "name": "stderr",
     "output_type": "stream",
     "text": [
      "/tmp/ipykernel_91465/3945372860.py:5: LangChainDeprecationWarning: Please see the migration guide at: https://python.langchain.com/docs/versions/migrating_memory/\n",
      "  memory = ConversationSummaryMemory(llm=llm)\n",
      "/tmp/ipykernel_91465/3945372860.py:8: LangChainDeprecationWarning: The class `ConversationChain` was deprecated in LangChain 0.2.7 and will be removed in 1.0. Use :meth:`~RunnableWithMessageHistory: https://python.langchain.com/v0.2/api_reference/core/runnables/langchain_core.runnables.history.RunnableWithMessageHistory.html` instead.\n",
      "  conversation = ConversationChain(llm=llm, memory=memory)\n"
     ]
    },
    {
     "name": "stdout",
     "output_type": "stream",
     "text": [
      "你好！很高兴见到你！今天过得怎么样？有什么特别要聊的吗？\n",
      "我也很喜欢科幻电影！科幻电影真的很迷人，它们能带我们探索未知的世界和未来的科技。你有没有特别喜欢的科幻电影或导演？比如《银翼杀手》或者《星际穿越》都很受欢迎！我还记得《黑客帝国》里的虚拟现实概念非常引人入胜。你最喜欢的科幻电影是什么？\n",
      "当然，我记得我们聊过关于科幻电影的事情！你提到你非常喜欢科幻电影，我也分享了我对这个类型的热爱，特别是对未知世界和未来科技的探索。如果你有任何特定的电影或导演想要讨论，或者想要推荐一些新的电影，我都很乐意听！你有没有特别喜欢的电影或者导演呢？\n"
     ]
    }
   ],
   "source": [
    "from langchain.memory import ConversationSummaryMemory\n",
    "from langchain.chains import ConversationChain\n",
    "\n",
    "# 初始化带有总结功能的记忆\n",
    "memory = ConversationSummaryMemory(llm=llm)\n",
    "\n",
    "# 创建对话链\n",
    "conversation = ConversationChain(llm=llm, memory=memory)\n",
    "\n",
    "# 进行多轮对话\n",
    "print(conversation.predict(input=\"你好！\"))\n",
    "print(conversation.predict(input=\"我喜欢看科幻电影，你呢？\"))\n",
    "print(conversation.predict(input=\"你还记得我们聊过什么吗？\"))"
   ]
  },
  {
   "cell_type": "code",
   "execution_count": null,
   "metadata": {},
   "outputs": [],
   "source": []
  }
 ],
 "metadata": {
  "kernelspec": {
   "display_name": "llama",
   "language": "python",
   "name": "python3"
  },
  "language_info": {
   "codemirror_mode": {
    "name": "ipython",
    "version": 3
   },
   "file_extension": ".py",
   "mimetype": "text/x-python",
   "name": "python",
   "nbconvert_exporter": "python",
   "pygments_lexer": "ipython3",
   "version": "3.10.13"
  }
 },
 "nbformat": 4,
 "nbformat_minor": 2
}
