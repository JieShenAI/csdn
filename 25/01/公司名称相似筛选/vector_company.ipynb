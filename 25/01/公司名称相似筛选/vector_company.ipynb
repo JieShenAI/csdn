{
 "cells": [
  {
   "cell_type": "markdown",
   "metadata": {},
   "source": [
    "为了代码更通用且具有可复用价值构建了一个向量数据库 Chroma\n",
    "，存储过程中的向量"
   ]
  },
  {
   "cell_type": "code",
   "execution_count": null,
   "metadata": {},
   "outputs": [],
   "source": [
    "# !pip install -qU langchain-core chromadb langchain-chroma"
   ]
  },
  {
   "cell_type": "code",
   "execution_count": 1,
   "metadata": {},
   "outputs": [],
   "source": [
    "import os\n",
    "import pandas as pd\n",
    "from tqdm import tqdm\n",
    "\n",
    "TOP_K = 5"
   ]
  },
  {
   "cell_type": "code",
   "execution_count": 2,
   "metadata": {},
   "outputs": [],
   "source": [
    "from langchain_chroma import Chroma\n",
    "from langchain_core.documents import Document"
   ]
  },
  {
   "cell_type": "code",
   "execution_count": 3,
   "metadata": {},
   "outputs": [
    {
     "name": "stderr",
     "output_type": "stream",
     "text": [
      "c:\\Users\\1\\.conda\\envs\\mdqa\\Lib\\site-packages\\tqdm\\auto.py:21: TqdmWarning: IProgress not found. Please update jupyter and ipywidgets. See https://ipywidgets.readthedocs.io/en/stable/user_install.html\n",
      "  from .autonotebook import tqdm as notebook_tqdm\n"
     ]
    },
    {
     "name": "stdout",
     "output_type": "stream",
     "text": [
      "Downloading Model to directory: C:\\Users\\1\\.cache\\modelscope\\hub\\BAAI/bge-m3\n"
     ]
    }
   ],
   "source": [
    "from modelscope import snapshot_download\n",
    "\n",
    "model_dir = snapshot_download(\"BAAI/bge-m3\")"
   ]
  },
  {
   "cell_type": "code",
   "execution_count": 4,
   "metadata": {},
   "outputs": [],
   "source": [
    "from langchain_huggingface import HuggingFaceEmbeddings\n",
    "\n",
    "\n",
    "hf_embedding = HuggingFaceEmbeddings(\n",
    "    model_name=model_dir,\n",
    "    # model_kwargs={\"trust_remote_code\": True}\n",
    ")"
   ]
  },
  {
   "cell_type": "code",
   "execution_count": 5,
   "metadata": {},
   "outputs": [],
   "source": [
    "def delete_words(text):\n",
    "    DELETW_WORDS = [\n",
    "        \"有限公司\",\n",
    "        \"有限责任公司\",\n",
    "        \"股份有限公司\",\n",
    "        \"控股集团公司\",\n",
    "        \"控股有限责任公司\",\n",
    "        \"控股股份有限公司\",\n",
    "        \"集团\",\n",
    "        \"公司\",\n",
    "        \"合作社\",\n",
    "    ]\n",
    "    for word in DELETW_WORDS:\n",
    "        text = text.replace(word, \"\")\n",
    "    return text"
   ]
  },
  {
   "cell_type": "code",
   "execution_count": 6,
   "metadata": {},
   "outputs": [],
   "source": [
    "os.makedirs(\"output\", exist_ok=True)"
   ]
  },
  {
   "cell_type": "code",
   "execution_count": 7,
   "metadata": {},
   "outputs": [
    {
     "name": "stderr",
     "output_type": "stream",
     "text": [
      "100%|██████████| 559/559 [00:05<00:00, 103.52it/s]\n"
     ]
    },
    {
     "name": "stdout",
     "output_type": "stream",
     "text": [
      "Output saved to output\\A21.xlsx\n"
     ]
    },
    {
     "name": "stderr",
     "output_type": "stream",
     "text": [
      "100%|██████████| 624/624 [00:05<00:00, 106.59it/s]\n"
     ]
    },
    {
     "name": "stdout",
     "output_type": "stream",
     "text": [
      "Output saved to output\\A31.xlsx\n"
     ]
    },
    {
     "name": "stderr",
     "output_type": "stream",
     "text": [
      "100%|██████████| 669/669 [00:10<00:00, 65.88it/s]\n"
     ]
    },
    {
     "name": "stdout",
     "output_type": "stream",
     "text": [
      "Output saved to output\\A41.xlsx\n"
     ]
    },
    {
     "name": "stderr",
     "output_type": "stream",
     "text": [
      "100%|██████████| 556/556 [00:13<00:00, 41.23it/s]\n"
     ]
    },
    {
     "name": "stdout",
     "output_type": "stream",
     "text": [
      "Output saved to output\\A51.xlsx\n"
     ]
    },
    {
     "name": "stderr",
     "output_type": "stream",
     "text": [
      "100%|██████████| 2317/2317 [00:33<00:00, 69.09it/s]\n"
     ]
    },
    {
     "name": "stdout",
     "output_type": "stream",
     "text": [
      "Output saved to output\\AA.xlsx\n"
     ]
    }
   ],
   "source": [
    "fold = \"data/\"\n",
    "\n",
    "for file in os.listdir(fold):\n",
    "    file_name = os.path.join(fold, file)\n",
    "    if not file_name.endswith(\".xlsx\"):\n",
    "        continue\n",
    "    tmp_df = pd.read_excel(file_name)\n",
    "    raw_companies = tmp_df[\"名称1\"].to_list()\n",
    "    ref_companies = tmp_df[\"名称2\"].to_list()\n",
    "\n",
    "    documents = [\n",
    "        Document(\n",
    "            page_content=delete_words(ref_company),\n",
    "            id=idx,\n",
    "            metadata={\"ref_company\": ref_company},\n",
    "        )\n",
    "        for idx, ref_company in enumerate(ref_companies)\n",
    "    ]\n",
    "\n",
    "    # 向量数据库\n",
    "    vector_store = Chroma(\n",
    "        collection_name=file,\n",
    "        embedding_function=hf_embedding,\n",
    "        # Where to save data locally, remove if not necessary\n",
    "        # persist_directory=\"./chroma_industry_name_db\",\n",
    "    )\n",
    "\n",
    "    vector_store.add_documents(documents=documents)\n",
    "    data = []\n",
    "    for raw_company in tqdm(raw_companies):\n",
    "        if not isinstance(raw_company, str):\n",
    "            continue\n",
    "        relevant_companies = vector_store.similarity_search_with_score(\n",
    "            delete_words(raw_company), k=TOP_K\n",
    "        )\n",
    "        ans = [raw_company]\n",
    "        for relevant_company, score in relevant_companies:\n",
    "            ans.append(relevant_company.metadata[\"ref_company\"])\n",
    "            ans.append(score)\n",
    "        data.append(ans)\n",
    "\n",
    "    tmp_df = pd.DataFrame(\n",
    "        data,\n",
    "        columns=[\"raw_company\"]\n",
    "        + sum([[f\"ref_company_{i}\", f\"score_{i}\"] for i in range(1, TOP_K + 1)], []),\n",
    "    )\n",
    "    \n",
    "    output_file = os.path.join(\"output\", file)\n",
    "    tmp_df.to_excel(output_file, index=False)\n",
    "    print(f\"Output saved to {output_file}\")"
   ]
  },
  {
   "cell_type": "code",
   "execution_count": null,
   "metadata": {},
   "outputs": [],
   "source": []
  }
 ],
 "metadata": {
  "kernelspec": {
   "display_name": "mdqa",
   "language": "python",
   "name": "python3"
  },
  "language_info": {
   "codemirror_mode": {
    "name": "ipython",
    "version": 3
   },
   "file_extension": ".py",
   "mimetype": "text/x-python",
   "name": "python",
   "nbconvert_exporter": "python",
   "pygments_lexer": "ipython3",
   "version": "3.11.11"
  }
 },
 "nbformat": 4,
 "nbformat_minor": 2
}
