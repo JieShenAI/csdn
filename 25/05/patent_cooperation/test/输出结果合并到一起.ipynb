{
 "cells": [
  {
   "cell_type": "code",
   "execution_count": 1,
   "id": "8a43af65",
   "metadata": {},
   "outputs": [],
   "source": [
    "import os\n",
    "import pandas as pd"
   ]
  },
  {
   "cell_type": "code",
   "execution_count": 2,
   "id": "2ea22132",
   "metadata": {},
   "outputs": [],
   "source": [
    "fold = \"/mnt/mydisk/gitee/pku_industry/data_process/patent/cooperation/output/provs\""
   ]
  },
  {
   "cell_type": "code",
   "execution_count": 3,
   "id": "587bb715",
   "metadata": {},
   "outputs": [],
   "source": [
    "data = []\n",
    "\n",
    "for file in os.listdir(fold):\n",
    "    file_name = os.path.join(fold, file)\n",
    "    tmp_df = pd.read_csv(file_name)\n",
    "    data.append(tmp_df)\n",
    "\n",
    "df = pd.concat(data)"
   ]
  },
  {
   "cell_type": "code",
   "execution_count": 4,
   "id": "3608621b",
   "metadata": {},
   "outputs": [
    {
     "data": {
      "text/plain": [
       "(110223, 26)"
      ]
     },
     "execution_count": 4,
     "metadata": {},
     "output_type": "execute_result"
    }
   ],
   "source": [
    "df.shape"
   ]
  },
  {
   "cell_type": "code",
   "execution_count": 5,
   "id": "67bbc1c8",
   "metadata": {},
   "outputs": [
    {
     "data": {
      "text/plain": [
       "110223"
      ]
     },
     "execution_count": 5,
     "metadata": {},
     "output_type": "execute_result"
    }
   ],
   "source": [
    "len(df['专利公开号'].unique())"
   ]
  },
  {
   "cell_type": "code",
   "execution_count": 6,
   "id": "137c99ac",
   "metadata": {},
   "outputs": [],
   "source": [
    "df.to_csv(\"../output/2505/目标专利信息.csv\", index=False)"
   ]
  },
  {
   "cell_type": "code",
   "execution_count": null,
   "id": "4ff51e5a",
   "metadata": {},
   "outputs": [],
   "source": []
  }
 ],
 "metadata": {
  "kernelspec": {
   "display_name": "base",
   "language": "python",
   "name": "python3"
  },
  "language_info": {
   "codemirror_mode": {
    "name": "ipython",
    "version": 3
   },
   "file_extension": ".py",
   "mimetype": "text/x-python",
   "name": "python",
   "nbconvert_exporter": "python",
   "pygments_lexer": "ipython3",
   "version": "3.11.7"
  }
 },
 "nbformat": 4,
 "nbformat_minor": 5
}
