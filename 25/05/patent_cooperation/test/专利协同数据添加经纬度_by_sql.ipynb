{
 "cells": [
  {
   "cell_type": "code",
   "execution_count": 1,
   "metadata": {},
   "outputs": [],
   "source": [
    "import pandas as pd\n",
    "\n",
    "file_name = \"武汉专利协同次数统计.xlsx\"\n",
    "df = pd.read_excel(file_name)"
   ]
  },
  {
   "cell_type": "code",
   "execution_count": 2,
   "metadata": {},
   "outputs": [
    {
     "data": {
      "text/html": [
       "<div>\n",
       "<style scoped>\n",
       "    .dataframe tbody tr th:only-of-type {\n",
       "        vertical-align: middle;\n",
       "    }\n",
       "\n",
       "    .dataframe tbody tr th {\n",
       "        vertical-align: top;\n",
       "    }\n",
       "\n",
       "    .dataframe thead th {\n",
       "        text-align: right;\n",
       "    }\n",
       "</style>\n",
       "<table border=\"1\" class=\"dataframe\">\n",
       "  <thead>\n",
       "    <tr style=\"text-align: right;\">\n",
       "      <th></th>\n",
       "      <th>公司1</th>\n",
       "      <th>公司2</th>\n",
       "      <th>次数</th>\n",
       "    </tr>\n",
       "  </thead>\n",
       "  <tbody>\n",
       "    <tr>\n",
       "      <th>0</th>\n",
       "      <td>格力电器(武汉)有限公司</td>\n",
       "      <td>珠海格力电器股份有限公司</td>\n",
       "      <td>1419</td>\n",
       "    </tr>\n",
       "    <tr>\n",
       "      <th>1</th>\n",
       "      <td>鸿富锦精密工业(武汉)有限公司</td>\n",
       "      <td>鸿海精密工业股份有限公司</td>\n",
       "      <td>1193</td>\n",
       "    </tr>\n",
       "    <tr>\n",
       "      <th>2</th>\n",
       "      <td>中核武汉核电运行技术股份有限公司</td>\n",
       "      <td>核动力运行研究所</td>\n",
       "      <td>1043</td>\n",
       "    </tr>\n",
       "    <tr>\n",
       "      <th>3</th>\n",
       "      <td>美的集团武汉制冷设备有限公司</td>\n",
       "      <td>美的集团股份有限公司</td>\n",
       "      <td>821</td>\n",
       "    </tr>\n",
       "    <tr>\n",
       "      <th>4</th>\n",
       "      <td>武汉市黄鹤楼科技园有限公司</td>\n",
       "      <td>湖北中烟工业有限责任公司</td>\n",
       "      <td>561</td>\n",
       "    </tr>\n",
       "  </tbody>\n",
       "</table>\n",
       "</div>"
      ],
      "text/plain": [
       "                公司1           公司2    次数\n",
       "0      格力电器(武汉)有限公司  珠海格力电器股份有限公司  1419\n",
       "1   鸿富锦精密工业(武汉)有限公司  鸿海精密工业股份有限公司  1193\n",
       "2  中核武汉核电运行技术股份有限公司      核动力运行研究所  1043\n",
       "3    美的集团武汉制冷设备有限公司    美的集团股份有限公司   821\n",
       "4     武汉市黄鹤楼科技园有限公司  湖北中烟工业有限责任公司   561"
      ]
     },
     "execution_count": 2,
     "metadata": {},
     "output_type": "execute_result"
    }
   ],
   "source": [
    "df.head()"
   ]
  },
  {
   "cell_type": "markdown",
   "metadata": {},
   "source": [
    "## 连接mysql"
   ]
  },
  {
   "cell_type": "code",
   "execution_count": 3,
   "metadata": {},
   "outputs": [],
   "source": [
    "import os\n",
    "from tqdm import tqdm\n",
    "import sys\n",
    "import pymysql\n",
    "\n",
    "\n",
    "sys.path.append(\"/home/jie/.key\")\n",
    "# 本地密码存储文件\n",
    "from sql_key import password"
   ]
  },
  {
   "cell_type": "code",
   "execution_count": 4,
   "metadata": {},
   "outputs": [],
   "source": [
    "# 连接到MySQL数据库\n",
    "connection = pymysql.connect(\n",
    "    host=\"localhost\",  # MySQL数据库的主机\n",
    "    user=\"root\",  # MySQL用户名\n",
    "    password=password,  # MySQL密码\n",
    "    database=\"industry\",  # 你要插入数据的数据库\n",
    "    charset=\"utf8mb4\",\n",
    "    cursorclass=pymysql.cursors.DictCursor,\n",
    ")"
   ]
  },
  {
   "cell_type": "code",
   "execution_count": 5,
   "metadata": {},
   "outputs": [],
   "source": [
    "new_data = {\n",
    "    \"公司1\":[],\n",
    "    \"公司2\":[],\n",
    "    \n",
    "    \"公司1_经度\":[],\n",
    "    \"公司1_纬度\":[],\n",
    "    \n",
    "    \"公司2_经度\":[],\n",
    "    \"公司2_纬度\":[],\n",
    "    \n",
    "    \"次数\":[],\n",
    "}"
   ]
  },
  {
   "cell_type": "code",
   "execution_count": 19,
   "metadata": {},
   "outputs": [
    {
     "name": "stdout",
     "output_type": "stream",
     "text": [
      "{'company_name': '珠海格力电器股份有限公司', 'longitude': Decimal('113.5502328'), 'latitude': Decimal('22.1337738')}\n"
     ]
    }
   ],
   "source": [
    "# print(query_data(connection, \"珠海格力电器股份有限公司\"))"
   ]
  },
  {
   "cell_type": "code",
   "execution_count": 6,
   "metadata": {},
   "outputs": [],
   "source": [
    "def query_data(connection, company_name):\n",
    "    # 创建一个游标对象\n",
    "    with connection.cursor() as cursor:\n",
    "        # SQL 查询语句\n",
    "        sql = \"\"\"\n",
    "        SELECT company_name, longitude, latitude\n",
    "        FROM companies\n",
    "        WHERE company_name = %s\n",
    "        \"\"\"\n",
    "        # 执行查询\n",
    "        cursor.execute(sql, (company_name,))\n",
    "        res = cursor.fetchone()\n",
    "        if res is None:\n",
    "            return None, None, None\n",
    "        # 获取查询结果\n",
    "        return res[\"company_name\"], res[\"longitude\"], res[\"latitude\"]"
   ]
  },
  {
   "cell_type": "code",
   "execution_count": 7,
   "metadata": {},
   "outputs": [
    {
     "name": "stderr",
     "output_type": "stream",
     "text": [
      "100%|██████████| 8642/8642 [00:04<00:00, 1777.89it/s]\n"
     ]
    }
   ],
   "source": [
    "for _, row in tqdm(df.iterrows(), total=len(df)):\n",
    "    com1, com2 = row[\"公司1\"], row[\"公司2\"]\n",
    "    _, com1_longitude, com1_latitude = query_data(connection, com1)\n",
    "    _, com2_longitude, com2_latitude = query_data(connection, com2)\n",
    "    new_data[\"公司1\"].append(com1)\n",
    "    new_data[\"公司2\"].append(com2)\n",
    "    \n",
    "    new_data[\"公司1_经度\"].append(com1_longitude)\n",
    "    new_data[\"公司1_纬度\"].append(com1_latitude)\n",
    "    \n",
    "    new_data[\"公司2_经度\"].append(com2_longitude)\n",
    "    new_data[\"公司2_纬度\"].append(com2_latitude)\n",
    "    new_data[\"次数\"].append(row[\"次数\"])"
   ]
  },
  {
   "cell_type": "code",
   "execution_count": 8,
   "metadata": {},
   "outputs": [],
   "source": [
    "new_df = pd.DataFrame(new_data)\n",
    "new_df.to_excel(\"武汉专利协同经纬度.xlsx\")"
   ]
  },
  {
   "cell_type": "code",
   "execution_count": 30,
   "metadata": {},
   "outputs": [],
   "source": [
    "# new_df.to_csv(\"武汉专利协同经纬度.csv\")"
   ]
  },
  {
   "cell_type": "code",
   "execution_count": null,
   "metadata": {},
   "outputs": [],
   "source": []
  }
 ],
 "metadata": {
  "kernelspec": {
   "display_name": "base",
   "language": "python",
   "name": "python3"
  },
  "language_info": {
   "codemirror_mode": {
    "name": "ipython",
    "version": 3
   },
   "file_extension": ".py",
   "mimetype": "text/x-python",
   "name": "python",
   "nbconvert_exporter": "python",
   "pygments_lexer": "ipython3",
   "version": "3.11.7"
  }
 },
 "nbformat": 4,
 "nbformat_minor": 2
}
