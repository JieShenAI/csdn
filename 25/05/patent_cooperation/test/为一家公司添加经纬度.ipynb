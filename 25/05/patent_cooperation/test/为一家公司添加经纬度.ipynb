{
 "cells": [
  {
   "cell_type": "code",
   "execution_count": 1,
   "id": "e8f9f9b5",
   "metadata": {},
   "outputs": [],
   "source": [
    "import pandas as pd"
   ]
  },
  {
   "cell_type": "code",
   "execution_count": 2,
   "id": "dd7762ba",
   "metadata": {},
   "outputs": [
    {
     "data": {
      "text/html": [
       "<div>\n",
       "<style scoped>\n",
       "    .dataframe tbody tr th:only-of-type {\n",
       "        vertical-align: middle;\n",
       "    }\n",
       "\n",
       "    .dataframe tbody tr th {\n",
       "        vertical-align: top;\n",
       "    }\n",
       "\n",
       "    .dataframe thead th {\n",
       "        text-align: right;\n",
       "    }\n",
       "</style>\n",
       "<table border=\"1\" class=\"dataframe\">\n",
       "  <thead>\n",
       "    <tr style=\"text-align: right;\">\n",
       "      <th></th>\n",
       "      <th>公司1</th>\n",
       "      <th>经度</th>\n",
       "      <th>纬度</th>\n",
       "    </tr>\n",
       "  </thead>\n",
       "  <tbody>\n",
       "    <tr>\n",
       "      <th>0</th>\n",
       "      <td>北京大学</td>\n",
       "      <td>NaN</td>\n",
       "      <td>NaN</td>\n",
       "    </tr>\n",
       "    <tr>\n",
       "      <th>1</th>\n",
       "      <td>四川大学</td>\n",
       "      <td>NaN</td>\n",
       "      <td>NaN</td>\n",
       "    </tr>\n",
       "    <tr>\n",
       "      <th>2</th>\n",
       "      <td>东南大学</td>\n",
       "      <td>NaN</td>\n",
       "      <td>NaN</td>\n",
       "    </tr>\n",
       "    <tr>\n",
       "      <th>3</th>\n",
       "      <td>中南大学</td>\n",
       "      <td>NaN</td>\n",
       "      <td>NaN</td>\n",
       "    </tr>\n",
       "    <tr>\n",
       "      <th>4</th>\n",
       "      <td>中山大学</td>\n",
       "      <td>NaN</td>\n",
       "      <td>NaN</td>\n",
       "    </tr>\n",
       "  </tbody>\n",
       "</table>\n",
       "</div>"
      ],
      "text/plain": [
       "    公司1  经度  纬度\n",
       "0  北京大学 NaN NaN\n",
       "1  四川大学 NaN NaN\n",
       "2  东南大学 NaN NaN\n",
       "3  中南大学 NaN NaN\n",
       "4  中山大学 NaN NaN"
      ]
     },
     "execution_count": 2,
     "metadata": {},
     "output_type": "execute_result"
    }
   ],
   "source": [
    "df = pd.read_excel(\"../data/无经纬度的名单.xlsx\")\n",
    "df.head()"
   ]
  },
  {
   "cell_type": "code",
   "execution_count": 3,
   "id": "db985421",
   "metadata": {},
   "outputs": [],
   "source": [
    "import json\n",
    "from typing import Dict\n",
    "\n",
    "\n",
    "def save_json(data: Dict, file: str):\n",
    "    with open(file, \"w\", encoding=\"utf-8\") as f:\n",
    "        json.dump(data, f, ensure_ascii=False, indent=2)\n",
    "\n",
    "\n",
    "def load_json(file) -> Dict:\n",
    "    with open(file, \"r\", encoding=\"utf-8\") as f:\n",
    "        return json.load(f)\n",
    "\n",
    "baidu_json_data = load_json(\"../API_results/无经纬度的名单.json\")"
   ]
  },
  {
   "cell_type": "code",
   "execution_count": 4,
   "id": "1b7d9c48",
   "metadata": {},
   "outputs": [
    {
     "data": {
      "text/plain": [
       "{'status': 0,\n",
       " 'result': {'location': {'lng': 116.36452971128516, 'lat': 39.91740572650949},\n",
       "  'precise': 1,\n",
       "  'confidence': 80,\n",
       "  'comprehension': 100,\n",
       "  'level': '门址'},\n",
       " 'idx': 6,\n",
       " 'address_input': '北京市西城区金融大街31号'}"
      ]
     },
     "execution_count": 4,
     "metadata": {},
     "output_type": "execute_result"
    }
   ],
   "source": [
    "baidu_json_data[\"北京市西城区金融大街31号\"]"
   ]
  },
  {
   "cell_type": "code",
   "execution_count": 5,
   "id": "349898ca",
   "metadata": {},
   "outputs": [],
   "source": [
    "def query_data(company_name):\n",
    "    # 创建一个游标对象\n",
    "    global baidu_json_data\n",
    "    res = baidu_json_data.get(company_name, {})\n",
    "    if not res:\n",
    "        return pd.NA, pd.NA\n",
    "    # 获取查询结果\n",
    "    obj = res[\"result\"][\"location\"]\n",
    "    return obj[\"lng\"], obj[\"lat\"]"
   ]
  },
  {
   "cell_type": "code",
   "execution_count": 6,
   "id": "47008ce4",
   "metadata": {},
   "outputs": [],
   "source": [
    "def add_lat_long(row):\n",
    "    company_name = row[\"公司1\"]\n",
    "    long, lat = query_data(company_name)\n",
    "    return pd.Series({\"经度\": long, \"纬度\": lat})"
   ]
  },
  {
   "cell_type": "code",
   "execution_count": 7,
   "id": "66ab551d",
   "metadata": {},
   "outputs": [],
   "source": [
    "df[[\"经度\", \"纬度\"]] = df.apply(add_lat_long, axis=1)"
   ]
  },
  {
   "cell_type": "code",
   "execution_count": 8,
   "id": "cce0ba03",
   "metadata": {},
   "outputs": [
    {
     "data": {
      "text/html": [
       "<div>\n",
       "<style scoped>\n",
       "    .dataframe tbody tr th:only-of-type {\n",
       "        vertical-align: middle;\n",
       "    }\n",
       "\n",
       "    .dataframe tbody tr th {\n",
       "        vertical-align: top;\n",
       "    }\n",
       "\n",
       "    .dataframe thead th {\n",
       "        text-align: right;\n",
       "    }\n",
       "</style>\n",
       "<table border=\"1\" class=\"dataframe\">\n",
       "  <thead>\n",
       "    <tr style=\"text-align: right;\">\n",
       "      <th></th>\n",
       "      <th>公司1</th>\n",
       "      <th>经度</th>\n",
       "      <th>纬度</th>\n",
       "    </tr>\n",
       "  </thead>\n",
       "  <tbody>\n",
       "    <tr>\n",
       "      <th>0</th>\n",
       "      <td>北京大学</td>\n",
       "      <td>116.363768</td>\n",
       "      <td>39.764275</td>\n",
       "    </tr>\n",
       "    <tr>\n",
       "      <th>1</th>\n",
       "      <td>四川大学</td>\n",
       "      <td>104.084036</td>\n",
       "      <td>30.630194</td>\n",
       "    </tr>\n",
       "    <tr>\n",
       "      <th>2</th>\n",
       "      <td>东南大学</td>\n",
       "      <td>118.782056</td>\n",
       "      <td>32.080824</td>\n",
       "    </tr>\n",
       "    <tr>\n",
       "      <th>3</th>\n",
       "      <td>中南大学</td>\n",
       "      <td>112.998124</td>\n",
       "      <td>28.145605</td>\n",
       "    </tr>\n",
       "    <tr>\n",
       "      <th>4</th>\n",
       "      <td>中山大学</td>\n",
       "      <td>113.9579</td>\n",
       "      <td>22.804672</td>\n",
       "    </tr>\n",
       "  </tbody>\n",
       "</table>\n",
       "</div>"
      ],
      "text/plain": [
       "    公司1          经度         纬度\n",
       "0  北京大学  116.363768  39.764275\n",
       "1  四川大学  104.084036  30.630194\n",
       "2  东南大学  118.782056  32.080824\n",
       "3  中南大学  112.998124  28.145605\n",
       "4  中山大学    113.9579  22.804672"
      ]
     },
     "execution_count": 8,
     "metadata": {},
     "output_type": "execute_result"
    }
   ],
   "source": [
    "df.head()"
   ]
  },
  {
   "cell_type": "code",
   "execution_count": 9,
   "id": "c33f4f3f",
   "metadata": {},
   "outputs": [],
   "source": [
    "df.to_csv(\"无经纬度的名单_update.csv\", index=False)"
   ]
  },
  {
   "cell_type": "code",
   "execution_count": null,
   "id": "7c54a5f6",
   "metadata": {},
   "outputs": [],
   "source": []
  }
 ],
 "metadata": {
  "kernelspec": {
   "display_name": "base",
   "language": "python",
   "name": "python3"
  },
  "language_info": {
   "codemirror_mode": {
    "name": "ipython",
    "version": 3
   },
   "file_extension": ".py",
   "mimetype": "text/x-python",
   "name": "python",
   "nbconvert_exporter": "python",
   "pygments_lexer": "ipython3",
   "version": "3.11.7"
  }
 },
 "nbformat": 4,
 "nbformat_minor": 5
}
