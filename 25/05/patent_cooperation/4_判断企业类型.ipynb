{
 "cells": [
  {
   "cell_type": "code",
   "execution_count": 2,
   "id": "0a44eb48",
   "metadata": {},
   "outputs": [],
   "source": [
    "from tqdm import tqdm\n",
    "import pandas as pd\n",
    "from typing import Dict\n",
    "import json"
   ]
  },
  {
   "cell_type": "markdown",
   "id": "6adb11c9",
   "metadata": {},
   "source": [
    "公司1与公司2都是集群企业，返回1，否则返回0"
   ]
  },
  {
   "cell_type": "code",
   "execution_count": 4,
   "id": "354b3be3",
   "metadata": {},
   "outputs": [],
   "source": [
    "file = \"/mnt/mydisk/gitee/pku_industry/data_process/patent/cooperation/output/2505/专利协同次数统计.csv\"\n",
    "\n",
    "df = pd.read_csv(file)"
   ]
  },
  {
   "cell_type": "code",
   "execution_count": 5,
   "id": "2c160410",
   "metadata": {},
   "outputs": [
    {
     "data": {
      "text/plain": [
       "(9609, 3)"
      ]
     },
     "execution_count": 5,
     "metadata": {},
     "output_type": "execute_result"
    }
   ],
   "source": [
    "df.shape"
   ]
  },
  {
   "cell_type": "code",
   "execution_count": 6,
   "id": "1ed18ebd",
   "metadata": {},
   "outputs": [],
   "source": [
    "target_com_file = \"/mnt/mydisk/gitee/pku_industry/data_process/patent/cooperation/data/2w_企业名称.csv\"\n",
    "target_company = pd.read_csv(target_com_file)\n",
    "target_company_name = target_company[\"企业名称\"].values"
   ]
  },
  {
   "cell_type": "code",
   "execution_count": 7,
   "id": "8f02535f",
   "metadata": {},
   "outputs": [],
   "source": [
    "def load_json(file) -> Dict:\n",
    "    with open(file, \"r\", encoding=\"utf-8\") as f:\n",
    "        return json.load(f)"
   ]
  },
  {
   "cell_type": "code",
   "execution_count": 8,
   "id": "a0083644",
   "metadata": {},
   "outputs": [],
   "source": [
    "def com_is_in_cluster(row):\n",
    "    com1, com2 = row[\"公司1\"], row[\"公司2\"]\n",
    "    if com1 in target_company_name and com2 in target_company_name:\n",
    "        return 1\n",
    "    return 0"
   ]
  },
  {
   "cell_type": "code",
   "execution_count": 9,
   "id": "2818e25e",
   "metadata": {},
   "outputs": [
    {
     "data": {
      "text/plain": [
       "Index(['公司1', '公司2', '次数'], dtype='object')"
      ]
     },
     "execution_count": 9,
     "metadata": {},
     "output_type": "execute_result"
    }
   ],
   "source": [
    "df.columns"
   ]
  },
  {
   "cell_type": "code",
   "execution_count": 10,
   "id": "bfde54f3",
   "metadata": {},
   "outputs": [],
   "source": [
    "df[\"both_in\"] = df.apply(com_is_in_cluster, axis=1)"
   ]
  },
  {
   "cell_type": "code",
   "execution_count": 11,
   "id": "532086f8",
   "metadata": {},
   "outputs": [
    {
     "data": {
      "text/plain": [
       "(9609, 4)"
      ]
     },
     "execution_count": 11,
     "metadata": {},
     "output_type": "execute_result"
    }
   ],
   "source": [
    "df.shape"
   ]
  },
  {
   "cell_type": "code",
   "execution_count": 12,
   "id": "2713b5f1",
   "metadata": {},
   "outputs": [
    {
     "data": {
      "text/plain": [
       "both_in\n",
       "0    9293\n",
       "1     316\n",
       "Name: count, dtype: int64"
      ]
     },
     "execution_count": 12,
     "metadata": {},
     "output_type": "execute_result"
    }
   ],
   "source": [
    "df[\"both_in\"].value_counts()"
   ]
  },
  {
   "cell_type": "code",
   "execution_count": 13,
   "id": "ed956ba6",
   "metadata": {},
   "outputs": [
    {
     "data": {
      "text/html": [
       "<div>\n",
       "<style scoped>\n",
       "    .dataframe tbody tr th:only-of-type {\n",
       "        vertical-align: middle;\n",
       "    }\n",
       "\n",
       "    .dataframe tbody tr th {\n",
       "        vertical-align: top;\n",
       "    }\n",
       "\n",
       "    .dataframe thead th {\n",
       "        text-align: right;\n",
       "    }\n",
       "</style>\n",
       "<table border=\"1\" class=\"dataframe\">\n",
       "  <thead>\n",
       "    <tr style=\"text-align: right;\">\n",
       "      <th></th>\n",
       "      <th>公司1</th>\n",
       "      <th>公司2</th>\n",
       "      <th>次数</th>\n",
       "      <th>both_in</th>\n",
       "    </tr>\n",
       "  </thead>\n",
       "  <tbody>\n",
       "    <tr>\n",
       "      <th>0</th>\n",
       "      <td>京东方科技集团股份有限公司</td>\n",
       "      <td>成都京东方光电科技有限公司</td>\n",
       "      <td>5484</td>\n",
       "      <td>0</td>\n",
       "    </tr>\n",
       "    <tr>\n",
       "      <th>1</th>\n",
       "      <td>京东方科技集团股份有限公司</td>\n",
       "      <td>北京京东方显示技术有限公司</td>\n",
       "      <td>4389</td>\n",
       "      <td>0</td>\n",
       "    </tr>\n",
       "    <tr>\n",
       "      <th>2</th>\n",
       "      <td>京东方科技集团股份有限公司</td>\n",
       "      <td>北京京东方光电科技有限公司</td>\n",
       "      <td>4159</td>\n",
       "      <td>0</td>\n",
       "    </tr>\n",
       "    <tr>\n",
       "      <th>3</th>\n",
       "      <td>京东方科技集团股份有限公司</td>\n",
       "      <td>合肥鑫晟光电科技有限公司</td>\n",
       "      <td>3901</td>\n",
       "      <td>1</td>\n",
       "    </tr>\n",
       "    <tr>\n",
       "      <th>4</th>\n",
       "      <td>广州视源电子科技股份有限公司</td>\n",
       "      <td>广州视睿电子科技有限公司</td>\n",
       "      <td>3767</td>\n",
       "      <td>0</td>\n",
       "    </tr>\n",
       "  </tbody>\n",
       "</table>\n",
       "</div>"
      ],
      "text/plain": [
       "              公司1            公司2    次数  both_in\n",
       "0   京东方科技集团股份有限公司  成都京东方光电科技有限公司  5484        0\n",
       "1   京东方科技集团股份有限公司  北京京东方显示技术有限公司  4389        0\n",
       "2   京东方科技集团股份有限公司  北京京东方光电科技有限公司  4159        0\n",
       "3   京东方科技集团股份有限公司   合肥鑫晟光电科技有限公司  3901        1\n",
       "4  广州视源电子科技股份有限公司   广州视睿电子科技有限公司  3767        0"
      ]
     },
     "execution_count": 13,
     "metadata": {},
     "output_type": "execute_result"
    }
   ],
   "source": [
    "df.head()"
   ]
  },
  {
   "cell_type": "code",
   "execution_count": 14,
   "id": "fb102468",
   "metadata": {},
   "outputs": [],
   "source": [
    "df.to_csv(\n",
    "    \"/mnt/mydisk/gitee/pku_industry/data_process/patent/cooperation/output/2505/专利协同次数统计.csv\",\n",
    "    index=False,\n",
    ")"
   ]
  },
  {
   "cell_type": "code",
   "execution_count": null,
   "id": "887fc016",
   "metadata": {},
   "outputs": [],
   "source": []
  }
 ],
 "metadata": {
  "kernelspec": {
   "display_name": "base",
   "language": "python",
   "name": "python3"
  },
  "language_info": {
   "codemirror_mode": {
    "name": "ipython",
    "version": 3
   },
   "file_extension": ".py",
   "mimetype": "text/x-python",
   "name": "python",
   "nbconvert_exporter": "python",
   "pygments_lexer": "ipython3",
   "version": "3.11.7"
  }
 },
 "nbformat": 4,
 "nbformat_minor": 5
}
