{
 "cells": [
  {
   "cell_type": "code",
   "execution_count": 1,
   "metadata": {},
   "outputs": [],
   "source": [
    "import pandas as pd\n",
    "\n",
    "file_name = \"output/专利协同次数统计.csv\"\n",
    "df = pd.read_csv(file_name)"
   ]
  },
  {
   "cell_type": "code",
   "execution_count": 2,
   "metadata": {},
   "outputs": [],
   "source": [
    "import json\n",
    "from typing import Dict\n",
    "\n",
    "\n",
    "def save_json(data: Dict, file: str):\n",
    "    with open(file, \"w\", encoding=\"utf-8\") as f:\n",
    "        json.dump(data, f, ensure_ascii=False, indent=2)\n",
    "\n",
    "\n",
    "def load_json(file) -> Dict:\n",
    "    with open(file, \"r\", encoding=\"utf-8\") as f:\n",
    "        return json.load(f)"
   ]
  },
  {
   "cell_type": "code",
   "execution_count": 3,
   "metadata": {},
   "outputs": [
    {
     "data": {
      "text/html": [
       "<div>\n",
       "<style scoped>\n",
       "    .dataframe tbody tr th:only-of-type {\n",
       "        vertical-align: middle;\n",
       "    }\n",
       "\n",
       "    .dataframe tbody tr th {\n",
       "        vertical-align: top;\n",
       "    }\n",
       "\n",
       "    .dataframe thead th {\n",
       "        text-align: right;\n",
       "    }\n",
       "</style>\n",
       "<table border=\"1\" class=\"dataframe\">\n",
       "  <thead>\n",
       "    <tr style=\"text-align: right;\">\n",
       "      <th></th>\n",
       "      <th>公司1</th>\n",
       "      <th>公司2</th>\n",
       "      <th>次数</th>\n",
       "      <th>both_in</th>\n",
       "    </tr>\n",
       "  </thead>\n",
       "  <tbody>\n",
       "    <tr>\n",
       "      <th>0</th>\n",
       "      <td>京东方科技集团股份有限公司</td>\n",
       "      <td>成都京东方光电科技有限公司</td>\n",
       "      <td>5484</td>\n",
       "      <td>0</td>\n",
       "    </tr>\n",
       "    <tr>\n",
       "      <th>1</th>\n",
       "      <td>京东方科技集团股份有限公司</td>\n",
       "      <td>北京京东方显示技术有限公司</td>\n",
       "      <td>4389</td>\n",
       "      <td>0</td>\n",
       "    </tr>\n",
       "    <tr>\n",
       "      <th>2</th>\n",
       "      <td>京东方科技集团股份有限公司</td>\n",
       "      <td>北京京东方光电科技有限公司</td>\n",
       "      <td>4159</td>\n",
       "      <td>0</td>\n",
       "    </tr>\n",
       "    <tr>\n",
       "      <th>3</th>\n",
       "      <td>京东方科技集团股份有限公司</td>\n",
       "      <td>合肥鑫晟光电科技有限公司</td>\n",
       "      <td>3901</td>\n",
       "      <td>1</td>\n",
       "    </tr>\n",
       "    <tr>\n",
       "      <th>4</th>\n",
       "      <td>广州视源电子科技股份有限公司</td>\n",
       "      <td>广州视睿电子科技有限公司</td>\n",
       "      <td>3767</td>\n",
       "      <td>0</td>\n",
       "    </tr>\n",
       "  </tbody>\n",
       "</table>\n",
       "</div>"
      ],
      "text/plain": [
       "              公司1            公司2    次数  both_in\n",
       "0   京东方科技集团股份有限公司  成都京东方光电科技有限公司  5484        0\n",
       "1   京东方科技集团股份有限公司  北京京东方显示技术有限公司  4389        0\n",
       "2   京东方科技集团股份有限公司  北京京东方光电科技有限公司  4159        0\n",
       "3   京东方科技集团股份有限公司   合肥鑫晟光电科技有限公司  3901        1\n",
       "4  广州视源电子科技股份有限公司   广州视睿电子科技有限公司  3767        0"
      ]
     },
     "execution_count": 3,
     "metadata": {},
     "output_type": "execute_result"
    }
   ],
   "source": [
    "df.head()"
   ]
  },
  {
   "cell_type": "code",
   "execution_count": null,
   "metadata": {},
   "outputs": [],
   "source": [
    "from tqdm import tqdm"
   ]
  },
  {
   "cell_type": "code",
   "execution_count": 6,
   "metadata": {},
   "outputs": [],
   "source": [
    "baidu_json_data = load_json(\"API_results/all_companies.json\")"
   ]
  },
  {
   "cell_type": "code",
   "execution_count": 7,
   "metadata": {},
   "outputs": [],
   "source": [
    "new_data = {\n",
    "    \"公司1\": [],\n",
    "    \"公司2\": [],\n",
    "\n",
    "    \"公司1_经度\": [],\n",
    "    \"公司1_纬度\": [],\n",
    "    \"公司2_经度\": [],\n",
    "    \"公司2_纬度\": [],\n",
    "    \n",
    "    \"次数\": [],\n",
    "    \"both_in\": [],\n",
    "}"
   ]
  },
  {
   "cell_type": "code",
   "execution_count": 19,
   "metadata": {},
   "outputs": [
    {
     "name": "stdout",
     "output_type": "stream",
     "text": [
      "{'company_name': '珠海格力电器股份有限公司', 'longitude': Decimal('113.5502328'), 'latitude': Decimal('22.1337738')}\n"
     ]
    }
   ],
   "source": [
    "# print(query_data(connection, \"珠海格力电器股份有限公司\"))"
   ]
  },
  {
   "cell_type": "code",
   "execution_count": 9,
   "metadata": {},
   "outputs": [],
   "source": [
    "# baidu_json_data"
   ]
  },
  {
   "cell_type": "code",
   "execution_count": 8,
   "metadata": {},
   "outputs": [],
   "source": [
    "res = baidu_json_data.get('重庆英斯捷新材料有限公司')\n",
    "res"
   ]
  },
  {
   "cell_type": "code",
   "execution_count": 9,
   "metadata": {},
   "outputs": [],
   "source": [
    "def query_data(company_name):\n",
    "    # 创建一个游标对象\n",
    "    global baidu_json_data\n",
    "    res = baidu_json_data.get(company_name, {})\n",
    "    if not res:\n",
    "        return pd.NA, pd.NA\n",
    "    # 获取查询结果\n",
    "    obj = res[\"result\"][\"location\"]\n",
    "    return obj[\"lng\"], obj[\"lat\"]"
   ]
  },
  {
   "cell_type": "code",
   "execution_count": 22,
   "metadata": {},
   "outputs": [
    {
     "data": {
      "text/plain": [
       "(106.38087922053842, 29.48721475766089)"
      ]
     },
     "execution_count": 22,
     "metadata": {},
     "output_type": "execute_result"
    }
   ],
   "source": [
    "# query_data(\"重庆英斯捷新材料有限公司\")"
   ]
  },
  {
   "cell_type": "code",
   "execution_count": 10,
   "metadata": {},
   "outputs": [
    {
     "name": "stderr",
     "output_type": "stream",
     "text": [
      "100%|██████████| 9609/9609 [00:00<00:00, 49730.72it/s]\n"
     ]
    }
   ],
   "source": [
    "for _, row in tqdm(df.iterrows(), total=len(df)):\n",
    "    com1, com2 = row[\"公司1\"], row[\"公司2\"]\n",
    "    com1_longitude, com1_latitude = query_data(com1)\n",
    "    com2_longitude, com2_latitude = query_data(com2)\n",
    "\n",
    "    new_data[\"公司1\"].append(com1)\n",
    "    new_data[\"公司2\"].append(com2)\n",
    "    \n",
    "    new_data[\"公司1_经度\"].append(com1_longitude)\n",
    "    new_data[\"公司1_纬度\"].append(com1_latitude)\n",
    "    \n",
    "    new_data[\"公司2_经度\"].append(com2_longitude)\n",
    "    new_data[\"公司2_纬度\"].append(com2_latitude)\n",
    "    new_data[\"次数\"].append(row[\"次数\"])\n",
    "    new_data[\"both_in\"].append(row[\"both_in\"])"
   ]
  },
  {
   "cell_type": "code",
   "execution_count": 11,
   "metadata": {},
   "outputs": [],
   "source": [
    "new_df = pd.DataFrame(new_data)\n",
    "# new_df.to_excel(\"output/2505/武汉专利协同经纬度_final_res.xlsx\")"
   ]
  },
  {
   "cell_type": "code",
   "execution_count": 12,
   "metadata": {},
   "outputs": [
    {
     "data": {
      "text/html": [
       "<div>\n",
       "<style scoped>\n",
       "    .dataframe tbody tr th:only-of-type {\n",
       "        vertical-align: middle;\n",
       "    }\n",
       "\n",
       "    .dataframe tbody tr th {\n",
       "        vertical-align: top;\n",
       "    }\n",
       "\n",
       "    .dataframe thead th {\n",
       "        text-align: right;\n",
       "    }\n",
       "</style>\n",
       "<table border=\"1\" class=\"dataframe\">\n",
       "  <thead>\n",
       "    <tr style=\"text-align: right;\">\n",
       "      <th></th>\n",
       "      <th>公司1</th>\n",
       "      <th>公司2</th>\n",
       "      <th>公司1_经度</th>\n",
       "      <th>公司1_纬度</th>\n",
       "      <th>公司2_经度</th>\n",
       "      <th>公司2_纬度</th>\n",
       "      <th>次数</th>\n",
       "      <th>both_in</th>\n",
       "    </tr>\n",
       "  </thead>\n",
       "  <tbody>\n",
       "    <tr>\n",
       "      <th>0</th>\n",
       "      <td>京东方科技集团股份有限公司</td>\n",
       "      <td>成都京东方光电科技有限公司</td>\n",
       "      <td>108.658567</td>\n",
       "      <td>19.101105</td>\n",
       "      <td>103.909577</td>\n",
       "      <td>30.780721</td>\n",
       "      <td>5484</td>\n",
       "      <td>0</td>\n",
       "    </tr>\n",
       "    <tr>\n",
       "      <th>1</th>\n",
       "      <td>京东方科技集团股份有限公司</td>\n",
       "      <td>北京京东方显示技术有限公司</td>\n",
       "      <td>108.658567</td>\n",
       "      <td>19.101105</td>\n",
       "      <td>116.55493</td>\n",
       "      <td>39.792154</td>\n",
       "      <td>4389</td>\n",
       "      <td>0</td>\n",
       "    </tr>\n",
       "    <tr>\n",
       "      <th>2</th>\n",
       "      <td>京东方科技集团股份有限公司</td>\n",
       "      <td>北京京东方光电科技有限公司</td>\n",
       "      <td>108.658567</td>\n",
       "      <td>19.101105</td>\n",
       "      <td>116.517098</td>\n",
       "      <td>39.783989</td>\n",
       "      <td>4159</td>\n",
       "      <td>0</td>\n",
       "    </tr>\n",
       "    <tr>\n",
       "      <th>3</th>\n",
       "      <td>京东方科技集团股份有限公司</td>\n",
       "      <td>合肥鑫晟光电科技有限公司</td>\n",
       "      <td>108.658567</td>\n",
       "      <td>19.101105</td>\n",
       "      <td>117.342508</td>\n",
       "      <td>31.954997</td>\n",
       "      <td>3901</td>\n",
       "      <td>1</td>\n",
       "    </tr>\n",
       "    <tr>\n",
       "      <th>4</th>\n",
       "      <td>广州视源电子科技股份有限公司</td>\n",
       "      <td>广州视睿电子科技有限公司</td>\n",
       "      <td>113.533437</td>\n",
       "      <td>23.161492</td>\n",
       "      <td>113.445586</td>\n",
       "      <td>23.156039</td>\n",
       "      <td>3767</td>\n",
       "      <td>0</td>\n",
       "    </tr>\n",
       "  </tbody>\n",
       "</table>\n",
       "</div>"
      ],
      "text/plain": [
       "              公司1            公司2      公司1_经度     公司1_纬度      公司2_经度  \\\n",
       "0   京东方科技集团股份有限公司  成都京东方光电科技有限公司  108.658567  19.101105  103.909577   \n",
       "1   京东方科技集团股份有限公司  北京京东方显示技术有限公司  108.658567  19.101105   116.55493   \n",
       "2   京东方科技集团股份有限公司  北京京东方光电科技有限公司  108.658567  19.101105  116.517098   \n",
       "3   京东方科技集团股份有限公司   合肥鑫晟光电科技有限公司  108.658567  19.101105  117.342508   \n",
       "4  广州视源电子科技股份有限公司   广州视睿电子科技有限公司  113.533437  23.161492  113.445586   \n",
       "\n",
       "      公司2_纬度    次数  both_in  \n",
       "0  30.780721  5484        0  \n",
       "1  39.792154  4389        0  \n",
       "2  39.783989  4159        0  \n",
       "3  31.954997  3901        1  \n",
       "4  23.156039  3767        0  "
      ]
     },
     "execution_count": 12,
     "metadata": {},
     "output_type": "execute_result"
    }
   ],
   "source": [
    "new_df.head()"
   ]
  },
  {
   "cell_type": "code",
   "execution_count": null,
   "metadata": {},
   "outputs": [],
   "source": []
  }
 ],
 "metadata": {
  "kernelspec": {
   "display_name": "base",
   "language": "python",
   "name": "python3"
  },
  "language_info": {
   "codemirror_mode": {
    "name": "ipython",
    "version": 3
   },
   "file_extension": ".py",
   "mimetype": "text/x-python",
   "name": "python",
   "nbconvert_exporter": "python",
   "pygments_lexer": "ipython3",
   "version": "3.11.7"
  }
 },
 "nbformat": 4,
 "nbformat_minor": 2
}
