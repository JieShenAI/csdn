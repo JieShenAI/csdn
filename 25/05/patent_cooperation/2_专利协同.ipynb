{
 "cells": [
  {
   "cell_type": "code",
   "execution_count": 3,
   "metadata": {},
   "outputs": [],
   "source": [
    "import pandas as pd\n",
    "# file = \"/mnt/mydisk/pku_data/3571万专利申请全量数据1985-2022年/湖北省.csv\"\n",
    "file = \"/mnt/mydisk/gitee/pku_industry/data_process/patent/cooperation/output/2505/目标专利信息.csv\""
   ]
  },
  {
   "cell_type": "code",
   "execution_count": 4,
   "metadata": {},
   "outputs": [],
   "source": [
    "df = pd.read_csv(file, usecols=[\"申请人\"], low_memory=False)"
   ]
  },
  {
   "cell_type": "code",
   "execution_count": 5,
   "metadata": {},
   "outputs": [
    {
     "data": {
      "text/plain": [
       "(110223, 1)"
      ]
     },
     "execution_count": 5,
     "metadata": {},
     "output_type": "execute_result"
    }
   ],
   "source": [
    "df.shape"
   ]
  },
  {
   "cell_type": "code",
   "execution_count": 17,
   "metadata": {},
   "outputs": [],
   "source": [
    "# filtered_df = df[\"申请人\"][df[\"申请人\"].str.len() > 20].unique()\n",
    "# tmp_df[\"申请人\"].str.split(';')\n",
    "# df[df[\"申请人\"].str.split(';').apply(len) > 1][\"申请人\"]"
   ]
  },
  {
   "cell_type": "code",
   "execution_count": 6,
   "metadata": {},
   "outputs": [],
   "source": [
    "import itertools"
   ]
  },
  {
   "cell_type": "code",
   "execution_count": 38,
   "metadata": {},
   "outputs": [],
   "source": [
    "# data = []\n",
    "# data.extend(itertools.combinations([3,1,2,7,5], 2))"
   ]
  },
  {
   "cell_type": "code",
   "execution_count": 7,
   "metadata": {},
   "outputs": [
    {
     "data": {
      "text/plain": [
       "(110223,)"
      ]
     },
     "execution_count": 7,
     "metadata": {},
     "output_type": "execute_result"
    }
   ],
   "source": [
    "persons = df[df[\"申请人\"].str.split('; ').apply(len) > 1][\"申请人\"]\n",
    "persons.shape"
   ]
  },
  {
   "cell_type": "code",
   "execution_count": 11,
   "metadata": {},
   "outputs": [],
   "source": [
    "companies = persons"
   ]
  },
  {
   "cell_type": "code",
   "execution_count": 20,
   "metadata": {},
   "outputs": [],
   "source": [
    "all_companies = set()\n",
    "\n",
    "for company in companies:\n",
    "    coms = company.split(\"; \")\n",
    "    coms = list(filter(lambda x: len(x) > 4, coms))\n",
    "    all_companies.update(coms)"
   ]
  },
  {
   "cell_type": "code",
   "execution_count": 33,
   "metadata": {},
   "outputs": [
    {
     "data": {
      "text/plain": [
       "6169"
      ]
     },
     "execution_count": 33,
     "metadata": {},
     "output_type": "execute_result"
    }
   ],
   "source": [
    "len(all_companies)"
   ]
  },
  {
   "cell_type": "code",
   "execution_count": 34,
   "metadata": {},
   "outputs": [],
   "source": [
    "# 所有的公司都保存到本地，方便获取他们的经纬度\n",
    "pd.DataFrame({\"companies\": list(all_companies)}).to_csv(\n",
    "    \"all_companies.csv\", index=False\n",
    ")"
   ]
  },
  {
   "cell_type": "code",
   "execution_count": 35,
   "metadata": {},
   "outputs": [],
   "source": [
    "data = {}\n",
    "\n",
    "for p in persons.to_list():\n",
    "    ps = p.split('; ')\n",
    "    ps = list(filter(lambda x: len(x)>=4, ps))\n",
    "    if len(ps) < 2:\n",
    "        continue\n",
    "    # 通过sort 方法，保证有序不重复\n",
    "    ps.sort()\n",
    "    for item in itertools.combinations(ps, 2):\n",
    "        # print(item, end=\"\")\n",
    "        if item in data:\n",
    "            data[item] += 1\n",
    "        else:\n",
    "            data[item] = 1\n",
    "    # break"
   ]
  },
  {
   "cell_type": "code",
   "execution_count": null,
   "metadata": {},
   "outputs": [],
   "source": [
    "# data"
   ]
  },
  {
   "cell_type": "code",
   "execution_count": 36,
   "metadata": {},
   "outputs": [],
   "source": [
    "cols = [\"公司1\", \"公司2\", \"次数\"]\n",
    "\n",
    "pd_data = {}"
   ]
  },
  {
   "cell_type": "code",
   "execution_count": 37,
   "metadata": {},
   "outputs": [
    {
     "data": {
      "text/plain": [
       "9609"
      ]
     },
     "execution_count": 37,
     "metadata": {},
     "output_type": "execute_result"
    }
   ],
   "source": [
    "len(data)"
   ]
  },
  {
   "cell_type": "code",
   "execution_count": 38,
   "metadata": {},
   "outputs": [],
   "source": [
    "company1 = []\n",
    "company2 = []\n",
    "cnt_values = []\n",
    "\n",
    "for k, v in data.items():\n",
    "    c1, c2 = k\n",
    "    company1.append(c1)\n",
    "    company2.append(c2)\n",
    "    cnt_values.append(v)\n",
    "\n",
    "pd_data = {\n",
    "    \"公司1\": company1,\n",
    "    \"公司2\": company2,\n",
    "    \"次数\" : cnt_values\n",
    "}"
   ]
  },
  {
   "cell_type": "code",
   "execution_count": 39,
   "metadata": {},
   "outputs": [],
   "source": [
    "output_df = pd.DataFrame(pd_data)"
   ]
  },
  {
   "cell_type": "code",
   "execution_count": 40,
   "metadata": {},
   "outputs": [
    {
     "data": {
      "text/html": [
       "<div>\n",
       "<style scoped>\n",
       "    .dataframe tbody tr th:only-of-type {\n",
       "        vertical-align: middle;\n",
       "    }\n",
       "\n",
       "    .dataframe tbody tr th {\n",
       "        vertical-align: top;\n",
       "    }\n",
       "\n",
       "    .dataframe thead th {\n",
       "        text-align: right;\n",
       "    }\n",
       "</style>\n",
       "<table border=\"1\" class=\"dataframe\">\n",
       "  <thead>\n",
       "    <tr style=\"text-align: right;\">\n",
       "      <th></th>\n",
       "      <th>公司1</th>\n",
       "      <th>公司2</th>\n",
       "      <th>次数</th>\n",
       "    </tr>\n",
       "  </thead>\n",
       "  <tbody>\n",
       "    <tr>\n",
       "      <th>0</th>\n",
       "      <td>上海天马微电子有限公司</td>\n",
       "      <td>天马微电子股份有限公司</td>\n",
       "      <td>805</td>\n",
       "    </tr>\n",
       "    <tr>\n",
       "      <th>1</th>\n",
       "      <td>上海英宇包装科技有限公司</td>\n",
       "      <td>北京植物医生生物科技有限公司</td>\n",
       "      <td>2</td>\n",
       "    </tr>\n",
       "    <tr>\n",
       "      <th>2</th>\n",
       "      <td>上海中航光电子有限公司</td>\n",
       "      <td>天马微电子股份有限公司</td>\n",
       "      <td>399</td>\n",
       "    </tr>\n",
       "    <tr>\n",
       "      <th>3</th>\n",
       "      <td>上海金友金弘智能电气股份有限公司</td>\n",
       "      <td>江苏金友电气有限公司</td>\n",
       "      <td>25</td>\n",
       "    </tr>\n",
       "    <tr>\n",
       "      <th>4</th>\n",
       "      <td>上海纯米电子科技有限公司</td>\n",
       "      <td>北京小米移动软件有限公司</td>\n",
       "      <td>48</td>\n",
       "    </tr>\n",
       "  </tbody>\n",
       "</table>\n",
       "</div>"
      ],
      "text/plain": [
       "                公司1             公司2   次数\n",
       "0       上海天马微电子有限公司     天马微电子股份有限公司  805\n",
       "1      上海英宇包装科技有限公司  北京植物医生生物科技有限公司    2\n",
       "2       上海中航光电子有限公司     天马微电子股份有限公司  399\n",
       "3  上海金友金弘智能电气股份有限公司      江苏金友电气有限公司   25\n",
       "4      上海纯米电子科技有限公司    北京小米移动软件有限公司   48"
      ]
     },
     "execution_count": 40,
     "metadata": {},
     "output_type": "execute_result"
    }
   ],
   "source": [
    "output_df.head()"
   ]
  },
  {
   "cell_type": "code",
   "execution_count": 41,
   "metadata": {},
   "outputs": [],
   "source": [
    "new_output_df = output_df.sort_values(by='次数', ascending=False)"
   ]
  },
  {
   "cell_type": "code",
   "execution_count": 42,
   "metadata": {},
   "outputs": [
    {
     "data": {
      "text/plain": [
       "(9609, 3)"
      ]
     },
     "execution_count": 42,
     "metadata": {},
     "output_type": "execute_result"
    }
   ],
   "source": [
    "new_output_df.shape"
   ]
  },
  {
   "cell_type": "code",
   "execution_count": 43,
   "metadata": {},
   "outputs": [
    {
     "data": {
      "text/html": [
       "<div>\n",
       "<style scoped>\n",
       "    .dataframe tbody tr th:only-of-type {\n",
       "        vertical-align: middle;\n",
       "    }\n",
       "\n",
       "    .dataframe tbody tr th {\n",
       "        vertical-align: top;\n",
       "    }\n",
       "\n",
       "    .dataframe thead th {\n",
       "        text-align: right;\n",
       "    }\n",
       "</style>\n",
       "<table border=\"1\" class=\"dataframe\">\n",
       "  <thead>\n",
       "    <tr style=\"text-align: right;\">\n",
       "      <th></th>\n",
       "      <th>公司1</th>\n",
       "      <th>公司2</th>\n",
       "      <th>次数</th>\n",
       "    </tr>\n",
       "  </thead>\n",
       "  <tbody>\n",
       "    <tr>\n",
       "      <th>1122</th>\n",
       "      <td>京东方科技集团股份有限公司</td>\n",
       "      <td>成都京东方光电科技有限公司</td>\n",
       "      <td>5484</td>\n",
       "    </tr>\n",
       "    <tr>\n",
       "      <th>1119</th>\n",
       "      <td>京东方科技集团股份有限公司</td>\n",
       "      <td>北京京东方显示技术有限公司</td>\n",
       "      <td>4389</td>\n",
       "    </tr>\n",
       "    <tr>\n",
       "      <th>1120</th>\n",
       "      <td>京东方科技集团股份有限公司</td>\n",
       "      <td>北京京东方光电科技有限公司</td>\n",
       "      <td>4159</td>\n",
       "    </tr>\n",
       "    <tr>\n",
       "      <th>1134</th>\n",
       "      <td>京东方科技集团股份有限公司</td>\n",
       "      <td>合肥鑫晟光电科技有限公司</td>\n",
       "      <td>3901</td>\n",
       "    </tr>\n",
       "    <tr>\n",
       "      <th>5056</th>\n",
       "      <td>广州视源电子科技股份有限公司</td>\n",
       "      <td>广州视睿电子科技有限公司</td>\n",
       "      <td>3767</td>\n",
       "    </tr>\n",
       "  </tbody>\n",
       "</table>\n",
       "</div>"
      ],
      "text/plain": [
       "                 公司1            公司2    次数\n",
       "1122   京东方科技集团股份有限公司  成都京东方光电科技有限公司  5484\n",
       "1119   京东方科技集团股份有限公司  北京京东方显示技术有限公司  4389\n",
       "1120   京东方科技集团股份有限公司  北京京东方光电科技有限公司  4159\n",
       "1134   京东方科技集团股份有限公司   合肥鑫晟光电科技有限公司  3901\n",
       "5056  广州视源电子科技股份有限公司   广州视睿电子科技有限公司  3767"
      ]
     },
     "execution_count": 43,
     "metadata": {},
     "output_type": "execute_result"
    }
   ],
   "source": [
    "new_output_df.head()"
   ]
  },
  {
   "cell_type": "code",
   "execution_count": 46,
   "metadata": {},
   "outputs": [],
   "source": [
    "new_output_df.to_csv(\"output/2505/专利协同次数统计.csv\", index=False)"
   ]
  },
  {
   "cell_type": "code",
   "execution_count": null,
   "metadata": {},
   "outputs": [],
   "source": []
  }
 ],
 "metadata": {
  "kernelspec": {
   "display_name": "base",
   "language": "python",
   "name": "python3"
  },
  "language_info": {
   "codemirror_mode": {
    "name": "ipython",
    "version": 3
   },
   "file_extension": ".py",
   "mimetype": "text/x-python",
   "name": "python",
   "nbconvert_exporter": "python",
   "pygments_lexer": "ipython3",
   "version": "3.11.7"
  }
 },
 "nbformat": 4,
 "nbformat_minor": 2
}
