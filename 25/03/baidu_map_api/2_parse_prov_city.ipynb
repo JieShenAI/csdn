{
 "cells": [
  {
   "cell_type": "markdown",
   "metadata": {},
   "source": [
    "从json文件中，解析省市的经纬度"
   ]
  },
  {
   "cell_type": "code",
   "execution_count": 7,
   "metadata": {},
   "outputs": [
    {
     "name": "stderr",
     "output_type": "stream",
     "text": [
      "100%|██████████| 337/337 [00:00<?, ?it/s]\n"
     ]
    }
   ],
   "source": [
    "import os\n",
    "import json\n",
    "import pandas as pd\n",
    "from tqdm import tqdm\n",
    "from utils import load_json\n",
    "\n",
    "\n",
    "file = \"data/CityList_333.xlsx\"\n",
    "api_result_file = \"API_results/CityList_333.json\"\n",
    "\n",
    "lng_lat_d = load_json(api_result_file)\n",
    "df = pd.read_excel(file)\n",
    "\n",
    "\n",
    "def get_address(row):\n",
    "    prov = row[\"省份\"].strip()\n",
    "    city = row[\"地级行政区\"].strip()\n",
    "    ans = \"\"\n",
    "    if prov == city:\n",
    "        ans = prov\n",
    "    else:\n",
    "        ans = prov + city\n",
    "    return ans\n",
    "\n",
    "\n",
    "ADDRESS = df.apply(get_address, axis=1).to_list()\n",
    "\n",
    "lngs = []\n",
    "lats = []\n",
    "\n",
    "for address in tqdm(ADDRESS):\n",
    "    item = lng_lat_d[address]\n",
    "    lngs.append(item[\"result\"][\"location\"][\"lng\"])\n",
    "    lats.append(item[\"result\"][\"location\"][\"lat\"])\n",
    "\n",
    "df[\"经度\"] = lngs\n",
    "df[\"纬度\"] = lats\n",
    "base_name = os.path.basename(file).split(\".\")[0]\n",
    "df.to_excel(f\"data/{base_name}_经纬度_百度API.xlsx\", index=False)"
   ]
  },
  {
   "cell_type": "code",
   "execution_count": null,
   "metadata": {},
   "outputs": [],
   "source": []
  }
 ],
 "metadata": {
  "kernelspec": {
   "display_name": "llm",
   "language": "python",
   "name": "python3"
  },
  "language_info": {
   "codemirror_mode": {
    "name": "ipython",
    "version": 3
   },
   "file_extension": ".py",
   "mimetype": "text/x-python",
   "name": "python",
   "nbconvert_exporter": "python",
   "pygments_lexer": "ipython3",
   "version": "3.11.7"
  }
 },
 "nbformat": 4,
 "nbformat_minor": 2
}
