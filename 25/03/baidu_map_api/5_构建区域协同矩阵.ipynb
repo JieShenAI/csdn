{
 "cells": [
  {
   "cell_type": "markdown",
   "metadata": {},
   "source": [
    "读取 路径规划_数据.json ，构建区域协同矩阵"
   ]
  },
  {
   "cell_type": "code",
   "execution_count": 1,
   "metadata": {},
   "outputs": [],
   "source": [
    "import pandas as pd\n",
    "from tqdm import tqdm\n",
    "\n",
    "from itertools import permutations\n",
    "from utils import load_json, save_json"
   ]
  },
  {
   "cell_type": "code",
   "execution_count": 2,
   "metadata": {},
   "outputs": [],
   "source": [
    "df = pd.read_excel(\"data/CityList_333.xlsx\")"
   ]
  },
  {
   "cell_type": "code",
   "execution_count": 3,
   "metadata": {},
   "outputs": [],
   "source": [
    "def get_row(row):\n",
    "    return (row[\"省份\"], row[\"地级行政区\"])\n",
    "\n",
    "data = df.apply(get_row, axis=1).to_list()\n",
    "# 自己到自己的位置的距离与费用是0\n",
    "matrix = list(permutations(data, r=2))"
   ]
  },
  {
   "cell_type": "code",
   "execution_count": 4,
   "metadata": {},
   "outputs": [
    {
     "data": {
      "text/plain": [
       "(('北京市', '北京市'), ('天津市', '天津市'))"
      ]
     },
     "execution_count": 4,
     "metadata": {},
     "output_type": "execute_result"
    }
   ],
   "source": [
    "matrix[0]"
   ]
  },
  {
   "cell_type": "code",
   "execution_count": null,
   "metadata": {},
   "outputs": [],
   "source": [
    "# 遍历 matrix 从路径规划_数据.json中，获取距离与时间"
   ]
  },
  {
   "cell_type": "code",
   "execution_count": 5,
   "metadata": {},
   "outputs": [],
   "source": [
    "area_path_data = load_json(\"API_results/路径规划_数据.json\")"
   ]
  },
  {
   "cell_type": "code",
   "execution_count": 6,
   "metadata": {},
   "outputs": [],
   "source": [
    "head_key = next(iter(area_path_data.keys()))"
   ]
  },
  {
   "cell_type": "code",
   "execution_count": 7,
   "metadata": {},
   "outputs": [
    {
     "data": {
      "text/plain": [
       "(('北京市', '北京市'), ('天津市', '天津市'))"
      ]
     },
     "execution_count": 7,
     "metadata": {},
     "output_type": "execute_result"
    }
   ],
   "source": [
    "matrix[0]"
   ]
  },
  {
   "cell_type": "code",
   "execution_count": 8,
   "metadata": {},
   "outputs": [],
   "source": [
    "matrix_data = []\n",
    "\n",
    "for head_address, tail_address in matrix:\n",
    "    key = str((head_address, tail_address))\n",
    "    if key in area_path_data.keys():\n",
    "        tmp_data = area_path_data[key]\n",
    "    else:\n",
    "        key = str((tail_address, head_address))\n",
    "        tmp_data = area_path_data.get(key, {})\n",
    "\n",
    "    if tmp_data == {}:\n",
    "        matrix_data.append([head_address, tail_address, -1, -1])\n",
    "    else:\n",
    "        distance = tmp_data[\"result\"][\"routes\"][0][\"distance\"]\n",
    "        duration = tmp_data[\"result\"][\"routes\"][0][\"duration\"]\n",
    "        matrix_data.append([head_address, tail_address, distance, duration])"
   ]
  },
  {
   "cell_type": "code",
   "execution_count": 9,
   "metadata": {},
   "outputs": [
    {
     "data": {
      "text/plain": [
       "[('北京市', '北京市'), ('天津市', '天津市'), 137490, 7274]"
      ]
     },
     "execution_count": 9,
     "metadata": {},
     "output_type": "execute_result"
    }
   ],
   "source": [
    "matrix_data[0]"
   ]
  },
  {
   "cell_type": "code",
   "execution_count": 10,
   "metadata": {},
   "outputs": [],
   "source": [
    "# 距离矩阵\n",
    "distance_pd_data = {\"row\": [], \"col\": [], \"value\": []}\n",
    "duration_pd_data = {\"row\": [], \"col\": [], \"value\": []}\n",
    "\n",
    "\n",
    "def _set_v(_pd_data, head_address, tail_address, value):\n",
    "    _pd_data[\"row\"].append(head_address)\n",
    "    _pd_data[\"col\"].append(tail_address)\n",
    "    _pd_data[\"value\"].append(value)\n",
    "\n",
    "\n",
    "for head_address, tail_address, distance, duration in matrix_data:\n",
    "    _set_v(distance_pd_data, head_address, tail_address, distance)\n",
    "    _set_v(duration_pd_data, head_address, tail_address, duration)"
   ]
  },
  {
   "cell_type": "code",
   "execution_count": 11,
   "metadata": {},
   "outputs": [],
   "source": [
    "distance_df = pd.DataFrame(distance_pd_data)\n",
    "distance_df = distance_df.pivot(index=\"row\", columns=\"col\", values=\"value\")\n",
    "distance_df.fillna(0, inplace=True)\n",
    "distance_df.to_excel(\"output/全国两地之间距离.xlsx\")"
   ]
  },
  {
   "cell_type": "code",
   "execution_count": 12,
   "metadata": {},
   "outputs": [],
   "source": [
    "duration_df = pd.DataFrame(duration_pd_data)\n",
    "duration_df = duration_df.pivot(index=\"row\", columns=\"col\", values=\"value\")\n",
    "duration_df.fillna(0, inplace=True)\n",
    "duration_df.to_excel(\"output/全国两地通勤时间.xlsx\")"
   ]
  },
  {
   "cell_type": "code",
   "execution_count": null,
   "metadata": {},
   "outputs": [],
   "source": []
  }
 ],
 "metadata": {
  "kernelspec": {
   "display_name": "llm",
   "language": "python",
   "name": "python3"
  },
  "language_info": {
   "codemirror_mode": {
    "name": "ipython",
    "version": 3
   },
   "file_extension": ".py",
   "mimetype": "text/x-python",
   "name": "python",
   "nbconvert_exporter": "python",
   "pygments_lexer": "ipython3",
   "version": "3.11.7"
  }
 },
 "nbformat": 4,
 "nbformat_minor": 2
}
