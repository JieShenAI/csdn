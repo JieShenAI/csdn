{
 "cells": [
  {
   "cell_type": "code",
   "execution_count": 1,
   "id": "992ec36d",
   "metadata": {},
   "outputs": [
    {
     "name": "stderr",
     "output_type": "stream",
     "text": [
      "c:\\Users\\1\\.conda\\envs\\llm\\Lib\\site-packages\\tqdm\\auto.py:21: TqdmWarning: IProgress not found. Please update jupyter and ipywidgets. See https://ipywidgets.readthedocs.io/en/stable/user_install.html\n",
      "  from .autonotebook import tqdm as notebook_tqdm\n"
     ]
    },
    {
     "name": "stdout",
     "output_type": "stream",
     "text": [
      "Downloading Model to directory: C:\\Users\\1\\.cache\\modelscope\\hub\\AI-ModelScope/t5-base\n"
     ]
    },
    {
     "name": "stderr",
     "output_type": "stream",
     "text": [
      "2025-07-21 20:41:15,043 - modelscope - WARNING - Model revision not specified, use revision: v1.0.0\n"
     ]
    }
   ],
   "source": [
    "import os\n",
    "import torch\n",
    "\n",
    "\n",
    "from datasets import load_dataset\n",
    "from transformers import AutoModelForSeq2SeqLM, AutoTokenizer, BitsAndBytesConfig\n",
    "import numpy as np\n",
    "\n",
    "#SDK模型下载\n",
    "from modelscope import snapshot_download\n",
    "model_dir = snapshot_download('AI-ModelScope/t5-base')"
   ]
  },
  {
   "cell_type": "code",
   "execution_count": 2,
   "id": "b5b6ce61",
   "metadata": {},
   "outputs": [],
   "source": [
    "# 设置镜像地址\n",
    "os.environ[\"HF_ENDPOINT\"] = \"https://hf-mirror.com\"\n",
    "os.environ[\"HF_HUB_ENDPOINT\"] = \"https://hf-mirror.com\""
   ]
  },
  {
   "cell_type": "code",
   "execution_count": 3,
   "id": "bc2b7656",
   "metadata": {},
   "outputs": [],
   "source": [
    "# model_name = \"/home/valiantsec/phb/models/flan-t5-small\"\n",
    "model = AutoModelForSeq2SeqLM.from_pretrained(model_dir, device_map=\"auto\")\n",
    "tokenizer = AutoTokenizer.from_pretrained(model_dir)"
   ]
  },
  {
   "cell_type": "code",
   "execution_count": 4,
   "id": "1e0715cc",
   "metadata": {},
   "outputs": [],
   "source": [
    "from peft import LoraConfig, get_peft_model, TaskType\n",
    "\n",
    "lora_config = LoraConfig(\n",
    "    r=16, lora_alpha=32, target_modules=[\"q\", \"v\"], lora_dropout=0.05, bias=\"none\", task_type=\"SEQ_2_SEQ_LM\"\n",
    ")\n",
    "\n",
    "model = get_peft_model(model, lora_config)\n"
   ]
  },
  {
   "cell_type": "code",
   "execution_count": 5,
   "id": "68198b35",
   "metadata": {},
   "outputs": [
    {
     "name": "stderr",
     "output_type": "stream",
     "text": [
      "Using the latest cached version of the module from C:\\Users\\1\\.cache\\huggingface\\modules\\datasets_modules\\datasets\\financial_phrasebank\\550bde12e6c30e2674da973a55f57edde5181d53f5a5a34c1531c53f93b7e141 (last modified on Fri Jul 18 19:31:03 2025) since it couldn't be found locally at financial_phrasebank, or remotely on the Hugging Face Hub.\n"
     ]
    }
   ],
   "source": [
    "# loading dataset\n",
    "dataset = load_dataset(\n",
    "    \"financial_phrasebank\", \"sentences_allagree\", trust_remote_code=True\n",
    ")"
   ]
  },
  {
   "cell_type": "code",
   "execution_count": 6,
   "id": "f0d283c5",
   "metadata": {},
   "outputs": [
    {
     "data": {
      "text/plain": [
       "{0, 1, 2}"
      ]
     },
     "execution_count": 6,
     "metadata": {},
     "output_type": "execute_result"
    }
   ],
   "source": [
    "set(dataset[\"train\"][\"label\"])"
   ]
  },
  {
   "cell_type": "code",
   "execution_count": 7,
   "id": "4b73b948",
   "metadata": {},
   "outputs": [
    {
     "data": {
      "text/plain": [
       "DatasetDict({\n",
       "    train: Dataset({\n",
       "        features: ['sentence', 'label'],\n",
       "        num_rows: 2037\n",
       "    })\n",
       "    validation: Dataset({\n",
       "        features: ['sentence', 'label'],\n",
       "        num_rows: 227\n",
       "    })\n",
       "})"
      ]
     },
     "execution_count": 7,
     "metadata": {},
     "output_type": "execute_result"
    }
   ],
   "source": [
    "dataset = dataset[\"train\"].train_test_split(test_size=0.1)\n",
    "dataset[\"validation\"] = dataset[\"test\"]\n",
    "del dataset[\"test\"]\n",
    "dataset"
   ]
  },
  {
   "cell_type": "code",
   "execution_count": 8,
   "id": "cc59b0d9",
   "metadata": {},
   "outputs": [
    {
     "data": {
      "text/plain": [
       "['negative', 'neutral', 'positive']"
      ]
     },
     "execution_count": 8,
     "metadata": {},
     "output_type": "execute_result"
    }
   ],
   "source": [
    "dataset[\"train\"].features[\"label\"].names"
   ]
  },
  {
   "cell_type": "code",
   "execution_count": 9,
   "id": "7e94589b",
   "metadata": {},
   "outputs": [
    {
     "name": "stderr",
     "output_type": "stream",
     "text": [
      "Map: 100%|██████████| 2037/2037 [00:00<00:00, 59021.65 examples/s]\n",
      "Map: 100%|██████████| 227/227 [00:00<00:00, 19420.85 examples/s]\n"
     ]
    }
   ],
   "source": [
    "classes = dataset[\"train\"].features[\"label\"].names\n",
    "dataset = dataset.map(\n",
    "    lambda x: {\"text_label\": [classes[label] for label in x[\"label\"]]},\n",
    "    batched=True,\n",
    "    num_proc=1, # 使用4可以吗？\n",
    ")"
   ]
  },
  {
   "cell_type": "code",
   "execution_count": 10,
   "id": "6026da93",
   "metadata": {},
   "outputs": [
    {
     "data": {
      "text/plain": [
       "{'sentence': 'Basware finances the acquisition with a bank loan .',\n",
       " 'label': 1,\n",
       " 'text_label': 'neutral'}"
      ]
     },
     "execution_count": 10,
     "metadata": {},
     "output_type": "execute_result"
    }
   ],
   "source": [
    "dataset[\"train\"][0]"
   ]
  },
  {
   "cell_type": "code",
   "execution_count": 63,
   "id": "a07f28b2",
   "metadata": {},
   "outputs": [
    {
     "name": "stderr",
     "output_type": "stream",
     "text": [
      "Running tokenizer on dataset: 100%|██████████| 2037/2037 [00:00<00:00, 20860.61 examples/s]\n",
      "Running tokenizer on dataset: 100%|██████████| 227/227 [00:00<00:00, 11093.20 examples/s]\n"
     ]
    }
   ],
   "source": [
    "# data preprocessing\n",
    "text_column = \"sentence\"\n",
    "label_column = \"text_label\"\n",
    "max_length = 128\n",
    "\n",
    "\n",
    "def preprocess_function(examples):\n",
    "    inputs = examples[text_column]\n",
    "    targets = examples[label_column]\n",
    "    model_inputs = tokenizer(\n",
    "        inputs,\n",
    "        max_length=max_length,\n",
    "        padding=\"max_length\",\n",
    "        truncation=True,\n",
    "        return_tensors=\"pt\",\n",
    "    )\n",
    "    labels = tokenizer(\n",
    "        targets,\n",
    "        max_length=5,\n",
    "        padding=\"max_length\",\n",
    "        truncation=True,\n",
    "        return_tensors=\"pt\",\n",
    "    )\n",
    "    labels = labels[\"input_ids\"]\n",
    "    # labels[labels == tokenizer.pad_token_id] = -100\n",
    "    model_inputs[\"labels\"] = labels\n",
    "    return model_inputs\n",
    "\n",
    "\n",
    "processed_datasets = dataset.map(\n",
    "    preprocess_function,\n",
    "    batched=True,\n",
    "    num_proc=1,\n",
    "    remove_columns=dataset[\"train\"].column_names,\n",
    "    load_from_cache_file=False,\n",
    "    desc=\"Running tokenizer on dataset\",\n",
    ")\n",
    "\n",
    "train_dataset = processed_datasets[\"train\"]\n",
    "eval_dataset = processed_datasets[\"validation\"]"
   ]
  },
  {
   "cell_type": "code",
   "execution_count": 43,
   "id": "01c600d3",
   "metadata": {},
   "outputs": [
    {
     "name": "stdout",
     "output_type": "stream",
     "text": [
      "{'input_ids': [6653, 3404, 14272, 8, 6566, 28, 3, 9, 2137, 2289, 3, 5, 1, 0, 0, 0, 0, 0, 0, 0, 0, 0, 0, 0, 0, 0, 0, 0, 0, 0, 0, 0, 0, 0, 0, 0, 0, 0, 0, 0, 0, 0, 0, 0, 0, 0, 0, 0, 0, 0, 0, 0, 0, 0, 0, 0, 0, 0, 0, 0, 0, 0, 0, 0, 0, 0, 0, 0, 0, 0, 0, 0, 0, 0, 0, 0, 0, 0, 0, 0, 0, 0, 0, 0, 0, 0, 0, 0, 0, 0, 0, 0, 0, 0, 0, 0, 0, 0, 0, 0, 0, 0, 0, 0, 0, 0, 0, 0, 0, 0, 0, 0, 0, 0, 0, 0, 0, 0, 0, 0, 0, 0, 0, 0, 0, 0, 0, 0], 'attention_mask': [1, 1, 1, 1, 1, 1, 1, 1, 1, 1, 1, 1, 1, 0, 0, 0, 0, 0, 0, 0, 0, 0, 0, 0, 0, 0, 0, 0, 0, 0, 0, 0, 0, 0, 0, 0, 0, 0, 0, 0, 0, 0, 0, 0, 0, 0, 0, 0, 0, 0, 0, 0, 0, 0, 0, 0, 0, 0, 0, 0, 0, 0, 0, 0, 0, 0, 0, 0, 0, 0, 0, 0, 0, 0, 0, 0, 0, 0, 0, 0, 0, 0, 0, 0, 0, 0, 0, 0, 0, 0, 0, 0, 0, 0, 0, 0, 0, 0, 0, 0, 0, 0, 0, 0, 0, 0, 0, 0, 0, 0, 0, 0, 0, 0, 0, 0, 0, 0, 0, 0, 0, 0, 0, 0, 0, 0, 0, 0], 'labels': [7163, 1, 0]}\n"
     ]
    }
   ],
   "source": [
    "print(train_dataset[0])"
   ]
  },
  {
   "cell_type": "code",
   "execution_count": 81,
   "id": "e6d4a04c",
   "metadata": {},
   "outputs": [],
   "source": [
    "model.config.label_pad_token_id = -100"
   ]
  },
  {
   "cell_type": "code",
   "execution_count": 82,
   "id": "b1ffcf9b",
   "metadata": {},
   "outputs": [
    {
     "data": {
      "text/plain": [
       "tensor([[7163,    1,    0,    0,    0, -100, -100, -100],\n",
       "        [1465,    1,    0,    0,    0, -100, -100, -100],\n",
       "        [7163,    1,    0,    0,    0, -100, -100, -100]])"
      ]
     },
     "execution_count": 82,
     "metadata": {},
     "output_type": "execute_result"
    }
   ],
   "source": [
    "# @title Step 11: Defining a Data Collator\n",
    "from transformers import DataCollatorForSeq2Seq\n",
    "\n",
    "# data_collator = DataCollatorForSeq2Seq(tokenizer=tokenizer, model=model, label_pad_token_id=-100, pad_to_multiple_of=8)\n",
    "data_collator = DataCollatorForSeq2Seq(tokenizer=tokenizer, model=model, pad_to_multiple_of=8)\n",
    "seq2seq_test_data = data_collator((train_dataset[0], train_dataset[1], train_dataset[2]))\n",
    "seq2seq_test_data[\"labels\"]"
   ]
  },
  {
   "cell_type": "code",
   "execution_count": 65,
   "id": "7345f386",
   "metadata": {},
   "outputs": [
    {
     "data": {
      "text/plain": [
       "tensor([[7163,    1,    0,    0,    0],\n",
       "        [1465,    1,    0,    0,    0],\n",
       "        [7163,    1,    0,    0,    0]])"
      ]
     },
     "execution_count": 65,
     "metadata": {},
     "output_type": "execute_result"
    }
   ],
   "source": [
    "from transformers import DataCollatorWithPadding\n",
    "default_collator = DataCollatorWithPadding(tokenizer=tokenizer)\n",
    "default_test_data = default_collator((train_dataset[0], train_dataset[1], train_dataset[2]))\n",
    "default_test_data[\"labels\"]"
   ]
  },
  {
   "cell_type": "code",
   "execution_count": 29,
   "id": "52fda331",
   "metadata": {},
   "outputs": [
    {
     "data": {
      "text/plain": [
       "(dict_keys(['input_ids', 'attention_mask', 'labels']),\n",
       " dict_keys(['input_ids', 'attention_mask', 'labels']))"
      ]
     },
     "execution_count": 29,
     "metadata": {},
     "output_type": "execute_result"
    }
   ],
   "source": [
    "seq2seq_test_data.keys(), default_test_data.keys()"
   ]
  },
  {
   "cell_type": "code",
   "execution_count": 36,
   "id": "f8dc1e14",
   "metadata": {},
   "outputs": [
    {
     "name": "stdout",
     "output_type": "stream",
     "text": [
      "input_ids tensor(True)\n",
      "attention_mask tensor(True)\n",
      "labels tensor(True)\n"
     ]
    }
   ],
   "source": [
    "for k in seq2seq_test_data.keys():\n",
    "    eq = seq2seq_test_data[k] == default_test_data[k]\n",
    "    eq = eq.all()\n",
    "    print(k, eq)"
   ]
  },
  {
   "cell_type": "code",
   "execution_count": 27,
   "id": "3301b7ad",
   "metadata": {},
   "outputs": [
    {
     "data": {
      "text/plain": [
       "torch.Size([3, 128])"
      ]
     },
     "execution_count": 27,
     "metadata": {},
     "output_type": "execute_result"
    }
   ],
   "source": [
    "default_test_data[\"input_ids\"].shape"
   ]
  },
  {
   "cell_type": "code",
   "execution_count": 34,
   "id": "a50645ec",
   "metadata": {},
   "outputs": [
    {
     "data": {
      "text/plain": [
       "384"
      ]
     },
     "execution_count": 34,
     "metadata": {},
     "output_type": "execute_result"
    }
   ],
   "source": [
    "128 * 3"
   ]
  },
  {
   "cell_type": "code",
   "execution_count": 84,
   "id": "ba9c8919",
   "metadata": {},
   "outputs": [],
   "source": [
    "import evaluate\n",
    "\n",
    "# 加载ROUGE评估指标\n",
    "# metric = load_metric(\"rouge\")\n",
    "metric = evaluate.load(\"rouge\")"
   ]
  },
  {
   "cell_type": "code",
   "execution_count": 85,
   "id": "fb857df9",
   "metadata": {},
   "outputs": [
    {
     "data": {
      "text/plain": [
       "{'rouge1': 0.8, 'rouge2': 0.0, 'rougeL': 0.8, 'rougeLsum': 0.8}"
      ]
     },
     "execution_count": 85,
     "metadata": {},
     "output_type": "execute_result"
    }
   ],
   "source": [
    "result = metric.compute(\n",
    "        predictions=[\"hello world\"], \n",
    "        references=[\"hello new world\"],\n",
    "        use_stemmer=True  # 使用词干提取以提高匹配度\n",
    "    )\n",
    "result"
   ]
  },
  {
   "cell_type": "code",
   "execution_count": null,
   "id": "d32f37c8",
   "metadata": {},
   "outputs": [],
   "source": [
    "# def infer(eval_pred):\n",
    "#     predictions, labels = eval_pred\n",
    "#     with torch.no_grad():\n",
    "#         # TODO: 为什么predictions的第一个值为pad\n",
    "#         predictions = model_cpu.generate(predictions) # TODO 为什么不需要输入 mask\n",
    "#         predictions = tokenizer.batch_decode(predictions, skip_special_tokens=True)\n",
    "#         labels = np.where(labels != -100, labels, tokenizer.pad_token_id)\n",
    "#         labels = tokenizer.batch_decode(labels, skip_special_tokens=True)\n",
    "#     return predictions, labels"
   ]
  },
  {
   "cell_type": "code",
   "execution_count": 86,
   "id": "8b881297",
   "metadata": {},
   "outputs": [],
   "source": [
    "def compute_metrics(eval_pred):\n",
    "    \"\"\"生成式任务的评估函数\"\"\"\n",
    "    predictions, labels = eval_pred\n",
    "    predictions = predictions[0].argmax(-1)\n",
    "\n",
    "    # 解码生成的文本（模型预测）\n",
    "    decoded_preds = tokenizer.batch_decode(predictions, skip_special_tokens=True)\n",
    "\n",
    "    # 解码目标文本（真实标签）\n",
    "    # 替换-100为pad_token_id以正确解码\n",
    "    labels = np.where(labels != -100, labels, tokenizer.pad_token_id)\n",
    "    decoded_labels = tokenizer.batch_decode(labels, skip_special_tokens=True)\n",
    "\n",
    "    # 可选：简单后处理（如去除换行符）\n",
    "    decoded_preds = [pred.strip() for pred in decoded_preds]\n",
    "    decoded_labels = [label.strip() for label in decoded_labels]\n",
    "\n",
    "    right = 0\n",
    "    for pred, label in zip(decoded_preds, decoded_labels):\n",
    "        if pred == label:\n",
    "            right += 1\n",
    "\n",
    "    acc = right / len(decoded_labels)\n",
    "\n",
    "    # 计算ROUGE分数\n",
    "    result = metric.compute(\n",
    "        predictions=decoded_preds,\n",
    "        references=decoded_labels,\n",
    "        use_stemmer=True,  # 使用词干提取以提高匹配度\n",
    "    )\n",
    "    result.update({\"acc\": acc})\n",
    "\n",
    "    # 提取主要ROUGE指标（如ROUGE-1、ROUGE-2、ROUGE-L）\n",
    "    # 取平均值作为最终结果\n",
    "    # result = {key: value.mid.fmeasure * 100 for key, value in result.items()}\n",
    "    return {k: round(v, 4) for k, v in result.items()}"
   ]
  },
  {
   "cell_type": "code",
   "execution_count": 91,
   "id": "21ba61fa",
   "metadata": {},
   "outputs": [
    {
     "name": "stderr",
     "output_type": "stream",
     "text": [
      "C:\\Users\\1\\AppData\\Roaming\\Python\\Python311\\site-packages\\transformers\\training_args.py:1611: FutureWarning: `evaluation_strategy` is deprecated and will be removed in version 4.46 of 🤗 Transformers. Use `eval_strategy` instead\n",
      "  warnings.warn(\n"
     ]
    }
   ],
   "source": [
    "from transformers import TrainingArguments, Trainer\n",
    "\n",
    "training_args = TrainingArguments(\n",
    "    \"output\",\n",
    "    evaluation_strategy=\"epoch\",\n",
    "    learning_rate=1e-3,\n",
    "    gradient_accumulation_steps=1,\n",
    "    # auto_find_batch_size=True, # 自动设置batch_size（学习）\n",
    "    per_device_train_batch_size=64,\n",
    "    per_device_eval_batch_size=32,\n",
    "    num_train_epochs=3,\n",
    "    save_strategy=\"epoch\",\n",
    "    save_total_limit=3,\n",
    "    logging_strategy=\"steps\",  # 按步骤记录日志\n",
    "    logging_steps=10,  # 每10步记录一次训练损失\n",
    "    label_names=[\"labels\"],\n",
    ")"
   ]
  },
  {
   "cell_type": "code",
   "execution_count": 92,
   "id": "a5a931fd",
   "metadata": {},
   "outputs": [],
   "source": [
    "model.train()\n",
    "trainer = Trainer(\n",
    "    model=model,\n",
    "    args=training_args,\n",
    "    train_dataset=train_dataset,\n",
    "    eval_dataset=eval_dataset,\n",
    "    compute_metrics=compute_metrics,\n",
    ")"
   ]
  },
  {
   "cell_type": "code",
   "execution_count": 93,
   "id": "392eb0fc",
   "metadata": {},
   "outputs": [
    {
     "name": "stderr",
     "output_type": "stream",
     "text": [
      "Passing a tuple of `past_key_values` is deprecated and will be removed in Transformers v4.48.0. You should pass an instance of `EncoderDecoderCache` instead, e.g. `past_key_values=EncoderDecoderCache.from_legacy_cache(past_key_values)`.\n"
     ]
    },
    {
     "data": {
      "text/html": [
       "\n",
       "    <div>\n",
       "      \n",
       "      <progress value='96' max='96' style='width:300px; height:20px; vertical-align: middle;'></progress>\n",
       "      [96/96 00:33, Epoch 3/3]\n",
       "    </div>\n",
       "    <table border=\"1\" class=\"dataframe\">\n",
       "  <thead>\n",
       " <tr style=\"text-align: left;\">\n",
       "      <th>Epoch</th>\n",
       "      <th>Training Loss</th>\n",
       "      <th>Validation Loss</th>\n",
       "      <th>Rouge1</th>\n",
       "      <th>Rouge2</th>\n",
       "      <th>Rougel</th>\n",
       "      <th>Rougelsum</th>\n",
       "      <th>Acc</th>\n",
       "    </tr>\n",
       "  </thead>\n",
       "  <tbody>\n",
       "    <tr>\n",
       "      <td>1</td>\n",
       "      <td>0.622500</td>\n",
       "      <td>0.089998</td>\n",
       "      <td>0.867800</td>\n",
       "      <td>0.000000</td>\n",
       "      <td>0.867800</td>\n",
       "      <td>0.867800</td>\n",
       "      <td>0.867800</td>\n",
       "    </tr>\n",
       "    <tr>\n",
       "      <td>2</td>\n",
       "      <td>0.058900</td>\n",
       "      <td>0.040104</td>\n",
       "      <td>0.933900</td>\n",
       "      <td>0.000000</td>\n",
       "      <td>0.933900</td>\n",
       "      <td>0.933900</td>\n",
       "      <td>0.933900</td>\n",
       "    </tr>\n",
       "    <tr>\n",
       "      <td>3</td>\n",
       "      <td>0.049500</td>\n",
       "      <td>0.029371</td>\n",
       "      <td>0.951500</td>\n",
       "      <td>0.000000</td>\n",
       "      <td>0.951500</td>\n",
       "      <td>0.951500</td>\n",
       "      <td>0.951500</td>\n",
       "    </tr>\n",
       "  </tbody>\n",
       "</table><p>"
      ],
      "text/plain": [
       "<IPython.core.display.HTML object>"
      ]
     },
     "metadata": {},
     "output_type": "display_data"
    },
    {
     "data": {
      "text/plain": [
       "TrainOutput(global_step=96, training_loss=1.2615819776741166, metrics={'train_runtime': 34.2866, 'train_samples_per_second': 178.233, 'train_steps_per_second': 2.8, 'total_flos': 938639988228096.0, 'train_loss': 1.2615819776741166, 'epoch': 3.0})"
      ]
     },
     "execution_count": 93,
     "metadata": {},
     "output_type": "execute_result"
    }
   ],
   "source": [
    "trainer.train()"
   ]
  },
  {
   "cell_type": "code",
   "execution_count": null,
   "id": "31879c32",
   "metadata": {},
   "outputs": [],
   "source": []
  }
 ],
 "metadata": {
  "kernelspec": {
   "display_name": "llm",
   "language": "python",
   "name": "python3"
  },
  "language_info": {
   "codemirror_mode": {
    "name": "ipython",
    "version": 3
   },
   "file_extension": ".py",
   "mimetype": "text/x-python",
   "name": "python",
   "nbconvert_exporter": "python",
   "pygments_lexer": "ipython3",
   "version": "3.11.7"
  }
 },
 "nbformat": 4,
 "nbformat_minor": 5
}
