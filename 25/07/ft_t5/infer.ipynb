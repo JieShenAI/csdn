{
 "cells": [
  {
   "cell_type": "code",
   "execution_count": 2,
   "id": "857ddeec",
   "metadata": {},
   "outputs": [],
   "source": [
    "import os\n",
    "import torch\n",
    "\n",
    "\n",
    "from datasets import load_dataset\n",
    "from transformers import AutoModelForSeq2SeqLM, AutoTokenizer, BitsAndBytesConfig\n",
    "import numpy as np\n",
    "\n",
    "# 设置镜像地址\n",
    "# os.environ[\"HF_ENDPOINT\"] = \"https://hf-mirror.com\"\n",
    "# os.environ[\"HF_HUB_ENDPOINT\"] = \"https://hf-mirror.com\"\n",
    "\n",
    "# SDK模型下载\n",
    "from modelscope import snapshot_download\n",
    "\n",
    "# model_dir = snapshot_download('output/checkpoint-96')\n",
    "model_dir = \"output/checkpoint-96\"\n",
    "# model_name = \"/home/valiantsec/phb/models/flan-t5-small\"\n",
    "model = AutoModelForSeq2SeqLM.from_pretrained(model_dir, device_map=\"auto\")\n",
    "tokenizer = AutoTokenizer.from_pretrained(model_dir)"
   ]
  },
  {
   "cell_type": "code",
   "execution_count": null,
   "id": "d256c469",
   "metadata": {},
   "outputs": [
    {
     "name": "stdout",
     "output_type": "stream",
     "text": [
      "neutral\n"
     ]
    }
   ],
   "source": [
    "model.eval()\n",
    "\n",
    "\n",
    "while 1:\n",
    "    user_input = input(\"请输入：\")\n",
    "    tokens = tokenizer(user_input, return_tensors=\"pt\")\n",
    "    for k, v in tokens.items():\n",
    "        tokens[k] = v.to(\"cuda\")\n",
    "    output = model.generate(**tokens)\n",
    "    print(tokenizer.decode(output[0], skip_special_tokens=True))"
   ]
  },
  {
   "cell_type": "code",
   "execution_count": null,
   "id": "6c61edfb",
   "metadata": {},
   "outputs": [],
   "source": []
  }
 ],
 "metadata": {
  "kernelspec": {
   "display_name": "llm",
   "language": "python",
   "name": "python3"
  },
  "language_info": {
   "codemirror_mode": {
    "name": "ipython",
    "version": 3
   },
   "file_extension": ".py",
   "mimetype": "text/x-python",
   "name": "python",
   "nbconvert_exporter": "python",
   "pygments_lexer": "ipython3",
   "version": "3.11.7"
  }
 },
 "nbformat": 4,
 "nbformat_minor": 5
}
