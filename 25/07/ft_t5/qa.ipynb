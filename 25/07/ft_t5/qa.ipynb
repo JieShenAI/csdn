{
 "cells": [
  {
   "cell_type": "code",
   "execution_count": null,
   "id": "d3172409",
   "metadata": {},
   "outputs": [],
   "source": [
    "# model.config.label_pad_token_id = -100\n",
    "\n",
    "# # @title Step 11: Defining a Data Collator\n",
    "# from transformers import DataCollatorForSeq2Seq\n",
    "\n",
    "# # data_collator = DataCollatorForSeq2Seq(tokenizer=tokenizer, model=model, label_pad_token_id=-100, pad_to_multiple_of=8)\n",
    "# data_collator = DataCollatorForSeq2Seq(tokenizer=tokenizer, model=model, pad_to_multiple_of=8)\n",
    "# seq2seq_test_data = data_collator((train_dataset[0], train_dataset[1], train_dataset[2]))\n",
    "# seq2seq_test_data[\"labels\"]"
   ]
  },
  {
   "cell_type": "code",
   "execution_count": null,
   "id": "e943a24b",
   "metadata": {},
   "outputs": [],
   "source": [
    "import os\n",
    "import torch\n",
    "\n",
    "\n",
    "from datasets import load_dataset\n",
    "from transformers import AutoModelForSeq2SeqLM, AutoTokenizer, BitsAndBytesConfig\n",
    "import numpy as np\n",
    "\n",
    "# 设置镜像地址\n",
    "# os.environ[\"HF_ENDPOINT\"] = \"https://hf-mirror.com\"\n",
    "# os.environ[\"HF_HUB_ENDPOINT\"] = \"https://hf-mirror.com\"\n",
    "\n",
    "#SDK模型下载\n",
    "from modelscope import snapshot_download\n",
    "model_dir = snapshot_download('AI-ModelScope/t5-base')\n",
    "\n",
    "# model_name = \"/home/valiantsec/phb/models/flan-t5-small\"\n",
    "model = AutoModelForSeq2SeqLM.from_pretrained(model_dir, device_map=\"auto\")\n",
    "tokenizer = AutoTokenizer.from_pretrained(model_dir)"
   ]
  },
  {
   "cell_type": "code",
   "execution_count": null,
   "id": "0cb4f1ec",
   "metadata": {},
   "outputs": [],
   "source": [
    "from tqdm import tqdm"
   ]
  },
  {
   "cell_type": "code",
   "execution_count": null,
   "id": "b91220ae",
   "metadata": {},
   "outputs": [],
   "source": [
    "tokenizer.encode(\"你好！Hello!\")"
   ]
  },
  {
   "cell_type": "markdown",
   "id": "65b0c1d7",
   "metadata": {},
   "source": [
    "找一个英文翻译到中文的数据集"
   ]
  },
  {
   "cell_type": "code",
   "execution_count": null,
   "id": "09225543",
   "metadata": {},
   "outputs": [],
   "source": [
    "from datasets import load_dataset\n",
    "\n",
    "dataset = load_dataset(\"Helsinki-NLP/news_commentary\", \"en-zh\", trust_remote_code=True)"
   ]
  },
  {
   "cell_type": "code",
   "execution_count": null,
   "id": "f3fb90f0",
   "metadata": {},
   "outputs": [],
   "source": [
    "dataset"
   ]
  },
  {
   "cell_type": "code",
   "execution_count": null,
   "id": "24727dcd",
   "metadata": {},
   "outputs": [],
   "source": [
    "# zh_en_dataset = load_dataset(\"Helsinki-NLP/news_commentary\", \"zh-en\", trust_remote_code=True)"
   ]
  },
  {
   "cell_type": "code",
   "execution_count": null,
   "id": "25c07367",
   "metadata": {},
   "outputs": [],
   "source": [
    "import re\n",
    "\n",
    "\n",
    "def is_chinese_char(char):\n",
    "    return bool(re.match(r\"[\\u4e00-\\u9fff]\", char))\n",
    "\n",
    "\n",
    "is_chinese_char(\"中\"), is_chinese_char(\" \"), is_chinese_char(\"\"), is_chinese_char(\n",
    "    \"a\"\n",
    ")"
   ]
  },
  {
   "cell_type": "code",
   "execution_count": null,
   "id": "e004729a",
   "metadata": {},
   "outputs": [],
   "source": [
    "len(tokenizer)"
   ]
  },
  {
   "cell_type": "code",
   "execution_count": null,
   "id": "a42fd994",
   "metadata": {},
   "outputs": [],
   "source": [
    "def get_only_word(raw_dataset):\n",
    "    \"\"\"\n",
    "    拿到每一个唯一的中文字\n",
    "    \"\"\"\n",
    "    words = set()\n",
    "    for item in raw_dataset:\n",
    "        text = item[\"translation\"][\"zh\"]\n",
    "        for word in text:\n",
    "            if is_chinese_char(word):\n",
    "                words.add(word)\n",
    "    return words\n",
    "\n",
    "zh_words = get_only_word(dataset[\"train\"])"
   ]
  },
  {
   "cell_type": "code",
   "execution_count": null,
   "id": "34133f00",
   "metadata": {},
   "outputs": [],
   "source": [
    "for zh_word in tqdm(zh_words):\n",
    "    tokenizer.add_tokens(zh_word)"
   ]
  },
  {
   "cell_type": "code",
   "execution_count": null,
   "id": "4f658e80",
   "metadata": {},
   "outputs": [],
   "source": [
    "len(tokenizer)"
   ]
  },
  {
   "cell_type": "markdown",
   "id": "91c7a70c",
   "metadata": {},
   "source": [
    "model的embedding改成36484, 36500"
   ]
  },
  {
   "cell_type": "code",
   "execution_count": null,
   "id": "e6b0e906",
   "metadata": {},
   "outputs": [],
   "source": [
    "model.shared"
   ]
  },
  {
   "cell_type": "code",
   "execution_count": null,
   "id": "636fad3d",
   "metadata": {},
   "outputs": [],
   "source": [
    "model.resize_token_embeddings(len(tokenizer))"
   ]
  },
  {
   "cell_type": "code",
   "execution_count": null,
   "id": "f411124f",
   "metadata": {},
   "outputs": [],
   "source": [
    "def process_dataset(batch_item):\n",
    "    # item = item[\"translation\"]\n",
    "    # en_text = item[\"en\"]\n",
    "    # zh_text = item[\"zh\"]\n",
    "    en_texts = [t[\"en\"] for t in batch_item[\"translation\"]]\n",
    "    zh_texts = [t[\"zh\"] for t in batch_item[\"translation\"]]\n",
    "    en_tokens = tokenizer(\n",
    "        en_texts,\n",
    "        max_length=128,\n",
    "        padding=True,\n",
    "        truncation=True,\n",
    "        return_tensors=\"pt\",\n",
    "    )\n",
    "    zh_tokens = tokenizer(\n",
    "        zh_texts,\n",
    "        max_length=128,\n",
    "        padding=True,\n",
    "        truncation=True,\n",
    "        return_tensors=\"pt\",\n",
    "    )\n",
    "    en_tokens[\"labels\"] = zh_tokens[\"input_ids\"]\n",
    "    en_tokens[\"labels\"][en_tokens[\"labels\"] == tokenizer.pad_token_id] = -100\n",
    "    return en_tokens"
   ]
  },
  {
   "cell_type": "code",
   "execution_count": null,
   "id": "e00f472e",
   "metadata": {},
   "outputs": [],
   "source": [
    "dataset[\"train\"][0]"
   ]
  },
  {
   "cell_type": "code",
   "execution_count": null,
   "id": "f5bab100",
   "metadata": {},
   "outputs": [],
   "source": [
    "train_dataset, eval_dataset = dataset[\"train\"].train_test_split(test_size=0.2).values()"
   ]
  },
  {
   "cell_type": "code",
   "execution_count": null,
   "id": "84642268",
   "metadata": {},
   "outputs": [],
   "source": [
    "train_dataset, eval_dataset"
   ]
  },
  {
   "cell_type": "code",
   "execution_count": null,
   "id": "f92c1b03",
   "metadata": {},
   "outputs": [],
   "source": [
    "train_dataset = train_dataset.map(\n",
    "    process_dataset,\n",
    "    batched=True,\n",
    "    num_proc=1,\n",
    "    remove_columns=train_dataset.column_names,\n",
    "    load_from_cache_file=False,\n",
    "    desc=\"Running tokenizer on dataset\",\n",
    ")\n",
    "\n",
    "eval_dataset = eval_dataset.map(\n",
    "    process_dataset,\n",
    "    batched=True,\n",
    "    num_proc=1,\n",
    "    remove_columns=eval_dataset.column_names,\n",
    "    load_from_cache_file=False,\n",
    "    desc=\"Running tokenizer on dataset\",\n",
    ")"
   ]
  },
  {
   "cell_type": "code",
   "execution_count": null,
   "id": "f66e942b",
   "metadata": {},
   "outputs": [],
   "source": []
  },
  {
   "cell_type": "code",
   "execution_count": null,
   "id": "453eed2d",
   "metadata": {},
   "outputs": [],
   "source": [
    "train_dataset[0]"
   ]
  },
  {
   "cell_type": "code",
   "execution_count": null,
   "id": "c0d788da",
   "metadata": {},
   "outputs": [],
   "source": [
    "from transformers import DataCollatorForSeq2Seq\n",
    "\n",
    "# data_collator = DataCollatorForSeq2Seq(tokenizer=tokenizer, model=model, label_pad_token_id=-100, pad_to_multiple_of=8)\n",
    "data_collator = DataCollatorForSeq2Seq(tokenizer=tokenizer, model=model)\n",
    "seq2seq_test_data = data_collator((train_dataset[0], train_dataset[1], train_dataset[2]))\n",
    "seq2seq_test_data[\"labels\"]"
   ]
  },
  {
   "cell_type": "code",
   "execution_count": null,
   "id": "23daa7c8",
   "metadata": {},
   "outputs": [],
   "source": [
    "import evaluate\n",
    "\n",
    "# 加载ROUGE评估指标\n",
    "# metric = load_metric(\"rouge\")\n",
    "metric = evaluate.load(\"rouge\")\n",
    "\n",
    "result = metric.compute(\n",
    "        predictions=[\"hello world\"], \n",
    "        references=[\"hello new world\"],\n",
    "        use_stemmer=True  # 使用词干提取以提高匹配度\n",
    "    )\n",
    "result"
   ]
  },
  {
   "cell_type": "code",
   "execution_count": null,
   "id": "80a9fd2e",
   "metadata": {},
   "outputs": [],
   "source": [
    "def compute_metrics(eval_pred):\n",
    "    \"\"\"生成式任务的评估函数\"\"\"\n",
    "    predictions, labels = eval_pred\n",
    "    predictions = predictions[0].argmax(-1)\n",
    "\n",
    "    # 解码生成的文本（模型预测）\n",
    "    decoded_preds = tokenizer.batch_decode(predictions, skip_special_tokens=True)\n",
    "\n",
    "    # 解码目标文本（真实标签）\n",
    "    # 替换-100为pad_token_id以正确解码\n",
    "    labels = np.where(labels != -100, labels, tokenizer.pad_token_id)\n",
    "    decoded_labels = tokenizer.batch_decode(labels, skip_special_tokens=True)\n",
    "\n",
    "    # 可选：简单后处理（如去除换行符）\n",
    "    decoded_preds = [pred.strip() for pred in decoded_preds]\n",
    "    decoded_labels = [label.strip() for label in decoded_labels]\n",
    "\n",
    "    right = 0\n",
    "    for pred, label in zip(decoded_preds, decoded_labels):\n",
    "        if pred == label:\n",
    "            right += 1\n",
    "\n",
    "    # 计算ROUGE分数\n",
    "    result = metric.compute(\n",
    "        predictions=decoded_preds,\n",
    "        references=decoded_labels,\n",
    "        use_stemmer=True,  # 使用词干提取以提高匹配度\n",
    "    )\n",
    "\n",
    "    # 提取主要ROUGE指标（如ROUGE-1、ROUGE-2、ROUGE-L）\n",
    "    # 取平均值作为最终结果\n",
    "    # result = {key: value.mid.fmeasure * 100 for key, value in result.items()}\n",
    "    return {k: round(v, 4) for k, v in result.items()}"
   ]
  },
  {
   "cell_type": "code",
   "execution_count": null,
   "id": "109cc3aa",
   "metadata": {},
   "outputs": [],
   "source": [
    "from transformers import TrainingArguments, Trainer\n",
    "\n",
    "training_args = TrainingArguments(\n",
    "    \"output/en_zh\",\n",
    "    evaluation_strategy=\"epoch\",\n",
    "    # learning_rate=3e-4,\n",
    "    gradient_accumulation_steps=1,\n",
    "    auto_find_batch_size=True,  # 自动设置batch_size（学习）\n",
    "    # per_device_train_batch_size=64,\n",
    "    # per_device_eval_batch_size=32,\n",
    "    num_train_epochs=3,\n",
    "    save_strategy=\"epoch\",\n",
    "    save_total_limit=3,\n",
    "    logging_strategy=\"steps\",  # 按步骤记录日志\n",
    "    logging_steps=10,  # 每10步记录一次训练损失\n",
    "    label_names=[\"labels\"],\n",
    "    learning_rate=5e-5,  # 更安全\n",
    "    warmup_steps=500,  # 推荐加上\n",
    "    weight_decay=0.01,  # 可提高泛化能力\n",
    ")"
   ]
  },
  {
   "cell_type": "code",
   "execution_count": null,
   "id": "adc5059a",
   "metadata": {},
   "outputs": [],
   "source": [
    "model.train()\n",
    "trainer = Trainer(\n",
    "    model=model,\n",
    "    args=training_args,\n",
    "    train_dataset=train_dataset,\n",
    "    eval_dataset=eval_dataset,\n",
    "    compute_metrics=compute_metrics,\n",
    "    data_collator=data_collator,\n",
    ")"
   ]
  },
  {
   "cell_type": "code",
   "execution_count": null,
   "id": "ba6fe1df",
   "metadata": {},
   "outputs": [],
   "source": [
    "trainer.train()"
   ]
  }
 ],
 "metadata": {
  "kernelspec": {
   "display_name": "llm",
   "language": "python",
   "name": "python3"
  },
  "language_info": {
   "codemirror_mode": {
    "name": "ipython",
    "version": 3
   },
   "file_extension": ".py",
   "mimetype": "text/x-python",
   "name": "python",
   "nbconvert_exporter": "python",
   "pygments_lexer": "ipython3",
   "version": "3.11.7"
  }
 },
 "nbformat": 4,
 "nbformat_minor": 5
}
